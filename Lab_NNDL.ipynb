{
 "cells": [
  {
   "cell_type": "markdown",
   "metadata": {
    "id": "3ukwOXvX_EV1"
   },
   "source": [
    "<img src=\"http://drive.google.com/uc?export=view&id=1tpOCamr9aWz817atPnyXus8w5gJ3mIts\" width=500px>"
   ]
  },
  {
   "cell_type": "markdown",
   "metadata": {
    "id": "j9QC42UQq5Lk"
   },
   "source": [
    "## Lab on NNDL Part 1: Tensorflow Basic"
   ]
  },
  {
   "cell_type": "markdown",
   "metadata": {
    "id": "g_vbQDYan7_7"
   },
   "source": [
    "### Tensors\n",
    "\n",
    "Tensors are multi-dimensional arrays with a uniform type"
   ]
  },
  {
   "cell_type": "markdown",
   "metadata": {
    "id": "tCkxkFqIoUIR"
   },
   "source": [
    "##Question 1\n"
   ]
  },
  {
   "cell_type": "markdown",
   "metadata": {
    "id": "7V8C8aa0rGgN"
   },
   "source": [
    "### Create a rank-0 tensor\n",
    "- A \"scalar\" is called \"rank-0\" tensor\n",
    "- the tensor should contain value 99.99"
   ]
  },
  {
   "cell_type": "code",
   "execution_count": 1,
   "metadata": {
    "id": "CmKTQCizra4b"
   },
   "outputs": [],
   "source": [
    "import tensorflow as tf\n",
    "import warnings\n",
    "warnings.filterwarnings('ignore')"
   ]
  },
  {
   "cell_type": "code",
   "execution_count": 2,
   "metadata": {
    "id": "B6H2X7SinZbZ"
   },
   "outputs": [],
   "source": [
    "tf1 = tf.constant(99.99)"
   ]
  },
  {
   "cell_type": "code",
   "execution_count": 3,
   "metadata": {},
   "outputs": [
    {
     "data": {
      "text/plain": [
       "TensorShape([])"
      ]
     },
     "execution_count": 3,
     "metadata": {},
     "output_type": "execute_result"
    }
   ],
   "source": [
    "tf1.shape"
   ]
  },
  {
   "cell_type": "markdown",
   "metadata": {
    "id": "xRm8MfpVrkyz"
   },
   "source": [
    "# Create a rank-1 tensor\n",
    "\n",
    "- A \"vector\" (list) is called \"rank-1\" tensor [9,8,7,6,5]\n",
    "- A vector has one axis"
   ]
  },
  {
   "cell_type": "code",
   "execution_count": 4,
   "metadata": {
    "id": "_TvWoaBOnZXX"
   },
   "outputs": [],
   "source": [
    "tf2 = tf.constant([9,8,7,6,5])"
   ]
  },
  {
   "cell_type": "code",
   "execution_count": 5,
   "metadata": {},
   "outputs": [
    {
     "data": {
      "text/plain": [
       "TensorShape([5])"
      ]
     },
     "execution_count": 5,
     "metadata": {},
     "output_type": "execute_result"
    }
   ],
   "source": [
    "tf2.shape"
   ]
  },
  {
   "cell_type": "code",
   "execution_count": 6,
   "metadata": {},
   "outputs": [
    {
     "data": {
      "text/plain": [
       "1"
      ]
     },
     "execution_count": 6,
     "metadata": {},
     "output_type": "execute_result"
    }
   ],
   "source": [
    "tf2.ndim"
   ]
  },
  {
   "cell_type": "markdown",
   "metadata": {
    "id": "KtiVmuAAsJjP"
   },
   "source": [
    "### Add 7 to all the elements of the above created tensor\n",
    "- Use Broadcasting"
   ]
  },
  {
   "cell_type": "code",
   "execution_count": 7,
   "metadata": {
    "id": "lENBbpfIsskl"
   },
   "outputs": [],
   "source": [
    "tf3 = tf.add(7,[9,8,7,6,5])"
   ]
  },
  {
   "cell_type": "code",
   "execution_count": 8,
   "metadata": {},
   "outputs": [
    {
     "data": {
      "text/plain": [
       "TensorShape([5])"
      ]
     },
     "execution_count": 8,
     "metadata": {},
     "output_type": "execute_result"
    }
   ],
   "source": [
    "tf3.shape"
   ]
  },
  {
   "cell_type": "code",
   "execution_count": 9,
   "metadata": {},
   "outputs": [
    {
     "name": "stdout",
     "output_type": "stream",
     "text": [
      "tf.Tensor([16 15 14 13 12], shape=(5,), dtype=int32)\n"
     ]
    }
   ],
   "source": [
    "print(tf3)"
   ]
  },
  {
   "cell_type": "markdown",
   "metadata": {
    "id": "U9QVsYQwtR9u"
   },
   "source": [
    "### Create a rank-2 tensor\n",
    "[[1, 2, 3], [ 4,5,6]]\n",
    "- A \"matrix\"  \"is called rank-2\" tensor\n",
    "- It has 2 axes"
   ]
  },
  {
   "cell_type": "code",
   "execution_count": 10,
   "metadata": {
    "id": "IZx8BooXnZUr"
   },
   "outputs": [],
   "source": [
    "tf4 = tf.constant([[1, 2, 3], [ 4,5,6]])"
   ]
  },
  {
   "cell_type": "code",
   "execution_count": 11,
   "metadata": {},
   "outputs": [
    {
     "data": {
      "text/plain": [
       "TensorShape([2, 3])"
      ]
     },
     "execution_count": 11,
     "metadata": {},
     "output_type": "execute_result"
    }
   ],
   "source": [
    "tf4.shape"
   ]
  },
  {
   "cell_type": "code",
   "execution_count": 12,
   "metadata": {},
   "outputs": [
    {
     "name": "stdout",
     "output_type": "stream",
     "text": [
      "tf.Tensor(\n",
      "[[1 2 3]\n",
      " [4 5 6]], shape=(2, 3), dtype=int32)\n"
     ]
    }
   ],
   "source": [
    "print(tf4)"
   ]
  },
  {
   "cell_type": "markdown",
   "metadata": {
    "id": "mrnIxOUmvX_M"
   },
   "source": [
    "### Change the shape of the above created tensor to shape (3,2)"
   ]
  },
  {
   "cell_type": "code",
   "execution_count": 13,
   "metadata": {
    "id": "YdSy6RQLvXbi"
   },
   "outputs": [],
   "source": [
    "tf5 = tf.reshape(tf4,(3,2))"
   ]
  },
  {
   "cell_type": "code",
   "execution_count": 14,
   "metadata": {
    "id": "IZfvYZ_8wH4S"
   },
   "outputs": [
    {
     "data": {
      "text/plain": [
       "TensorShape([3, 2])"
      ]
     },
     "execution_count": 14,
     "metadata": {},
     "output_type": "execute_result"
    }
   ],
   "source": [
    "tf5.shape"
   ]
  },
  {
   "cell_type": "code",
   "execution_count": 15,
   "metadata": {},
   "outputs": [
    {
     "name": "stdout",
     "output_type": "stream",
     "text": [
      "tf.Tensor(\n",
      "[[1 2]\n",
      " [3 4]\n",
      " [5 6]], shape=(3, 2), dtype=int32)\n"
     ]
    }
   ],
   "source": [
    "print(tf5)"
   ]
  },
  {
   "cell_type": "markdown",
   "metadata": {
    "id": "1ZXjABdNuWAT"
   },
   "source": [
    "### Check the dtype, number of axes and the shape of tensor"
   ]
  },
  {
   "cell_type": "code",
   "execution_count": 16,
   "metadata": {
    "id": "vXj5xnbEuUwz"
   },
   "outputs": [
    {
     "data": {
      "text/plain": [
       "tf.int32"
      ]
     },
     "execution_count": 16,
     "metadata": {},
     "output_type": "execute_result"
    }
   ],
   "source": [
    "tf5.dtype"
   ]
  },
  {
   "cell_type": "code",
   "execution_count": 17,
   "metadata": {},
   "outputs": [
    {
     "data": {
      "text/plain": [
       "TensorShape([3, 2])"
      ]
     },
     "execution_count": 17,
     "metadata": {},
     "output_type": "execute_result"
    }
   ],
   "source": [
    "tf5.shape"
   ]
  },
  {
   "cell_type": "code",
   "execution_count": 18,
   "metadata": {},
   "outputs": [
    {
     "name": "stdout",
     "output_type": "stream",
     "text": [
      "tf.Tensor(\n",
      "[[1 2]\n",
      " [3 4]\n",
      " [5 6]], shape=(3, 2), dtype=int32)\n"
     ]
    }
   ],
   "source": [
    "print(tf5)"
   ]
  },
  {
   "cell_type": "markdown",
   "metadata": {
    "id": "yGsgzedZvB54"
   },
   "source": [
    "- Tensors can have more axes, like rank-3 or rank-4 tensor"
   ]
  },
  {
   "cell_type": "markdown",
   "metadata": {
    "id": "qYvGihNn_D2K"
   },
   "source": [
    "##Lab on NNDL Part 2: Cars selling price prediction"
   ]
  },
  {
   "cell_type": "markdown",
   "metadata": {
    "id": "S7nm5pOt_DkP"
   },
   "source": [
    "### Data Set -\n",
    "Domain: Finance, Business \n",
    "Data: https://www.kaggle.com/nehalbirla/vehicle-dataset-from-cardekho?select=Car+details+v3.csv\n",
    "\n",
    "The data contains various features of used cars.\n",
    "\n",
    "#### Features\n",
    "\n",
    "1. year\n",
    "\n",
    "2. selling_price: Price at which it was sold (**Target Feature**)\n",
    "\n",
    "3. km_driven\n",
    "\n",
    "4. fuel\n",
    "\n",
    "5. seller_type\n",
    "\n",
    "6. transmission\n",
    "\n",
    "7. Owner\n",
    "\n",
    "8. mileage\n",
    "\n",
    "9. engine\n",
    "\n",
    "10. max_power\n",
    "\n",
    "11. seats\n",
    "\n",
    " - - - - - - - - - - - - - - - - - - - - - - - - - - - - - - - - - - - - - - - - - - - - - - - "
   ]
  },
  {
   "cell_type": "markdown",
   "metadata": {
    "id": "YeoiMbH7djEv"
   },
   "source": [
    "##Objective\n",
    "\n",
    "Predict the selling price of used cars based on the given features"
   ]
  },
  {
   "cell_type": "markdown",
   "metadata": {
    "id": "sZXp-T3-xRNN"
   },
   "source": [
    "## Steps to perform:\n",
    "\n",
    "#### 1. Import important Libraries\n",
    "#### 2. Import Dataset and exploration\n",
    "#### 3. Data Pre-processing\n",
    "#### 4. Training a Neural Network Model\n",
    "#### 5. Evaluating the model\n",
    "#### 6. Conclusion\n",
    "\n",
    "\n",
    "- - - - - - - - - - - - - - - - - - - - - - - - - - - - - - - - - - - - - - - - - - - - - - - - - - -\n",
    "\n",
    "\n",
    "- - - - - - - - - - - - - - - - - - - - - - - - - - - - - - - - - - - - - - - - - - - - - - - - - - -\n"
   ]
  },
  {
   "cell_type": "markdown",
   "metadata": {
    "id": "pvJ1pMTuzUkv"
   },
   "source": [
    "### Import important libraries"
   ]
  },
  {
   "cell_type": "code",
   "execution_count": 19,
   "metadata": {
    "id": "PGqq9f8VdLba"
   },
   "outputs": [
    {
     "name": "stderr",
     "output_type": "stream",
     "text": [
      "Using TensorFlow backend.\n"
     ]
    }
   ],
   "source": [
    "import pandas as pd,numpy as np\n",
    "from sklearn.model_selection import train_test_split\n",
    "from sklearn.preprocessing import StandardScaler\n",
    "import keras"
   ]
  },
  {
   "cell_type": "markdown",
   "metadata": {
    "id": "_88voqAH-O6J"
   },
   "source": [
    "## Question 1"
   ]
  },
  {
   "cell_type": "markdown",
   "metadata": {
    "id": "dRHCeJqP-evf"
   },
   "source": [
    "### Load the data\n",
    "- Load the data, check the shape of data"
   ]
  },
  {
   "cell_type": "code",
   "execution_count": 20,
   "metadata": {
    "id": "Gr4YcffYd1FQ"
   },
   "outputs": [],
   "source": [
    "df = pd.read_csv(r'C:\\Users\\RKRIS\\Downloads\\car_data-1.csv')"
   ]
  },
  {
   "cell_type": "code",
   "execution_count": 21,
   "metadata": {
    "id": "-gDC6cSW_FSK"
   },
   "outputs": [
    {
     "name": "stdout",
     "output_type": "stream",
     "text": [
      "(8128, 11)\n"
     ]
    },
    {
     "data": {
      "text/html": [
       "<div>\n",
       "<style scoped>\n",
       "    .dataframe tbody tr th:only-of-type {\n",
       "        vertical-align: middle;\n",
       "    }\n",
       "\n",
       "    .dataframe tbody tr th {\n",
       "        vertical-align: top;\n",
       "    }\n",
       "\n",
       "    .dataframe thead th {\n",
       "        text-align: right;\n",
       "    }\n",
       "</style>\n",
       "<table border=\"1\" class=\"dataframe\">\n",
       "  <thead>\n",
       "    <tr style=\"text-align: right;\">\n",
       "      <th></th>\n",
       "      <th>year</th>\n",
       "      <th>selling_price</th>\n",
       "      <th>km_driven</th>\n",
       "      <th>fuel</th>\n",
       "      <th>seller_type</th>\n",
       "      <th>transmission</th>\n",
       "      <th>owner</th>\n",
       "      <th>mileage</th>\n",
       "      <th>engine</th>\n",
       "      <th>max_power</th>\n",
       "      <th>seats</th>\n",
       "    </tr>\n",
       "  </thead>\n",
       "  <tbody>\n",
       "    <tr>\n",
       "      <th>0</th>\n",
       "      <td>2014</td>\n",
       "      <td>450000</td>\n",
       "      <td>145500</td>\n",
       "      <td>Diesel</td>\n",
       "      <td>Individual</td>\n",
       "      <td>Manual</td>\n",
       "      <td>First Owner</td>\n",
       "      <td>23.4 kmpl</td>\n",
       "      <td>1248 CC</td>\n",
       "      <td>74 bhp</td>\n",
       "      <td>5.0</td>\n",
       "    </tr>\n",
       "    <tr>\n",
       "      <th>1</th>\n",
       "      <td>2014</td>\n",
       "      <td>370000</td>\n",
       "      <td>120000</td>\n",
       "      <td>Diesel</td>\n",
       "      <td>Individual</td>\n",
       "      <td>Manual</td>\n",
       "      <td>Second Owner</td>\n",
       "      <td>21.14 kmpl</td>\n",
       "      <td>1498 CC</td>\n",
       "      <td>103.52 bhp</td>\n",
       "      <td>5.0</td>\n",
       "    </tr>\n",
       "    <tr>\n",
       "      <th>2</th>\n",
       "      <td>2006</td>\n",
       "      <td>158000</td>\n",
       "      <td>140000</td>\n",
       "      <td>Petrol</td>\n",
       "      <td>Individual</td>\n",
       "      <td>Manual</td>\n",
       "      <td>Third Owner</td>\n",
       "      <td>17.7 kmpl</td>\n",
       "      <td>1497 CC</td>\n",
       "      <td>78 bhp</td>\n",
       "      <td>5.0</td>\n",
       "    </tr>\n",
       "    <tr>\n",
       "      <th>3</th>\n",
       "      <td>2010</td>\n",
       "      <td>225000</td>\n",
       "      <td>127000</td>\n",
       "      <td>Diesel</td>\n",
       "      <td>Individual</td>\n",
       "      <td>Manual</td>\n",
       "      <td>First Owner</td>\n",
       "      <td>23.0 kmpl</td>\n",
       "      <td>1396 CC</td>\n",
       "      <td>90 bhp</td>\n",
       "      <td>5.0</td>\n",
       "    </tr>\n",
       "    <tr>\n",
       "      <th>4</th>\n",
       "      <td>2007</td>\n",
       "      <td>130000</td>\n",
       "      <td>120000</td>\n",
       "      <td>Petrol</td>\n",
       "      <td>Individual</td>\n",
       "      <td>Manual</td>\n",
       "      <td>First Owner</td>\n",
       "      <td>16.1 kmpl</td>\n",
       "      <td>1298 CC</td>\n",
       "      <td>88.2 bhp</td>\n",
       "      <td>5.0</td>\n",
       "    </tr>\n",
       "  </tbody>\n",
       "</table>\n",
       "</div>"
      ],
      "text/plain": [
       "   year  selling_price  km_driven    fuel seller_type transmission  \\\n",
       "0  2014         450000     145500  Diesel  Individual       Manual   \n",
       "1  2014         370000     120000  Diesel  Individual       Manual   \n",
       "2  2006         158000     140000  Petrol  Individual       Manual   \n",
       "3  2010         225000     127000  Diesel  Individual       Manual   \n",
       "4  2007         130000     120000  Petrol  Individual       Manual   \n",
       "\n",
       "          owner     mileage   engine   max_power  seats  \n",
       "0   First Owner   23.4 kmpl  1248 CC      74 bhp    5.0  \n",
       "1  Second Owner  21.14 kmpl  1498 CC  103.52 bhp    5.0  \n",
       "2   Third Owner   17.7 kmpl  1497 CC      78 bhp    5.0  \n",
       "3   First Owner   23.0 kmpl  1396 CC      90 bhp    5.0  \n",
       "4   First Owner   16.1 kmpl  1298 CC    88.2 bhp    5.0  "
      ]
     },
     "execution_count": 21,
     "metadata": {},
     "output_type": "execute_result"
    }
   ],
   "source": [
    "print(df.shape)\n",
    "df.head()"
   ]
  },
  {
   "cell_type": "code",
   "execution_count": 22,
   "metadata": {
    "id": "cgAAxzef1m37"
   },
   "outputs": [
    {
     "name": "stdout",
     "output_type": "stream",
     "text": [
      "<class 'pandas.core.frame.DataFrame'>\n",
      "RangeIndex: 8128 entries, 0 to 8127\n",
      "Data columns (total 11 columns):\n",
      " #   Column         Non-Null Count  Dtype  \n",
      "---  ------         --------------  -----  \n",
      " 0   year           8128 non-null   int64  \n",
      " 1   selling_price  8128 non-null   int64  \n",
      " 2   km_driven      8128 non-null   int64  \n",
      " 3   fuel           8128 non-null   object \n",
      " 4   seller_type    8128 non-null   object \n",
      " 5   transmission   8128 non-null   object \n",
      " 6   owner          8128 non-null   object \n",
      " 7   mileage        7907 non-null   object \n",
      " 8   engine         7907 non-null   object \n",
      " 9   max_power      7913 non-null   object \n",
      " 10  seats          7907 non-null   float64\n",
      "dtypes: float64(1), int64(3), object(7)\n",
      "memory usage: 698.6+ KB\n",
      "None\n"
     ]
    }
   ],
   "source": [
    "print(df.info())"
   ]
  },
  {
   "cell_type": "markdown",
   "metadata": {
    "id": "HlLKVPVH_BCT"
   },
   "source": [
    "## Question 2"
   ]
  },
  {
   "cell_type": "markdown",
   "metadata": {
    "id": "ZxoGynuBeO4t"
   },
   "source": [
    "### Preprocess the data\n",
    "- Convert mileage, engine and max_power to numerical by extract numerical values from the strings\n",
    "- Label Encode: 'owner' column\n",
    "- One Hot Encode: 'fuel','seller_type','transmission' columns\n",
    "- Drop all the instances with null values"
   ]
  },
  {
   "cell_type": "code",
   "execution_count": 23,
   "metadata": {
    "id": "WMsPLgUw4XED"
   },
   "outputs": [],
   "source": [
    "def convert_numeric(x):\n",
    "    try:\n",
    "        if type(x) == str:\n",
    "            return float(x.split()[0])\n",
    "        else:\n",
    "            return x\n",
    "    except:\n",
    "        return np.nan"
   ]
  },
  {
   "cell_type": "code",
   "execution_count": 24,
   "metadata": {
    "id": "FPAQ-IBf4Z9k"
   },
   "outputs": [],
   "source": [
    "df['mileage']=df['mileage'].map(convert_numeric)"
   ]
  },
  {
   "cell_type": "code",
   "execution_count": 25,
   "metadata": {
    "id": "aXweg7mb4gMo"
   },
   "outputs": [],
   "source": [
    "df['engine']=df['engine'].map(convert_numeric)"
   ]
  },
  {
   "cell_type": "code",
   "execution_count": 26,
   "metadata": {},
   "outputs": [],
   "source": [
    "df['max_power']=df['max_power'].map(convert_numeric)"
   ]
  },
  {
   "cell_type": "code",
   "execution_count": 27,
   "metadata": {
    "id": "nVjmsyJc4kpO"
   },
   "outputs": [
    {
     "data": {
      "text/html": [
       "<div>\n",
       "<style scoped>\n",
       "    .dataframe tbody tr th:only-of-type {\n",
       "        vertical-align: middle;\n",
       "    }\n",
       "\n",
       "    .dataframe tbody tr th {\n",
       "        vertical-align: top;\n",
       "    }\n",
       "\n",
       "    .dataframe thead th {\n",
       "        text-align: right;\n",
       "    }\n",
       "</style>\n",
       "<table border=\"1\" class=\"dataframe\">\n",
       "  <thead>\n",
       "    <tr style=\"text-align: right;\">\n",
       "      <th></th>\n",
       "      <th>year</th>\n",
       "      <th>selling_price</th>\n",
       "      <th>km_driven</th>\n",
       "      <th>fuel</th>\n",
       "      <th>seller_type</th>\n",
       "      <th>transmission</th>\n",
       "      <th>owner</th>\n",
       "      <th>mileage</th>\n",
       "      <th>engine</th>\n",
       "      <th>max_power</th>\n",
       "      <th>seats</th>\n",
       "    </tr>\n",
       "  </thead>\n",
       "  <tbody>\n",
       "    <tr>\n",
       "      <th>0</th>\n",
       "      <td>2014</td>\n",
       "      <td>450000</td>\n",
       "      <td>145500</td>\n",
       "      <td>Diesel</td>\n",
       "      <td>Individual</td>\n",
       "      <td>Manual</td>\n",
       "      <td>First Owner</td>\n",
       "      <td>23.40</td>\n",
       "      <td>1248.0</td>\n",
       "      <td>74.00</td>\n",
       "      <td>5.0</td>\n",
       "    </tr>\n",
       "    <tr>\n",
       "      <th>1</th>\n",
       "      <td>2014</td>\n",
       "      <td>370000</td>\n",
       "      <td>120000</td>\n",
       "      <td>Diesel</td>\n",
       "      <td>Individual</td>\n",
       "      <td>Manual</td>\n",
       "      <td>Second Owner</td>\n",
       "      <td>21.14</td>\n",
       "      <td>1498.0</td>\n",
       "      <td>103.52</td>\n",
       "      <td>5.0</td>\n",
       "    </tr>\n",
       "  </tbody>\n",
       "</table>\n",
       "</div>"
      ],
      "text/plain": [
       "   year  selling_price  km_driven    fuel seller_type transmission  \\\n",
       "0  2014         450000     145500  Diesel  Individual       Manual   \n",
       "1  2014         370000     120000  Diesel  Individual       Manual   \n",
       "\n",
       "          owner  mileage  engine  max_power  seats  \n",
       "0   First Owner    23.40  1248.0      74.00    5.0  \n",
       "1  Second Owner    21.14  1498.0     103.52    5.0  "
      ]
     },
     "execution_count": 27,
     "metadata": {},
     "output_type": "execute_result"
    }
   ],
   "source": [
    "df.head(2)"
   ]
  },
  {
   "cell_type": "code",
   "execution_count": 28,
   "metadata": {
    "id": "btbL2MeO4wTs"
   },
   "outputs": [],
   "source": [
    "def onehot_encode(df, columns):\n",
    "    dummies = pd.get_dummies(df[columns], prefix=columns)\n",
    "    df =pd.concat([df, dummies], axis=1)\n",
    "    df = df.drop(columns, axis =1)\n",
    "    \n",
    "    return df"
   ]
  },
  {
   "cell_type": "code",
   "execution_count": 29,
   "metadata": {},
   "outputs": [],
   "source": [
    "def preprocess_inputs(df):\n",
    "    \n",
    "    # Mapping the Owner column\n",
    "    df['owner'] = df.owner.map({'First Owner': 1, 'Second Owner' : 2, 'Third Owner' : 3,\n",
    "       'Fourth & Above Owner': 4, 'Test Drive Car' : 0})\n",
    "    \n",
    "    # Treating null_values\n",
    "    df['owner'] = df['owner'].fillna(df['owner'].mode())\n",
    "    df['mileage'] = df['mileage'].fillna(df['mileage'].mean())\n",
    "    df['engine'] = df['engine'].fillna(df['engine'].mean())\n",
    "    df['max_power'] = df['max_power'].fillna(df['max_power'].mean())\n",
    "    df['seats'] = df['seats'].fillna(0.0)\n",
    "    seats_mode = df['seats'].mode()\n",
    "    df['seats'] = df['seats'].replace(0.0, seats_mode)\n",
    "    df['seats'] = df['seats'].astype('int')\n",
    "    \n",
    "    # Onehot encodding\n",
    "    for columns in df.select_dtypes('object'):\n",
    "        df = onehot_encode(df, columns)\n",
    "        \n",
    "    return df"
   ]
  },
  {
   "cell_type": "code",
   "execution_count": 30,
   "metadata": {},
   "outputs": [],
   "source": [
    "df = preprocess_inputs(df)"
   ]
  },
  {
   "cell_type": "code",
   "execution_count": 31,
   "metadata": {},
   "outputs": [
    {
     "data": {
      "text/html": [
       "<div>\n",
       "<style scoped>\n",
       "    .dataframe tbody tr th:only-of-type {\n",
       "        vertical-align: middle;\n",
       "    }\n",
       "\n",
       "    .dataframe tbody tr th {\n",
       "        vertical-align: top;\n",
       "    }\n",
       "\n",
       "    .dataframe thead th {\n",
       "        text-align: right;\n",
       "    }\n",
       "</style>\n",
       "<table border=\"1\" class=\"dataframe\">\n",
       "  <thead>\n",
       "    <tr style=\"text-align: right;\">\n",
       "      <th></th>\n",
       "      <th>year</th>\n",
       "      <th>selling_price</th>\n",
       "      <th>km_driven</th>\n",
       "      <th>owner</th>\n",
       "      <th>mileage</th>\n",
       "      <th>engine</th>\n",
       "      <th>max_power</th>\n",
       "      <th>seats</th>\n",
       "      <th>fuel_CNG</th>\n",
       "      <th>fuel_Diesel</th>\n",
       "      <th>fuel_LPG</th>\n",
       "      <th>fuel_Petrol</th>\n",
       "      <th>seller_type_Dealer</th>\n",
       "      <th>seller_type_Individual</th>\n",
       "      <th>seller_type_Trustmark Dealer</th>\n",
       "      <th>transmission_Automatic</th>\n",
       "      <th>transmission_Manual</th>\n",
       "    </tr>\n",
       "  </thead>\n",
       "  <tbody>\n",
       "    <tr>\n",
       "      <th>0</th>\n",
       "      <td>2014</td>\n",
       "      <td>450000</td>\n",
       "      <td>145500</td>\n",
       "      <td>1</td>\n",
       "      <td>23.40</td>\n",
       "      <td>1248.0</td>\n",
       "      <td>74.00</td>\n",
       "      <td>5</td>\n",
       "      <td>0</td>\n",
       "      <td>1</td>\n",
       "      <td>0</td>\n",
       "      <td>0</td>\n",
       "      <td>0</td>\n",
       "      <td>1</td>\n",
       "      <td>0</td>\n",
       "      <td>0</td>\n",
       "      <td>1</td>\n",
       "    </tr>\n",
       "    <tr>\n",
       "      <th>1</th>\n",
       "      <td>2014</td>\n",
       "      <td>370000</td>\n",
       "      <td>120000</td>\n",
       "      <td>2</td>\n",
       "      <td>21.14</td>\n",
       "      <td>1498.0</td>\n",
       "      <td>103.52</td>\n",
       "      <td>5</td>\n",
       "      <td>0</td>\n",
       "      <td>1</td>\n",
       "      <td>0</td>\n",
       "      <td>0</td>\n",
       "      <td>0</td>\n",
       "      <td>1</td>\n",
       "      <td>0</td>\n",
       "      <td>0</td>\n",
       "      <td>1</td>\n",
       "    </tr>\n",
       "    <tr>\n",
       "      <th>2</th>\n",
       "      <td>2006</td>\n",
       "      <td>158000</td>\n",
       "      <td>140000</td>\n",
       "      <td>3</td>\n",
       "      <td>17.70</td>\n",
       "      <td>1497.0</td>\n",
       "      <td>78.00</td>\n",
       "      <td>5</td>\n",
       "      <td>0</td>\n",
       "      <td>0</td>\n",
       "      <td>0</td>\n",
       "      <td>1</td>\n",
       "      <td>0</td>\n",
       "      <td>1</td>\n",
       "      <td>0</td>\n",
       "      <td>0</td>\n",
       "      <td>1</td>\n",
       "    </tr>\n",
       "    <tr>\n",
       "      <th>3</th>\n",
       "      <td>2010</td>\n",
       "      <td>225000</td>\n",
       "      <td>127000</td>\n",
       "      <td>1</td>\n",
       "      <td>23.00</td>\n",
       "      <td>1396.0</td>\n",
       "      <td>90.00</td>\n",
       "      <td>5</td>\n",
       "      <td>0</td>\n",
       "      <td>1</td>\n",
       "      <td>0</td>\n",
       "      <td>0</td>\n",
       "      <td>0</td>\n",
       "      <td>1</td>\n",
       "      <td>0</td>\n",
       "      <td>0</td>\n",
       "      <td>1</td>\n",
       "    </tr>\n",
       "    <tr>\n",
       "      <th>4</th>\n",
       "      <td>2007</td>\n",
       "      <td>130000</td>\n",
       "      <td>120000</td>\n",
       "      <td>1</td>\n",
       "      <td>16.10</td>\n",
       "      <td>1298.0</td>\n",
       "      <td>88.20</td>\n",
       "      <td>5</td>\n",
       "      <td>0</td>\n",
       "      <td>0</td>\n",
       "      <td>0</td>\n",
       "      <td>1</td>\n",
       "      <td>0</td>\n",
       "      <td>1</td>\n",
       "      <td>0</td>\n",
       "      <td>0</td>\n",
       "      <td>1</td>\n",
       "    </tr>\n",
       "    <tr>\n",
       "      <th>...</th>\n",
       "      <td>...</td>\n",
       "      <td>...</td>\n",
       "      <td>...</td>\n",
       "      <td>...</td>\n",
       "      <td>...</td>\n",
       "      <td>...</td>\n",
       "      <td>...</td>\n",
       "      <td>...</td>\n",
       "      <td>...</td>\n",
       "      <td>...</td>\n",
       "      <td>...</td>\n",
       "      <td>...</td>\n",
       "      <td>...</td>\n",
       "      <td>...</td>\n",
       "      <td>...</td>\n",
       "      <td>...</td>\n",
       "      <td>...</td>\n",
       "    </tr>\n",
       "    <tr>\n",
       "      <th>8123</th>\n",
       "      <td>2013</td>\n",
       "      <td>320000</td>\n",
       "      <td>110000</td>\n",
       "      <td>1</td>\n",
       "      <td>18.50</td>\n",
       "      <td>1197.0</td>\n",
       "      <td>82.85</td>\n",
       "      <td>5</td>\n",
       "      <td>0</td>\n",
       "      <td>0</td>\n",
       "      <td>0</td>\n",
       "      <td>1</td>\n",
       "      <td>0</td>\n",
       "      <td>1</td>\n",
       "      <td>0</td>\n",
       "      <td>0</td>\n",
       "      <td>1</td>\n",
       "    </tr>\n",
       "    <tr>\n",
       "      <th>8124</th>\n",
       "      <td>2007</td>\n",
       "      <td>135000</td>\n",
       "      <td>119000</td>\n",
       "      <td>4</td>\n",
       "      <td>16.80</td>\n",
       "      <td>1493.0</td>\n",
       "      <td>110.00</td>\n",
       "      <td>5</td>\n",
       "      <td>0</td>\n",
       "      <td>1</td>\n",
       "      <td>0</td>\n",
       "      <td>0</td>\n",
       "      <td>0</td>\n",
       "      <td>1</td>\n",
       "      <td>0</td>\n",
       "      <td>0</td>\n",
       "      <td>1</td>\n",
       "    </tr>\n",
       "    <tr>\n",
       "      <th>8125</th>\n",
       "      <td>2009</td>\n",
       "      <td>382000</td>\n",
       "      <td>120000</td>\n",
       "      <td>1</td>\n",
       "      <td>19.30</td>\n",
       "      <td>1248.0</td>\n",
       "      <td>73.90</td>\n",
       "      <td>5</td>\n",
       "      <td>0</td>\n",
       "      <td>1</td>\n",
       "      <td>0</td>\n",
       "      <td>0</td>\n",
       "      <td>0</td>\n",
       "      <td>1</td>\n",
       "      <td>0</td>\n",
       "      <td>0</td>\n",
       "      <td>1</td>\n",
       "    </tr>\n",
       "    <tr>\n",
       "      <th>8126</th>\n",
       "      <td>2013</td>\n",
       "      <td>290000</td>\n",
       "      <td>25000</td>\n",
       "      <td>1</td>\n",
       "      <td>23.57</td>\n",
       "      <td>1396.0</td>\n",
       "      <td>70.00</td>\n",
       "      <td>5</td>\n",
       "      <td>0</td>\n",
       "      <td>1</td>\n",
       "      <td>0</td>\n",
       "      <td>0</td>\n",
       "      <td>0</td>\n",
       "      <td>1</td>\n",
       "      <td>0</td>\n",
       "      <td>0</td>\n",
       "      <td>1</td>\n",
       "    </tr>\n",
       "    <tr>\n",
       "      <th>8127</th>\n",
       "      <td>2013</td>\n",
       "      <td>290000</td>\n",
       "      <td>25000</td>\n",
       "      <td>1</td>\n",
       "      <td>23.57</td>\n",
       "      <td>1396.0</td>\n",
       "      <td>70.00</td>\n",
       "      <td>5</td>\n",
       "      <td>0</td>\n",
       "      <td>1</td>\n",
       "      <td>0</td>\n",
       "      <td>0</td>\n",
       "      <td>0</td>\n",
       "      <td>1</td>\n",
       "      <td>0</td>\n",
       "      <td>0</td>\n",
       "      <td>1</td>\n",
       "    </tr>\n",
       "  </tbody>\n",
       "</table>\n",
       "<p>8128 rows × 17 columns</p>\n",
       "</div>"
      ],
      "text/plain": [
       "      year  selling_price  km_driven  owner  mileage  engine  max_power  \\\n",
       "0     2014         450000     145500      1    23.40  1248.0      74.00   \n",
       "1     2014         370000     120000      2    21.14  1498.0     103.52   \n",
       "2     2006         158000     140000      3    17.70  1497.0      78.00   \n",
       "3     2010         225000     127000      1    23.00  1396.0      90.00   \n",
       "4     2007         130000     120000      1    16.10  1298.0      88.20   \n",
       "...    ...            ...        ...    ...      ...     ...        ...   \n",
       "8123  2013         320000     110000      1    18.50  1197.0      82.85   \n",
       "8124  2007         135000     119000      4    16.80  1493.0     110.00   \n",
       "8125  2009         382000     120000      1    19.30  1248.0      73.90   \n",
       "8126  2013         290000      25000      1    23.57  1396.0      70.00   \n",
       "8127  2013         290000      25000      1    23.57  1396.0      70.00   \n",
       "\n",
       "      seats  fuel_CNG  fuel_Diesel  fuel_LPG  fuel_Petrol  seller_type_Dealer  \\\n",
       "0         5         0            1         0            0                   0   \n",
       "1         5         0            1         0            0                   0   \n",
       "2         5         0            0         0            1                   0   \n",
       "3         5         0            1         0            0                   0   \n",
       "4         5         0            0         0            1                   0   \n",
       "...     ...       ...          ...       ...          ...                 ...   \n",
       "8123      5         0            0         0            1                   0   \n",
       "8124      5         0            1         0            0                   0   \n",
       "8125      5         0            1         0            0                   0   \n",
       "8126      5         0            1         0            0                   0   \n",
       "8127      5         0            1         0            0                   0   \n",
       "\n",
       "      seller_type_Individual  seller_type_Trustmark Dealer  \\\n",
       "0                          1                             0   \n",
       "1                          1                             0   \n",
       "2                          1                             0   \n",
       "3                          1                             0   \n",
       "4                          1                             0   \n",
       "...                      ...                           ...   \n",
       "8123                       1                             0   \n",
       "8124                       1                             0   \n",
       "8125                       1                             0   \n",
       "8126                       1                             0   \n",
       "8127                       1                             0   \n",
       "\n",
       "      transmission_Automatic  transmission_Manual  \n",
       "0                          0                    1  \n",
       "1                          0                    1  \n",
       "2                          0                    1  \n",
       "3                          0                    1  \n",
       "4                          0                    1  \n",
       "...                      ...                  ...  \n",
       "8123                       0                    1  \n",
       "8124                       0                    1  \n",
       "8125                       0                    1  \n",
       "8126                       0                    1  \n",
       "8127                       0                    1  \n",
       "\n",
       "[8128 rows x 17 columns]"
      ]
     },
     "execution_count": 31,
     "metadata": {},
     "output_type": "execute_result"
    }
   ],
   "source": [
    "df"
   ]
  },
  {
   "cell_type": "code",
   "execution_count": 32,
   "metadata": {},
   "outputs": [
    {
     "name": "stdout",
     "output_type": "stream",
     "text": [
      "<class 'pandas.core.frame.DataFrame'>\n",
      "RangeIndex: 8128 entries, 0 to 8127\n",
      "Data columns (total 17 columns):\n",
      " #   Column                        Non-Null Count  Dtype  \n",
      "---  ------                        --------------  -----  \n",
      " 0   year                          8128 non-null   int64  \n",
      " 1   selling_price                 8128 non-null   int64  \n",
      " 2   km_driven                     8128 non-null   int64  \n",
      " 3   owner                         8128 non-null   int64  \n",
      " 4   mileage                       8128 non-null   float64\n",
      " 5   engine                        8128 non-null   float64\n",
      " 6   max_power                     8128 non-null   float64\n",
      " 7   seats                         8128 non-null   int32  \n",
      " 8   fuel_CNG                      8128 non-null   uint8  \n",
      " 9   fuel_Diesel                   8128 non-null   uint8  \n",
      " 10  fuel_LPG                      8128 non-null   uint8  \n",
      " 11  fuel_Petrol                   8128 non-null   uint8  \n",
      " 12  seller_type_Dealer            8128 non-null   uint8  \n",
      " 13  seller_type_Individual        8128 non-null   uint8  \n",
      " 14  seller_type_Trustmark Dealer  8128 non-null   uint8  \n",
      " 15  transmission_Automatic        8128 non-null   uint8  \n",
      " 16  transmission_Manual           8128 non-null   uint8  \n",
      "dtypes: float64(3), int32(1), int64(4), uint8(9)\n",
      "memory usage: 547.8 KB\n"
     ]
    }
   ],
   "source": [
    "df.info()"
   ]
  },
  {
   "cell_type": "markdown",
   "metadata": {
    "id": "ez91ID6AEgPm"
   },
   "source": [
    "## Question 3"
   ]
  },
  {
   "cell_type": "markdown",
   "metadata": {
    "id": "9J4BlzVA_gZd"
   },
   "source": [
    "### Split the data and then scale the data\n",
    "- Split the data into ratio of 75:25 with random state=12\n",
    "- Perform standard scaling on X_train and X_test data\n"
   ]
  },
  {
   "cell_type": "code",
   "execution_count": 33,
   "metadata": {
    "id": "IKEK8aEE_Csx"
   },
   "outputs": [],
   "source": [
    "def split_scale(df):\n",
    "    \n",
    "    X = df.drop('selling_price', axis = 1)\n",
    "    y = df['selling_price']\n",
    "    \n",
    "    # splitting\n",
    "    X_train, X_test, y_train, y_test = train_test_split(X,y, train_size = 0.75, random_state = 1)\n",
    "    \n",
    "    # Scaling\n",
    "    \n",
    "    sc = StandardScaler()\n",
    "    sc.fit(X_train)\n",
    "    \n",
    "    X_train =pd.DataFrame(sc.transform(X_train), columns = X.columns) \n",
    "    X_test =pd.DataFrame(sc.transform(X_test), columns = X.columns)\n",
    "    \n",
    "    return X_train, X_test, y_train, y_test"
   ]
  },
  {
   "cell_type": "code",
   "execution_count": 34,
   "metadata": {
    "id": "59F0lA4z8SH-"
   },
   "outputs": [],
   "source": [
    "X_train, X_test, y_train, y_test = split_scale(df)"
   ]
  },
  {
   "cell_type": "code",
   "execution_count": 35,
   "metadata": {},
   "outputs": [
    {
     "data": {
      "text/plain": [
       "(6096, 16)"
      ]
     },
     "execution_count": 35,
     "metadata": {},
     "output_type": "execute_result"
    }
   ],
   "source": [
    "X_train.shape"
   ]
  },
  {
   "cell_type": "code",
   "execution_count": 36,
   "metadata": {},
   "outputs": [
    {
     "data": {
      "text/plain": [
       "(2032, 16)"
      ]
     },
     "execution_count": 36,
     "metadata": {},
     "output_type": "execute_result"
    }
   ],
   "source": [
    "X_test.shape"
   ]
  },
  {
   "cell_type": "markdown",
   "metadata": {
    "id": "cTPhO6v-AiZt"
   },
   "source": [
    "## Question 4"
   ]
  },
  {
   "cell_type": "markdown",
   "metadata": {
    "id": "SsZXmF3NAkna"
   },
   "source": [
    "### Create a Deep Neural Network Model for Regression\n",
    "- Initialize a Sequential model\n",
    "- Add 3 hidden layer with activation relu (Number of neurons = 64,128,32 respectively)\n",
    "- Add dropout layer after each hidden layer\n",
    "- Add a Dense layer with one neuron as output, use activation linear\n",
    "  \n"
   ]
  },
  {
   "cell_type": "code",
   "execution_count": 37,
   "metadata": {
    "id": "aKs04iIHAjxN"
   },
   "outputs": [],
   "source": [
    "from tensorflow.keras.models import Sequential\n",
    "from tensorflow.keras import Input\n",
    "from tensorflow.keras.layers import Dense,ReLU, Dropout\n",
    "model = Sequential()\n",
    "model.add(Input(shape=16))\n",
    "model.add(Dense(64, activation = 'relu'))\n",
    "model.add(Dropout(0.15))\n",
    "model.add(Dense(120, activation = 'relu'))\n",
    "model.add(Dropout(0.15))\n",
    "model.add(Dense(32, activation = 'relu'))\n",
    "model.add(Dropout(0.8))\n",
    "model.add(Dense(1, activation = 'linear'))"
   ]
  },
  {
   "cell_type": "markdown",
   "metadata": {
    "id": "aHstM0fX_-kI"
   },
   "source": [
    "### Check model summary and visualize the model"
   ]
  },
  {
   "cell_type": "code",
   "execution_count": 38,
   "metadata": {
    "id": "xQjCMzUXBJbg"
   },
   "outputs": [
    {
     "name": "stdout",
     "output_type": "stream",
     "text": [
      "Model: \"sequential\"\n",
      "_________________________________________________________________\n",
      "Layer (type)                 Output Shape              Param #   \n",
      "=================================================================\n",
      "dense (Dense)                (None, 64)                1088      \n",
      "_________________________________________________________________\n",
      "dropout (Dropout)            (None, 64)                0         \n",
      "_________________________________________________________________\n",
      "dense_1 (Dense)              (None, 120)               7800      \n",
      "_________________________________________________________________\n",
      "dropout_1 (Dropout)          (None, 120)               0         \n",
      "_________________________________________________________________\n",
      "dense_2 (Dense)              (None, 32)                3872      \n",
      "_________________________________________________________________\n",
      "dropout_2 (Dropout)          (None, 32)                0         \n",
      "_________________________________________________________________\n",
      "dense_3 (Dense)              (None, 1)                 33        \n",
      "=================================================================\n",
      "Total params: 12,793\n",
      "Trainable params: 12,793\n",
      "Non-trainable params: 0\n",
      "_________________________________________________________________\n"
     ]
    }
   ],
   "source": [
    "model.summary()"
   ]
  },
  {
   "cell_type": "code",
   "execution_count": 39,
   "metadata": {
    "id": "Ksap6Rx0BNIw"
   },
   "outputs": [
    {
     "ename": "TypeError",
     "evalue": "'InputLayer' object is not iterable",
     "output_type": "error",
     "traceback": [
      "\u001b[1;31m---------------------------------------------------------------------------\u001b[0m",
      "\u001b[1;31mTypeError\u001b[0m                                 Traceback (most recent call last)",
      "\u001b[1;32m<ipython-input-39-8462954d9742>\u001b[0m in \u001b[0;36m<module>\u001b[1;34m\u001b[0m\n\u001b[0;32m      1\u001b[0m \u001b[1;32mfrom\u001b[0m \u001b[0mkeras\u001b[0m\u001b[1;33m.\u001b[0m\u001b[0mutils\u001b[0m\u001b[1;33m.\u001b[0m\u001b[0mvis_utils\u001b[0m \u001b[1;32mimport\u001b[0m \u001b[0mplot_model\u001b[0m\u001b[1;33m\u001b[0m\u001b[1;33m\u001b[0m\u001b[0m\n\u001b[0;32m      2\u001b[0m \u001b[1;33m\u001b[0m\u001b[0m\n\u001b[1;32m----> 3\u001b[1;33m \u001b[0mplot_model\u001b[0m\u001b[1;33m(\u001b[0m\u001b[0mmodel\u001b[0m\u001b[1;33m,\u001b[0m\u001b[0mshow_shapes\u001b[0m \u001b[1;33m=\u001b[0m \u001b[1;32mTrue\u001b[0m\u001b[1;33m,\u001b[0m \u001b[0mshow_layer_names\u001b[0m \u001b[1;33m=\u001b[0m \u001b[1;32mTrue\u001b[0m\u001b[1;33m)\u001b[0m\u001b[1;33m\u001b[0m\u001b[1;33m\u001b[0m\u001b[0m\n\u001b[0m",
      "\u001b[1;32m~\\anaconda3\\lib\\site-packages\\keras\\utils\\vis_utils.py\u001b[0m in \u001b[0;36mplot_model\u001b[1;34m(model, to_file, show_shapes, show_layer_names, rankdir, expand_nested, dpi)\u001b[0m\n\u001b[0;32m    238\u001b[0m     \"\"\"\n\u001b[0;32m    239\u001b[0m     dot = model_to_dot(model, show_shapes, show_layer_names, rankdir,\n\u001b[1;32m--> 240\u001b[1;33m                        expand_nested, dpi)\n\u001b[0m\u001b[0;32m    241\u001b[0m     \u001b[0m_\u001b[0m\u001b[1;33m,\u001b[0m \u001b[0mextension\u001b[0m \u001b[1;33m=\u001b[0m \u001b[0mos\u001b[0m\u001b[1;33m.\u001b[0m\u001b[0mpath\u001b[0m\u001b[1;33m.\u001b[0m\u001b[0msplitext\u001b[0m\u001b[1;33m(\u001b[0m\u001b[0mto_file\u001b[0m\u001b[1;33m)\u001b[0m\u001b[1;33m\u001b[0m\u001b[1;33m\u001b[0m\u001b[0m\n\u001b[0;32m    242\u001b[0m     \u001b[1;32mif\u001b[0m \u001b[1;32mnot\u001b[0m \u001b[0mextension\u001b[0m\u001b[1;33m:\u001b[0m\u001b[1;33m\u001b[0m\u001b[1;33m\u001b[0m\u001b[0m\n",
      "\u001b[1;32m~\\anaconda3\\lib\\site-packages\\keras\\utils\\vis_utils.py\u001b[0m in \u001b[0;36mmodel_to_dot\u001b[1;34m(model, show_shapes, show_layer_names, rankdir, expand_nested, dpi, subgraph)\u001b[0m\n\u001b[0;32m    167\u001b[0m             \u001b[0mnode_key\u001b[0m \u001b[1;33m=\u001b[0m \u001b[0mlayer\u001b[0m\u001b[1;33m.\u001b[0m\u001b[0mname\u001b[0m \u001b[1;33m+\u001b[0m \u001b[1;34m'_ib-'\u001b[0m \u001b[1;33m+\u001b[0m \u001b[0mstr\u001b[0m\u001b[1;33m(\u001b[0m\u001b[0mi\u001b[0m\u001b[1;33m)\u001b[0m\u001b[1;33m\u001b[0m\u001b[1;33m\u001b[0m\u001b[0m\n\u001b[0;32m    168\u001b[0m             \u001b[1;32mif\u001b[0m \u001b[0mnode_key\u001b[0m \u001b[1;32min\u001b[0m \u001b[0mmodel\u001b[0m\u001b[1;33m.\u001b[0m\u001b[0m_network_nodes\u001b[0m\u001b[1;33m:\u001b[0m\u001b[1;33m\u001b[0m\u001b[1;33m\u001b[0m\u001b[0m\n\u001b[1;32m--> 169\u001b[1;33m                 \u001b[1;32mfor\u001b[0m \u001b[0minbound_layer\u001b[0m \u001b[1;32min\u001b[0m \u001b[0mnode\u001b[0m\u001b[1;33m.\u001b[0m\u001b[0minbound_layers\u001b[0m\u001b[1;33m:\u001b[0m\u001b[1;33m\u001b[0m\u001b[1;33m\u001b[0m\u001b[0m\n\u001b[0m\u001b[0;32m    170\u001b[0m                     \u001b[0minbound_layer_id\u001b[0m \u001b[1;33m=\u001b[0m \u001b[0mstr\u001b[0m\u001b[1;33m(\u001b[0m\u001b[0mid\u001b[0m\u001b[1;33m(\u001b[0m\u001b[0minbound_layer\u001b[0m\u001b[1;33m)\u001b[0m\u001b[1;33m)\u001b[0m\u001b[1;33m\u001b[0m\u001b[1;33m\u001b[0m\u001b[0m\n\u001b[0;32m    171\u001b[0m                     \u001b[1;32mif\u001b[0m \u001b[1;32mnot\u001b[0m \u001b[0mexpand_nested\u001b[0m\u001b[1;33m:\u001b[0m\u001b[1;33m\u001b[0m\u001b[1;33m\u001b[0m\u001b[0m\n",
      "\u001b[1;31mTypeError\u001b[0m: 'InputLayer' object is not iterable"
     ]
    }
   ],
   "source": [
    "from keras.utils.vis_utils import plot_model\n",
    "\n",
    "plot_model(model,show_shapes = True, show_layer_names = True)"
   ]
  },
  {
   "cell_type": "markdown",
   "metadata": {
    "id": "y7WTmUI-Ey95"
   },
   "source": [
    "## Question 5"
   ]
  },
  {
   "cell_type": "markdown",
   "metadata": {
    "id": "C8u_jlbABTip"
   },
   "source": [
    "### Compile the model\n",
    "\n",
    "- Compile the model\n",
    "- Use \"adam\" optimizer\n",
    "- for calculating loss, use mean absolute error\n",
    "- use R2 score (coefficient of determination) as the metric"
   ]
  },
  {
   "cell_type": "code",
   "execution_count": 40,
   "metadata": {},
   "outputs": [],
   "source": [
    "from keras import backend as k\n",
    "\n",
    "def r_2_score(y_act, y_pred):\n",
    "    ss_res = k.sum(k.square(y_act - y_pred))\n",
    "    ss_total = k.sum(k.square(y_act - k.mean(y_act)))\n",
    "    r2_score = 1 - ss_res/(ss_total + 0.0001)\n",
    "    \n",
    "    return r2_score\n",
    "                "
   ]
  },
  {
   "cell_type": "code",
   "execution_count": 41,
   "metadata": {
    "id": "0aDDAcT7xHB0"
   },
   "outputs": [],
   "source": [
    "model.compile(\n",
    "    optimizer ='adam',\n",
    "    loss = 'mean_absolute_error',\n",
    "    metrics =[r_2_score])"
   ]
  },
  {
   "cell_type": "markdown",
   "metadata": {
    "id": "s-ntyk6k_EmT"
   },
   "source": [
    "Other metrics can also be used to track the learning of the model:\n",
    "\n",
    "To learn different metrics for classification and regression visit the following link:\n",
    "\n",
    "Link: https://keras.io/api/metrics/#usage-with-compile-amp-fit"
   ]
  },
  {
   "cell_type": "markdown",
   "metadata": {
    "id": "n9o45OHdjDhA"
   },
   "source": [
    "### Train your model\n",
    "\n",
    "- epochs: 1000\n",
    "- batch size: 32\n",
    "- Use test data as validation data\n",
    "- Also add callback, such that if validation loss doesn't decreases consecutively 10 times, stop the training and return the weights for the previous best model"
   ]
  },
  {
   "cell_type": "code",
   "execution_count": 42,
   "metadata": {
    "id": "-Y6tA30XjOH2"
   },
   "outputs": [
    {
     "name": "stdout",
     "output_type": "stream",
     "text": [
      "Epoch 1/1000\n",
      "191/191 [==============================] - 1s 4ms/step - loss: 643482.0625 - r_2_score: -1.0707 - val_loss: 617916.6250 - val_r_2_score: -1.3715\n",
      "Epoch 2/1000\n",
      "191/191 [==============================] - 1s 3ms/step - loss: 618624.2500 - r_2_score: -1.0054 - val_loss: 551265.0625 - val_r_2_score: -1.0218\n",
      "Epoch 3/1000\n",
      "191/191 [==============================] - 0s 2ms/step - loss: 494721.5625 - r_2_score: -0.5359 - val_loss: 364683.1562 - val_r_2_score: -0.0927\n",
      "Epoch 4/1000\n",
      "191/191 [==============================] - 0s 2ms/step - loss: 385514.8438 - r_2_score: -0.0299 - val_loss: 270292.4062 - val_r_2_score: 0.3388\n",
      "Epoch 5/1000\n",
      "191/191 [==============================] - 1s 3ms/step - loss: 359075.8125 - r_2_score: 0.1166 - val_loss: 247961.6094 - val_r_2_score: 0.4472\n",
      "Epoch 6/1000\n",
      "191/191 [==============================] - 1s 3ms/step - loss: 352516.5000 - r_2_score: 0.1073 - val_loss: 237300.2500 - val_r_2_score: 0.4887\n",
      "Epoch 7/1000\n",
      "191/191 [==============================] - 0s 3ms/step - loss: 348569.8438 - r_2_score: 0.1576 - val_loss: 230596.2656 - val_r_2_score: 0.5173\n",
      "Epoch 8/1000\n",
      "191/191 [==============================] - 0s 3ms/step - loss: 339439.2812 - r_2_score: 0.1809 - val_loss: 220662.9062 - val_r_2_score: 0.5553\n",
      "Epoch 9/1000\n",
      "191/191 [==============================] - 1s 3ms/step - loss: 334739.0000 - r_2_score: 0.2216 - val_loss: 219875.5625 - val_r_2_score: 0.5634\n",
      "Epoch 10/1000\n",
      "191/191 [==============================] - 0s 3ms/step - loss: 340190.3438 - r_2_score: 0.1738 - val_loss: 216871.2188 - val_r_2_score: 0.5731\n",
      "Epoch 11/1000\n",
      "191/191 [==============================] - 0s 2ms/step - loss: 335514.2500 - r_2_score: 0.2081 - val_loss: 212786.7500 - val_r_2_score: 0.5845\n",
      "Epoch 12/1000\n",
      "191/191 [==============================] - 0s 3ms/step - loss: 332202.0938 - r_2_score: 0.2124 - val_loss: 215917.8906 - val_r_2_score: 0.5799\n",
      "Epoch 13/1000\n",
      "191/191 [==============================] - 0s 2ms/step - loss: 328760.0312 - r_2_score: 0.2140 - val_loss: 215648.2188 - val_r_2_score: 0.5787\n",
      "Epoch 14/1000\n",
      "191/191 [==============================] - 1s 3ms/step - loss: 335502.8125 - r_2_score: 0.2204 - val_loss: 209866.0469 - val_r_2_score: 0.5969\n",
      "Epoch 15/1000\n",
      "191/191 [==============================] - 0s 3ms/step - loss: 326829.2500 - r_2_score: 0.1574 - val_loss: 212835.8438 - val_r_2_score: 0.5910\n",
      "Epoch 16/1000\n",
      "191/191 [==============================] - 1s 3ms/step - loss: 332120.1562 - r_2_score: 0.2109 - val_loss: 210098.3438 - val_r_2_score: 0.6029\n",
      "Epoch 17/1000\n",
      "191/191 [==============================] - 0s 2ms/step - loss: 323072.2812 - r_2_score: 0.2582 - val_loss: 211941.9844 - val_r_2_score: 0.6040\n",
      "Epoch 18/1000\n",
      "191/191 [==============================] - 1s 3ms/step - loss: 332011.2812 - r_2_score: 0.2329 - val_loss: 207728.8906 - val_r_2_score: 0.6126\n",
      "Epoch 19/1000\n",
      "191/191 [==============================] - 0s 3ms/step - loss: 330694.9375 - r_2_score: 0.1969 - val_loss: 208188.0625 - val_r_2_score: 0.6137\n",
      "Epoch 20/1000\n",
      "191/191 [==============================] - 0s 2ms/step - loss: 324157.7188 - r_2_score: 0.2288 - val_loss: 209096.0156 - val_r_2_score: 0.6140\n",
      "Epoch 21/1000\n",
      "191/191 [==============================] - 0s 2ms/step - loss: 324249.2500 - r_2_score: 0.2924 - val_loss: 210048.1875 - val_r_2_score: 0.6131\n",
      "Epoch 22/1000\n",
      "191/191 [==============================] - 0s 2ms/step - loss: 334225.8125 - r_2_score: 0.1754 - val_loss: 208263.0469 - val_r_2_score: 0.6169\n",
      "Epoch 23/1000\n",
      "191/191 [==============================] - 0s 2ms/step - loss: 328618.2188 - r_2_score: 0.1947 - val_loss: 211564.7969 - val_r_2_score: 0.6102\n",
      "Epoch 24/1000\n",
      "191/191 [==============================] - 0s 2ms/step - loss: 323592.1250 - r_2_score: 0.2506 - val_loss: 206276.3594 - val_r_2_score: 0.6241\n",
      "Epoch 25/1000\n",
      "191/191 [==============================] - 0s 2ms/step - loss: 324664.5000 - r_2_score: 0.2378 - val_loss: 208223.1875 - val_r_2_score: 0.6175\n",
      "Epoch 26/1000\n",
      "191/191 [==============================] - 0s 2ms/step - loss: 326335.9062 - r_2_score: 0.1787 - val_loss: 208273.2812 - val_r_2_score: 0.6196\n",
      "Epoch 27/1000\n",
      "191/191 [==============================] - 0s 3ms/step - loss: 331699.5000 - r_2_score: 0.1977 - val_loss: 210731.3281 - val_r_2_score: 0.6124\n",
      "Epoch 28/1000\n",
      "191/191 [==============================] - 1s 3ms/step - loss: 321991.1875 - r_2_score: 0.2716 - val_loss: 208293.9688 - val_r_2_score: 0.6187\n",
      "Epoch 29/1000\n",
      "191/191 [==============================] - 1s 3ms/step - loss: 329852.2500 - r_2_score: 0.2068 - val_loss: 207210.5312 - val_r_2_score: 0.6248\n",
      "Epoch 30/1000\n",
      "191/191 [==============================] - 1s 3ms/step - loss: 323089.5625 - r_2_score: 0.2495 - val_loss: 206068.1406 - val_r_2_score: 0.6240\n",
      "Epoch 31/1000\n",
      "191/191 [==============================] - 1s 3ms/step - loss: 326704.6250 - r_2_score: 0.2518 - val_loss: 208045.9375 - val_r_2_score: 0.6202\n",
      "Epoch 32/1000\n",
      "191/191 [==============================] - 0s 3ms/step - loss: 323643.1562 - r_2_score: 0.2038 - val_loss: 202817.9531 - val_r_2_score: 0.6378\n",
      "Epoch 33/1000\n",
      "191/191 [==============================] - 0s 2ms/step - loss: 325396.6250 - r_2_score: 0.2007 - val_loss: 204579.3906 - val_r_2_score: 0.6339\n",
      "Epoch 34/1000\n",
      "191/191 [==============================] - 0s 3ms/step - loss: 316934.3750 - r_2_score: 0.2393 - val_loss: 196676.7188 - val_r_2_score: 0.6548\n",
      "Epoch 35/1000\n",
      "191/191 [==============================] - 0s 2ms/step - loss: 333264.5000 - r_2_score: 0.1950 - val_loss: 205918.7344 - val_r_2_score: 0.6334\n",
      "Epoch 36/1000\n",
      "191/191 [==============================] - 0s 2ms/step - loss: 317615.2500 - r_2_score: 0.3061 - val_loss: 203813.3125 - val_r_2_score: 0.6385\n",
      "Epoch 37/1000\n",
      "191/191 [==============================] - 0s 3ms/step - loss: 328634.6875 - r_2_score: 0.1757 - val_loss: 201339.9375 - val_r_2_score: 0.6423\n",
      "Epoch 38/1000\n",
      "191/191 [==============================] - 1s 3ms/step - loss: 320080.5625 - r_2_score: 0.2249 - val_loss: 205828.4688 - val_r_2_score: 0.6336\n",
      "Epoch 39/1000\n",
      "191/191 [==============================] - 1s 3ms/step - loss: 320266.1562 - r_2_score: 0.2570 - val_loss: 203686.9531 - val_r_2_score: 0.6404\n",
      "Epoch 40/1000\n",
      "191/191 [==============================] - 1s 3ms/step - loss: 325711.7188 - r_2_score: 0.2124 - val_loss: 201235.5156 - val_r_2_score: 0.6421\n",
      "Epoch 41/1000\n",
      "191/191 [==============================] - 0s 2ms/step - loss: 330946.5938 - r_2_score: 0.2194 - val_loss: 206574.6406 - val_r_2_score: 0.6321\n",
      "Epoch 42/1000\n",
      "191/191 [==============================] - 1s 3ms/step - loss: 320448.6562 - r_2_score: 0.2665 - val_loss: 201067.8594 - val_r_2_score: 0.6478\n",
      "Epoch 43/1000\n",
      "191/191 [==============================] - 0s 2ms/step - loss: 319500.0000 - r_2_score: 0.2820 - val_loss: 203665.4531 - val_r_2_score: 0.6420\n",
      "Epoch 44/1000\n",
      "191/191 [==============================] - 0s 2ms/step - loss: 316118.2500 - r_2_score: 0.2523 - val_loss: 194649.8438 - val_r_2_score: 0.6664\n",
      "Epoch 45/1000\n",
      "191/191 [==============================] - 1s 3ms/step - loss: 320700.8125 - r_2_score: 0.2507 - val_loss: 202876.2031 - val_r_2_score: 0.6455\n",
      "Epoch 46/1000\n",
      "191/191 [==============================] - 1s 3ms/step - loss: 315984.8125 - r_2_score: 0.2129 - val_loss: 198825.4531 - val_r_2_score: 0.6551\n",
      "Epoch 47/1000\n",
      "191/191 [==============================] - 1s 3ms/step - loss: 323856.4688 - r_2_score: 0.2394 - val_loss: 201666.8438 - val_r_2_score: 0.6487\n",
      "Epoch 48/1000\n",
      "191/191 [==============================] - 1s 3ms/step - loss: 319425.5000 - r_2_score: 0.2816 - val_loss: 202177.6406 - val_r_2_score: 0.6507\n",
      "Epoch 49/1000\n",
      "191/191 [==============================] - 1s 3ms/step - loss: 317452.8125 - r_2_score: 0.2387 - val_loss: 199436.9219 - val_r_2_score: 0.6569\n",
      "Epoch 50/1000\n",
      "191/191 [==============================] - 1s 3ms/step - loss: 322652.4375 - r_2_score: 0.1905 - val_loss: 196487.8281 - val_r_2_score: 0.6609\n",
      "Epoch 51/1000\n",
      "191/191 [==============================] - 1s 3ms/step - loss: 321228.2188 - r_2_score: 0.2281 - val_loss: 204602.5781 - val_r_2_score: 0.6435\n",
      "Epoch 52/1000\n",
      "191/191 [==============================] - 1s 3ms/step - loss: 319175.7188 - r_2_score: 0.2300 - val_loss: 202739.0312 - val_r_2_score: 0.6524\n",
      "Epoch 53/1000\n"
     ]
    },
    {
     "name": "stdout",
     "output_type": "stream",
     "text": [
      "191/191 [==============================] - 0s 2ms/step - loss: 318322.5312 - r_2_score: 0.2837 - val_loss: 199281.8906 - val_r_2_score: 0.6586\n",
      "Epoch 54/1000\n",
      "191/191 [==============================] - 0s 2ms/step - loss: 323361.4688 - r_2_score: 0.1900 - val_loss: 201371.5781 - val_r_2_score: 0.6537\n"
     ]
    }
   ],
   "source": [
    "import tensorflow as tf\n",
    "callbacks = tf.keras.callbacks.EarlyStopping(\n",
    "            monitor='val_loss',\n",
    "            mode = 'min',restore_best_weights=True, patience=10)\n",
    "    \n",
    "history = model.fit(X_train,y_train, batch_size = 32, epochs = 1000, validation_data = (X_test, y_test), callbacks = callbacks)\n"
   ]
  },
  {
   "cell_type": "markdown",
   "metadata": {
    "id": "AW4SEP8kT2ls"
   },
   "source": [
    "## Question 6"
   ]
  },
  {
   "cell_type": "markdown",
   "metadata": {
    "id": "EJDoix_7JU61"
   },
   "source": [
    "### Evaluate the model\n",
    "- Evaluate the model on test data\n",
    "- Visualize the model's learning"
   ]
  },
  {
   "cell_type": "code",
   "execution_count": 43,
   "metadata": {
    "id": "HdH8pYBIjHGL"
   },
   "outputs": [
    {
     "name": "stdout",
     "output_type": "stream",
     "text": [
      "64/64 [==============================] - 0s 1ms/step - loss: 194649.8438 - r_2_score: 0.6664\n",
      "[194649.84375, 0.6664309501647949]\n"
     ]
    }
   ],
   "source": [
    "results = model.evaluate(X_test,y_test)\n",
    "print(results)"
   ]
  },
  {
   "cell_type": "markdown",
   "metadata": {
    "id": "E4-3G8h0KPS_"
   },
   "source": [
    "- Hint: The R2 score will get affected by batch size. \n",
    "\n",
    "**Batch Size**: Number of samples considered in one iteration"
   ]
  },
  {
   "cell_type": "markdown",
   "metadata": {
    "id": "MHmWkGM9E61i"
   },
   "source": [
    "### Check the R2 score on complete test data"
   ]
  },
  {
   "cell_type": "code",
   "execution_count": 44,
   "metadata": {
    "id": "5Ts_powwDqdK"
   },
   "outputs": [
    {
     "data": {
      "text/plain": [
       "0.6771965432699497"
      ]
     },
     "execution_count": 44,
     "metadata": {},
     "output_type": "execute_result"
    }
   ],
   "source": [
    "from sklearn.metrics import r2_score\n",
    "y_predict = model.predict(X_test)\n",
    "r2_score(y_test, y_predict)"
   ]
  },
  {
   "cell_type": "markdown",
   "metadata": {
    "id": "hUpDD74Xjh01"
   },
   "source": [
    "### Visualize model learning\n",
    "- Visualize model learning using train and test r2 score\n",
    "- Visualize model learning using train and test loss"
   ]
  },
  {
   "cell_type": "code",
   "execution_count": 45,
   "metadata": {
    "id": "WSiMhJPpk3GO"
   },
   "outputs": [
    {
     "data": {
      "image/png": "[encoded data removed]",
      "text/plain": [
       "<Figure size 432x288 with 1 Axes>"
      ]
     },
     "metadata": {
      "needs_background": "light"
     },
     "output_type": "display_data"
    }
   ],
   "source": [
    "from matplotlib import pyplot as plt\n",
    "plt.plot(history.history['loss'], label = 'training loss')\n",
    "plt.plot(history.history['val_loss'], label = 'validation loss')\n",
    "plt.show()"
   ]
  },
  {
   "cell_type": "markdown",
   "metadata": {
    "id": "mLyDSOeh6KKc"
   },
   "source": [
    "##  Model tuning and Hyperparameter Tuning\n",
    "## Question 7 (Optional)"
   ]
  },
  {
   "cell_type": "markdown",
   "metadata": {
    "id": "U9_FYXve6TPD"
   },
   "source": [
    "### Create another Deep Neural Network Model for Regression to experiment with other hyper-parameters\n",
    "- Initialize a Sequential model\n",
    "- Add a batch normalization layer\n",
    "- Add 3 hidden layer with activation leaky-relu (Number of neurons = 64,128,32 respectively)\n",
    "- Add dropout layer after each hidden layer\n",
    "- Add a Dense layer with one neuron as output, use activation linear\n",
    "  \n"
   ]
  },
  {
   "cell_type": "code",
   "execution_count": null,
   "metadata": {
    "id": "smKhJZSx2EZk"
   },
   "outputs": [],
   "source": []
  },
  {
   "cell_type": "code",
   "execution_count": null,
   "metadata": {
    "id": "k3YL1YQB2Fau"
   },
   "outputs": [],
   "source": []
  },
  {
   "cell_type": "markdown",
   "metadata": {
    "id": "d-5tN-Wx8_8X"
   },
   "source": [
    "### Compile the model\n",
    "\n",
    "- Compile the model\n",
    "- Use \"adam\" optimizer \n",
    "- for calculating loss, use mean absolute error\n",
    "- use R2 score (coefficient of determination) as the metric"
   ]
  },
  {
   "cell_type": "code",
   "execution_count": null,
   "metadata": {
    "id": "v3RAGJxN8vq6"
   },
   "outputs": [],
   "source": []
  },
  {
   "cell_type": "markdown",
   "metadata": {
    "id": "QjDCS5gy91KU"
   },
   "source": [
    "### Train your model\n",
    "\n",
    "- epochs: 1000\n",
    "- batch size: 16\n",
    "- Use test data as validation data\n",
    "- Also add callback, such that if validation loss doesn't decreases consecutively 10 times, stop the training and return the weights for the previous best model\n",
    "- Add checkpoints to save the model after every epoch\n"
   ]
  },
  {
   "cell_type": "code",
   "execution_count": null,
   "metadata": {
    "id": "amNM6S2w90So"
   },
   "outputs": [],
   "source": []
  },
  {
   "cell_type": "markdown",
   "metadata": {
    "id": "GHbYwXdgDQhs"
   },
   "source": [
    "### Check the R2 score on complete test data"
   ]
  },
  {
   "cell_type": "code",
   "execution_count": null,
   "metadata": {
    "id": "p7Ly-csS90PM"
   },
   "outputs": [],
   "source": []
  },
  {
   "cell_type": "markdown",
   "metadata": {
    "id": "mcZazFM7DiVr"
   },
   "source": [
    "### Visualize model learning\n",
    "- Visualize model learning using train and test r2 score\n",
    "- Visualize model learning using train and test loss"
   ]
  },
  {
   "cell_type": "code",
   "execution_count": null,
   "metadata": {
    "id": "cH-8qHgp90Jv"
   },
   "outputs": [],
   "source": []
  },
  {
   "cell_type": "markdown",
   "metadata": {
    "id": "POU_v9owFLWp"
   },
   "source": [
    "### Create another Deep Neural Network Model for Regression to experiment with other hyper-parameters\n",
    "- Initialize a Sequential model\n",
    "- Add a batch normalization layer\n",
    "- Intialize weights using HeUniform with seed = 7\n",
    "- Add 4 hidden layer with activation relu (Number of neurons = 256,128,64,32 in each layer respectively)\n",
    "- Add dropout layer after each hidden layer\n",
    "- Add a Dense layer with one neuron as output, use activation linear\n",
    "  \n"
   ]
  },
  {
   "cell_type": "code",
   "execution_count": null,
   "metadata": {
    "id": "EJiZ1JZZECpm"
   },
   "outputs": [],
   "source": []
  },
  {
   "cell_type": "markdown",
   "metadata": {
    "id": "yNoD20dGHKNk"
   },
   "source": [
    "### Compile the model\n",
    "\n",
    "- Compile the model\n",
    "- Use \"adam\" optimizer with learning rate = 0.002\n",
    "- for calculating loss, use mean squared error\n",
    "- use R2 score (coefficient of determination) as the metric"
   ]
  },
  {
   "cell_type": "code",
   "execution_count": null,
   "metadata": {
    "id": "EL--zAmbECm3"
   },
   "outputs": [],
   "source": []
  },
  {
   "cell_type": "markdown",
   "metadata": {
    "id": "TNhawruvHgLR"
   },
   "source": [
    "### Train your model\n",
    "\n",
    "- epochs: 1000\n",
    "- batch size: 64\n",
    "- Use test data as validation data\n",
    "- Also add callback, such that if validation loss doesn't decreases consecutively 10 times, stop the training and return the weights for the previous best model\n",
    "\n"
   ]
  },
  {
   "cell_type": "code",
   "execution_count": null,
   "metadata": {
    "id": "rf_Y0p7yECiz"
   },
   "outputs": [],
   "source": []
  },
  {
   "cell_type": "markdown",
   "metadata": {
    "id": "MR6_a6QxICXv"
   },
   "source": [
    "### Check the R2 score on complete test data"
   ]
  },
  {
   "cell_type": "code",
   "execution_count": null,
   "metadata": {
    "id": "eSNJsVwnECf-"
   },
   "outputs": [],
   "source": []
  },
  {
   "cell_type": "markdown",
   "metadata": {
    "id": "xWZIMT2rIYDc"
   },
   "source": [
    "### Visualize model learning\n",
    "- Visualize model learning using train and test r2 score\n",
    "- Visualize model learning using train and test loss"
   ]
  },
  {
   "cell_type": "code",
   "execution_count": null,
   "metadata": {
    "id": "uDMefTaLECdK"
   },
   "outputs": [],
   "source": []
  }
 ],
 "metadata": {
  "accelerator": "GPU",
  "colab": {
   "collapsed_sections": [],
   "name": "Updated_questions_Lab_on_NNDL.ipynb",
   "provenance": [],
   "toc_visible": true
  },
  "kernelspec": {
   "display_name": "Python 3",
   "language": "python",
   "name": "python3"
  },
  "language_info": {
   "codemirror_mode": {
    "name": "ipython",
    "version": 3
   },
   "file_extension": ".py",
   "mimetype": "text/x-python",
   "name": "python",
   "nbconvert_exporter": "python",
   "pygments_lexer": "ipython3",
   "version": "3.7.6"
  }
 },
 "nbformat": 4,
 "nbformat_minor": 1
}
