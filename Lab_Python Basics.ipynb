{
 "cells": [
  {
   "cell_type": "markdown",
   "metadata": {
    "colab_type": "text",
    "id": "yQmc5AE4Zh-a"
   },
   "source": [
    "# Python basics\n",
    "In this lab we will be covering up following things\n",
    "- list\n",
    "- dictionary\n",
    "- function\n",
    "- numpy\n",
    "- pandas\n",
    "\n"
   ]
  },
  {
   "cell_type": "markdown",
   "metadata": {
    "colab_type": "text",
    "id": "GpWt4ABia7I5"
   },
   "source": [
    "# Question 1"
   ]
  },
  {
   "cell_type": "markdown",
   "metadata": {
    "colab_type": "text",
    "id": "BB7gB9CPCmOK"
   },
   "source": [
    "## List\n",
    "Sequences in python are data structures that hold objects in an ordered array. Now, we will work on list, the most common sequence data type in python."
   ]
  },
  {
   "cell_type": "markdown",
   "metadata": {
    "colab_type": "text",
    "id": "gfz9oikBb2Mc"
   },
   "source": [
    "This is how you define a list in Python\n",
    "- Here we are defining a list named \"list_1\" using square braces \"[ ]\""
   ]
  },
  {
   "cell_type": "code",
   "execution_count": 0,
   "metadata": {
    "colab": {},
    "colab_type": "code",
    "id": "bBe8cax7CmOM"
   },
   "outputs": [],
   "source": [
    "list_1 = ['learning', 'python', 'is fun!']"
   ]
  },
  {
   "cell_type": "markdown",
   "metadata": {
    "colab_type": "text",
    "id": "wK9EAQtlCmOQ"
   },
   "source": [
    "There is another way to define a list in Python\n",
    "- Here we are defining a list named \"list_2\" using list() method"
   ]
  },
  {
   "cell_type": "code",
   "execution_count": 0,
   "metadata": {
    "colab": {},
    "colab_type": "code",
    "id": "tcSutYIWCmOR"
   },
   "outputs": [],
   "source": [
    "list_2 = list(('learning', 'for', 'life'))"
   ]
  },
  {
   "cell_type": "markdown",
   "metadata": {
    "colab_type": "text",
    "id": "4Oj__zTJdd5_"
   },
   "source": [
    "### Append an element in a list\n",
    "- Append number 10 to \"list_1\" given above\n",
    "- Use append() method"
   ]
  },
  {
   "cell_type": "code",
   "execution_count": 0,
   "metadata": {
    "colab": {},
    "colab_type": "code",
    "id": "n_yYVHu-CmOa"
   },
   "outputs": [],
   "source": [
    "list_1.append(10)"
   ]
  },
  {
   "cell_type": "markdown",
   "metadata": {
    "colab_type": "text",
    "id": "GLCEXETFeypu"
   },
   "source": [
    "### Remove an element from a list\n",
    "- Do this after completing the previous step\n",
    "- Remove number 10 from \"list_1\"\n",
    "- Use remove() method"
   ]
  },
  {
   "cell_type": "code",
   "execution_count": 0,
   "metadata": {
    "colab": {},
    "colab_type": "code",
    "id": "ODgiQKdEeypy"
   },
   "outputs": [],
   "source": [
    "list_1.remove(10)"
   ]
  },
  {
   "cell_type": "markdown",
   "metadata": {
    "colab_type": "text",
    "id": "ov8RX_qZga2i"
   },
   "source": [
    "### Join two lists\n",
    "- Join list_1 and list_2\n",
    "- Extend list_1 using list_2\n",
    "- Use extend() method\n",
    "- you can also use \"+\" operator to add two lists"
   ]
  },
  {
   "cell_type": "code",
   "execution_count": 0,
   "metadata": {
    "colab": {},
    "colab_type": "code",
    "id": "c3rGev1Hga2l"
   },
   "outputs": [],
   "source": [
    "list_1 + list_2\n",
    "list_1.extend(list_2)"
   ]
  },
  {
   "cell_type": "markdown",
   "metadata": {
    "colab_type": "text",
    "id": "XNTMhCauiFpz"
   },
   "source": [
    "### Create a list\n",
    "- Create a list named \"list_3\"\n",
    "- Elements of the list: 1, 2, 3, 4, 5\n",
    "- You can use \"[ ]\" or list() method to create a list"
   ]
  },
  {
   "cell_type": "code",
   "execution_count": 0,
   "metadata": {
    "colab": {},
    "colab_type": "code",
    "id": "ppTVjBgkifZu"
   },
   "outputs": [],
   "source": [
    "list_3=[1,2,3,4,5]"
   ]
  },
  {
   "cell_type": "markdown",
   "metadata": {
    "colab_type": "text",
    "id": "5G_Ne9vdjry9"
   },
   "source": [
    "# Question 2"
   ]
  },
  {
   "cell_type": "markdown",
   "metadata": {
    "colab_type": "text",
    "id": "yKVEPD71i9Om"
   },
   "source": [
    "### Get length of a list\n",
    "- Get length of list \"list_3\" you created in previous step\n",
    "- Use len() method"
   ]
  },
  {
   "cell_type": "code",
   "execution_count": 0,
   "metadata": {
    "colab": {},
    "colab_type": "code",
    "id": "vaLAqHPHi9Os"
   },
   "outputs": [],
   "source": [
    "len(list_3)"
   ]
  },
  {
   "cell_type": "markdown",
   "metadata": {
    "colab_type": "text",
    "id": "qlw-ZP7gjxv7"
   },
   "source": [
    "### Get minimum value in a list\n",
    "- Get minimum value in list \"list_3\"\n",
    "- Use min() method"
   ]
  },
  {
   "cell_type": "code",
   "execution_count": 0,
   "metadata": {
    "colab": {},
    "colab_type": "code",
    "id": "bkzgNfvRjxwG"
   },
   "outputs": [],
   "source": [
    "min(list_3)"
   ]
  },
  {
   "cell_type": "markdown",
   "metadata": {
    "colab_type": "text",
    "id": "ZspTXVGUkDUR"
   },
   "source": [
    "### Get maximum value in a list\n",
    "- Get maximum value in list \"list_3\"\n",
    "- Use max() method"
   ]
  },
  {
   "cell_type": "code",
   "execution_count": 0,
   "metadata": {
    "colab": {},
    "colab_type": "code",
    "id": "_hCUslsfkDUW"
   },
   "outputs": [],
   "source": [
    "max(list_3)"
   ]
  },
  {
   "cell_type": "markdown",
   "metadata": {
    "colab_type": "text",
    "id": "jnWFo6B6oLsQ"
   },
   "source": [
    "### Sum up all the elements in a list\n",
    "- Sum all the elements in \"list_3\"\n",
    "- Use sum() method"
   ]
  },
  {
   "cell_type": "code",
   "execution_count": 0,
   "metadata": {
    "colab": {},
    "colab_type": "code",
    "id": "bQRxd7LOoLss"
   },
   "outputs": [],
   "source": [
    "sum(list_3)"
   ]
  },
  {
   "cell_type": "markdown",
   "metadata": {
    "colab_type": "text",
    "id": "_fLwXiQ2HGSQ"
   },
   "source": [
    "# Question 3"
   ]
  },
  {
   "cell_type": "markdown",
   "metadata": {
    "colab_type": "text",
    "id": "BE2Y9v1ppNWu"
   },
   "source": [
    "### Calculate mean of values in a list\n",
    "- Calculate mean of \"list_3\"\n",
    "- Mean = sum of all elements in the list / number of elements in the list"
   ]
  },
  {
   "cell_type": "code",
   "execution_count": 0,
   "metadata": {
    "colab": {},
    "colab_type": "code",
    "id": "MyNr439PpNWz"
   },
   "outputs": [],
   "source": [
    "Mean = sum(list_3)/len(list_3)"
   ]
  },
  {
   "cell_type": "markdown",
   "metadata": {
    "colab_type": "text",
    "id": "vGc5_S7EqpGE"
   },
   "source": [
    "### Count the occurence of an element in a given list\n",
    "- There is list given below named \"list_4\"\n",
    "- Count the occurence of number 5 in \"list_4\"\n",
    "- Use count() method"
   ]
  },
  {
   "cell_type": "code",
   "execution_count": 0,
   "metadata": {
    "colab": {},
    "colab_type": "code",
    "id": "jjp7WGcfq-1n"
   },
   "outputs": [],
   "source": [
    "list_4 = [1, 2, 3, 5, 7, 5, 8, 9, 5, 3, 0, 7, 5]"
   ]
  },
  {
   "cell_type": "code",
   "execution_count": 0,
   "metadata": {
    "colab": {},
    "colab_type": "code",
    "id": "PgMZrCqiqpGJ"
   },
   "outputs": [],
   "source": [
    " list_4.count(5)"
   ]
  },
  {
   "cell_type": "markdown",
   "metadata": {
    "colab_type": "text",
    "id": "3bdFwpiurgGo"
   },
   "source": [
    "### Sort a list in ascending order\n",
    "- Sort list_4 in ascending order\n",
    "- Use sort() method"
   ]
  },
  {
   "cell_type": "code",
   "execution_count": 0,
   "metadata": {
    "colab": {},
    "colab_type": "code",
    "id": "1_AvpfrorgGs"
   },
   "outputs": [],
   "source": [
    "list_4.sort()"
   ]
  },
  {
   "cell_type": "markdown",
   "metadata": {
    "colab_type": "text",
    "id": "NEOHn9zgr12C"
   },
   "source": [
    "# Sort a list in descending order\n",
    "- Sort list_4 in descending order\n",
    "- Use sort() method\n",
    "  - use `reverse=True` as parameter"
   ]
  },
  {
   "cell_type": "code",
   "execution_count": 0,
   "metadata": {
    "colab": {},
    "colab_type": "code",
    "id": "IVWDNaL_r12K"
   },
   "outputs": [],
   "source": [
    "list_4.sort()"
   ]
  },
  {
   "cell_type": "markdown",
   "metadata": {
    "colab_type": "text",
    "id": "otMzhrUSHHXi"
   },
   "source": [
    "# Question 4"
   ]
  },
  {
   "cell_type": "markdown",
   "metadata": {
    "colab_type": "text",
    "id": "Lgs5xeMcCmO4"
   },
   "source": [
    "## Function\n",
    "- Below is a simple code to define function in python\n",
    "- Below function named \"sample_function\" takes two arguments \"a\" and \"b\" and returns their product"
   ]
  },
  {
   "cell_type": "code",
   "execution_count": 0,
   "metadata": {
    "colab": {},
    "colab_type": "code",
    "id": "bvoltCyPuT7b"
   },
   "outputs": [],
   "source": [
    "def sample_function(a, b):\n",
    "  product = a * b\n",
    "  return product"
   ]
  },
  {
   "cell_type": "markdown",
   "metadata": {
    "colab_type": "text",
    "id": "ozV2ebcQvDk7"
   },
   "source": [
    "- This is how you call a function in python"
   ]
  },
  {
   "cell_type": "code",
   "execution_count": 0,
   "metadata": {
    "colab": {},
    "colab_type": "code",
    "id": "gfGy46aIu9sK"
   },
   "outputs": [],
   "source": [
    "sample_function(2, 3)"
   ]
  },
  {
   "cell_type": "markdown",
   "metadata": {
    "colab_type": "text",
    "id": "-5rcYqnaCmO5"
   },
   "source": [
    "### Define and call a function\n",
    "- Define a function named \"sum_three\"\n",
    "- It should take 3 numbers as arguments\n",
    "- It should return the sum of 3 numbers\n",
    "- Call the defined function giving required parameters"
   ]
  },
  {
   "cell_type": "code",
   "execution_count": 0,
   "metadata": {
    "colab": {},
    "colab_type": "code",
    "id": "GIp57kA3CmO6"
   },
   "outputs": [],
   "source": [
    "def sum_three(a,b,c):\n",
    "    sum = a+b+c\n",
    "    return sum"
   ]
  },
  {
   "cell_type": "code",
   "execution_count": 0,
   "metadata": {
    "colab": {},
    "colab_type": "code",
    "id": "w7AoX6pIxAzC"
   },
   "outputs": [],
   "source": [
    "sum_three(1,2,3)"
   ]
  },
  {
   "cell_type": "markdown",
   "metadata": {
    "colab_type": "text",
    "id": "ud2kxYpHCmO9"
   },
   "source": [
    "## Lambda function\n",
    "Anonymous function or no name function, which can be considered when you use a function only once\n"
   ]
  },
  {
   "cell_type": "markdown",
   "metadata": {
    "colab_type": "text",
    "id": "8z48dallx4FV"
   },
   "source": [
    "Below is an example of how you can define a lambda function"
   ]
  },
  {
   "cell_type": "code",
   "execution_count": 0,
   "metadata": {
    "colab": {},
    "colab_type": "code",
    "id": "-BMERZOFHEZD"
   },
   "outputs": [],
   "source": [
    "f = lambda x, y: x + y"
   ]
  },
  {
   "cell_type": "markdown",
   "metadata": {
    "colab_type": "text",
    "id": "Lbd4UmMKHFHK"
   },
   "source": [
    "Here's how you can call a lambda function using required parameters"
   ]
  },
  {
   "cell_type": "code",
   "execution_count": 0,
   "metadata": {
    "colab": {},
    "colab_type": "code",
    "id": "ToklmZW4HFtF"
   },
   "outputs": [],
   "source": [
    "f(1, 2)"
   ]
  },
  {
   "cell_type": "markdown",
   "metadata": {
    "colab_type": "text",
    "id": "y6ZdjL_8CmO-"
   },
   "source": [
    "### Define a lambda function\n",
    "- Define a lambda function named \"lambda_sum_three\" which takes 3 arguments and sums them up\n",
    "- Call the created function with required parameters"
   ]
  },
  {
   "cell_type": "code",
   "execution_count": 0,
   "metadata": {
    "colab": {},
    "colab_type": "code",
    "id": "_AGNd_8KCmO-"
   },
   "outputs": [],
   "source": [
    "lambda_sum_three = lambda x,y,z : x+y+z"
   ]
  },
  {
   "cell_type": "code",
   "execution_count": 0,
   "metadata": {
    "colab": {},
    "colab_type": "code",
    "id": "-UcTmX0bCmPC"
   },
   "outputs": [],
   "source": [
    "lambda_sum_three(1,2,3)"
   ]
  },
  {
   "cell_type": "markdown",
   "metadata": {
    "colab_type": "text",
    "id": "MzOPXOjmSYe8"
   },
   "source": [
    "# Question 5"
   ]
  },
  {
   "cell_type": "markdown",
   "metadata": {
    "colab_type": "text",
    "id": "W2czHqHkCmPN"
   },
   "source": [
    "## Numpy"
   ]
  },
  {
   "cell_type": "markdown",
   "metadata": {
    "colab_type": "text",
    "id": "BN77cOzTCmPO"
   },
   "source": [
    "Numpy adds support for large, multi-dimensional arrays and matrices, along with a large collection of high-level mathematical functions to operate on these arrays.\n",
    "\n"
   ]
  },
  {
   "cell_type": "markdown",
   "metadata": {
    "colab_type": "text",
    "id": "hmTYIUcsIIHW"
   },
   "source": [
    "Let's import numpy"
   ]
  },
  {
   "cell_type": "code",
   "execution_count": 0,
   "metadata": {
    "colab": {},
    "colab_type": "code",
    "id": "TJ9JClcSCmPP"
   },
   "outputs": [],
   "source": [
    "import numpy as np"
   ]
  },
  {
   "cell_type": "markdown",
   "metadata": {
    "colab_type": "text",
    "id": "ntp4kUpECmPR"
   },
   "source": [
    "Here's how you can create an array using numpy"
   ]
  },
  {
   "cell_type": "code",
   "execution_count": 0,
   "metadata": {
    "colab": {},
    "colab_type": "code",
    "id": "LQOFMRiVITqO"
   },
   "outputs": [],
   "source": [
    "np.array([1, 2, 3])"
   ]
  },
  {
   "cell_type": "markdown",
   "metadata": {
    "colab_type": "text",
    "id": "l2-AUKGXCmPX"
   },
   "source": [
    "### Create an identity array\n",
    "- Create an identity 2d-array of order 3x3\n",
    "- The identity array is a square array with ones on the main diagonal\n",
    "- Use identity() method"
   ]
  },
  {
   "cell_type": "code",
   "execution_count": 0,
   "metadata": {
    "colab": {},
    "colab_type": "code",
    "id": "VH3BYCSJCmPY"
   },
   "outputs": [],
   "source": [
    "np.eye(3,dtype='int')"
   ]
  },
  {
   "cell_type": "markdown",
   "metadata": {
    "colab_type": "text",
    "id": "gHk6Ttv_CmPZ"
   },
   "source": [
    "### Create a 2d array\n",
    "- Create a 2d-array of order 3x3 named \"sample_array\"\n",
    "- First row: 1, 2, 3\n",
    "- Second row: 4, 5, 6\n",
    "- Third row: 7, 8, 9\n",
    "- Arranged in the same order as above\n",
    "- Use array() method\n",
    "\n"
   ]
  },
  {
   "cell_type": "code",
   "execution_count": 0,
   "metadata": {
    "colab": {},
    "colab_type": "code",
    "id": "Lg_g0W6RCmPa"
   },
   "outputs": [],
   "source": [
    "sample_array = np.array ([[1,2,3],[4,5,6],[7,8,9]])"
   ]
  },
  {
   "cell_type": "markdown",
   "metadata": {
    "colab_type": "text",
    "id": "x1Qyve0-CmPc"
   },
   "source": [
    "### Create transpose of an array\n",
    "- Reverse both the rows and columns of the \"sample_array\" you created in previous step\n",
    "- Use transpose() method\n",
    "- You can also use T method to get a transposed array"
   ]
  },
  {
   "cell_type": "code",
   "execution_count": 0,
   "metadata": {
    "colab": {},
    "colab_type": "code",
    "id": "72kvIoV5CmPd"
   },
   "outputs": [],
   "source": [
    "sample_array = sample_array.T\n"
   ]
  },
  {
   "cell_type": "code",
   "execution_count": 0,
   "metadata": {
    "colab": {},
    "colab_type": "code",
    "id": "4BamfeF4NfjQ"
   },
   "outputs": [],
   "source": [
    "sample_array.transpose() "
   ]
  },
  {
   "cell_type": "markdown",
   "metadata": {
    "colab_type": "text",
    "id": "bHhrPMwkKV80"
   },
   "source": [
    "# Question 6"
   ]
  },
  {
   "cell_type": "markdown",
   "metadata": {
    "colab_type": "text",
    "id": "vZ3mghRiCmPf"
   },
   "source": [
    "### Add a number in all the elements of an array\n",
    "- Add 1 to all the elements in the array \"sample_array\"\n",
    "- \"+\" operator can be used to add a number to all elements in an array\n",
    "- Similarly, you can do operations like scalar substraction, division, multiplication (operating on each element in the array)"
   ]
  },
  {
   "cell_type": "code",
   "execution_count": 0,
   "metadata": {
    "colab": {},
    "colab_type": "code",
    "id": "tShjXVsLCmPg"
   },
   "outputs": [],
   "source": [
    "sample_array=sample_array+1"
   ]
  },
  {
   "cell_type": "markdown",
   "metadata": {
    "colab_type": "text",
    "id": "XP2b3uWWCmPi"
   },
   "source": [
    "### Find mean of all elements in an array\n",
    "- Find mean of all elements in the array \"sample_array\"\n",
    "- Use mean() method\n"
   ]
  },
  {
   "cell_type": "code",
   "execution_count": 0,
   "metadata": {
    "colab": {},
    "colab_type": "code",
    "id": "d6PuUDB5CmPl"
   },
   "outputs": [],
   "source": [
    "sample_array.mean()"
   ]
  },
  {
   "cell_type": "markdown",
   "metadata": {
    "colab_type": "text",
    "id": "7wnouspiCmPm"
   },
   "source": [
    "### Calculate dot product of two arrays\n",
    "- We are giving you two arrays \"a\" and \"b\"\n",
    "- Find the dot product of a and b\n",
    "- Use dot() method"
   ]
  },
  {
   "cell_type": "code",
   "execution_count": 0,
   "metadata": {
    "colab": {},
    "colab_type": "code",
    "id": "lbsk8GHaCmPn"
   },
   "outputs": [],
   "source": [
    "a = np.array([[1, 2], [3, 4]])\n",
    "b = np.array([[5, 6], [7, 8]])"
   ]
  },
  {
   "cell_type": "code",
   "execution_count": 0,
   "metadata": {
    "colab": {},
    "colab_type": "code",
    "id": "6UHAne0iCmPp"
   },
   "outputs": [],
   "source": [
    "a.dot(b)"
   ]
  },
  {
   "cell_type": "markdown",
   "metadata": {
    "colab_type": "text",
    "id": "LmCmu9O1e_TL"
   },
   "source": [
    "# Question 7"
   ]
  },
  {
   "cell_type": "markdown",
   "metadata": {
    "colab_type": "text",
    "id": "DLKqyFyyCmPu"
   },
   "source": [
    "## Pandas"
   ]
  },
  {
   "cell_type": "markdown",
   "metadata": {
    "colab_type": "text",
    "id": "VadWKvHcCmPv"
   },
   "source": [
    "We have seen Numpy in the previous section. It is good at performing math operations on arrays. But the major drawback is, it cannot deal with heterogenous values. So, Pandas dataframes are helpful in that aspect for storing different data types and referring the values like a dict in python instead of just referring each item with index."
   ]
  },
  {
   "cell_type": "markdown",
   "metadata": {
    "colab_type": "text",
    "id": "AdrNHyN2U--y"
   },
   "source": [
    "Here's how you can import pandas"
   ]
  },
  {
   "cell_type": "code",
   "execution_count": 0,
   "metadata": {
    "colab": {},
    "colab_type": "code",
    "id": "GRRnJETCVF1o"
   },
   "outputs": [],
   "source": [
    "import pandas as pd"
   ]
  },
  {
   "cell_type": "markdown",
   "metadata": {
    "colab_type": "text",
    "id": "EPSnVdNBCmPv"
   },
   "source": [
    "## Series\n",
    "Pandas series are almost same as arrays in numpy with a additional inferencing ability with custom labels like *keys* in a *dictionary* in python."
   ]
  },
  {
   "cell_type": "markdown",
   "metadata": {
    "colab_type": "text",
    "id": "TlCxPfVLVLXz"
   },
   "source": [
    "Here's how you can create a series"
   ]
  },
  {
   "cell_type": "code",
   "execution_count": 0,
   "metadata": {
    "colab": {},
    "colab_type": "code",
    "id": "QlIAD7aOCmPx"
   },
   "outputs": [],
   "source": [
    "pd.Series(data = [1,2,3], index = ['key1', 'key2', 'key3'])"
   ]
  },
  {
   "cell_type": "markdown",
   "metadata": {
    "colab_type": "text",
    "id": "GkknWgb3CmPy"
   },
   "source": [
    "### Create a series from dictionary\n",
    "- You are given a dictionary named \"sample_dict\" below\n",
    "- Convert \"sample_dict\" into a series\n",
    "- Use Series() method"
   ]
  },
  {
   "cell_type": "code",
   "execution_count": 0,
   "metadata": {
    "colab": {},
    "colab_type": "code",
    "id": "p7UXVG_ICmPz"
   },
   "outputs": [],
   "source": [
    "sample_dict = {'a': 1, 'b': 2, 'c': 3}"
   ]
  },
  {
   "cell_type": "code",
   "execution_count": 0,
   "metadata": {
    "colab": {},
    "colab_type": "code",
    "id": "jJ-odnvRCmP0"
   },
   "outputs": [],
   "source": [
    "pd.Series(sample_dict)"
   ]
  },
  {
   "cell_type": "markdown",
   "metadata": {
    "colab_type": "text",
    "id": "sYrKmCPzCmP3"
   },
   "source": [
    "## Dataframes"
   ]
  },
  {
   "cell_type": "markdown",
   "metadata": {
    "colab_type": "text",
    "id": "lvT0P4S4CmP3"
   },
   "source": [
    "Dataframes are the primary data structure for pandas. Two-dimensional size-mutable, potentially heterogeneous tabular data structure with labeled axes (rows and columns). Arithmetic operations align on both row and column labels. Can be thought of as a dict-like container for Series objects."
   ]
  },
  {
   "cell_type": "markdown",
   "metadata": {
    "colab_type": "text",
    "id": "p0P4zSBWZyiv"
   },
   "source": [
    "You can construct DataFrame from a dictionary"
   ]
  },
  {
   "cell_type": "code",
   "execution_count": 0,
   "metadata": {
    "colab": {},
    "colab_type": "code",
    "id": "AIEdo0pRCmP3"
   },
   "outputs": [],
   "source": [
    "d = {'col1': [1, 2], 'col2': [3, 4]}\n",
    "pd.DataFrame(data=d)"
   ]
  },
  {
   "cell_type": "markdown",
   "metadata": {
    "colab_type": "text",
    "id": "dLq2Jc8VacjP"
   },
   "source": [
    "You can construct DataFrame from a numpy array"
   ]
  },
  {
   "cell_type": "code",
   "execution_count": 2,
   "metadata": {
    "colab": {},
    "colab_type": "code",
    "id": "VxD9PcowaYUT"
   },
   "outputs": [
    {
     "ename": "NameError",
     "evalue": "name 'pd' is not defined",
     "output_type": "error",
     "traceback": [
      "\u001b[1;31m---------------------------------------------------------------------------\u001b[0m",
      "\u001b[1;31mNameError\u001b[0m                                 Traceback (most recent call last)",
      "\u001b[1;32m<ipython-input-2-f5a364445f55>\u001b[0m in \u001b[0;36m<module>\u001b[1;34m\u001b[0m\n\u001b[1;32m----> 1\u001b[1;33m \u001b[0mpd\u001b[0m\u001b[1;33m.\u001b[0m\u001b[0mDataFrame\u001b[0m\u001b[1;33m(\u001b[0m\u001b[0mnp\u001b[0m\u001b[1;33m.\u001b[0m\u001b[0marray\u001b[0m\u001b[1;33m(\u001b[0m\u001b[1;33m[\u001b[0m\u001b[1;33m[\u001b[0m\u001b[1;36m1\u001b[0m\u001b[1;33m,\u001b[0m \u001b[1;36m2\u001b[0m\u001b[1;33m,\u001b[0m \u001b[1;36m3\u001b[0m\u001b[1;33m]\u001b[0m\u001b[1;33m,\u001b[0m \u001b[1;33m[\u001b[0m\u001b[1;36m4\u001b[0m\u001b[1;33m,\u001b[0m \u001b[1;36m5\u001b[0m\u001b[1;33m,\u001b[0m \u001b[1;36m6\u001b[0m\u001b[1;33m]\u001b[0m\u001b[1;33m,\u001b[0m \u001b[1;33m[\u001b[0m\u001b[1;36m7\u001b[0m\u001b[1;33m,\u001b[0m \u001b[1;36m8\u001b[0m\u001b[1;33m,\u001b[0m \u001b[1;36m9\u001b[0m\u001b[1;33m]\u001b[0m\u001b[1;33m]\u001b[0m\u001b[1;33m)\u001b[0m\u001b[1;33m,\u001b[0m \u001b[0mcolumns\u001b[0m\u001b[1;33m=\u001b[0m\u001b[1;33m[\u001b[0m\u001b[1;34m'a'\u001b[0m\u001b[1;33m,\u001b[0m \u001b[1;34m'b'\u001b[0m\u001b[1;33m,\u001b[0m \u001b[1;34m'c'\u001b[0m\u001b[1;33m]\u001b[0m\u001b[1;33m)\u001b[0m\u001b[1;33m\u001b[0m\u001b[1;33m\u001b[0m\u001b[0m\n\u001b[0m",
      "\u001b[1;31mNameError\u001b[0m: name 'pd' is not defined"
     ]
    }
   ],
   "source": [
    "pd.DataFrame(np.array([[1, 2, 3], [4, 5, 6], [7, 8, 9]]), columns=['a', 'b', 'c'])"
   ]
  },
  {
   "cell_type": "markdown",
   "metadata": {
    "colab_type": "text",
    "id": "xyI9SF7HCmP5"
   },
   "source": [
    "### Select specific row in given dataframe\n",
    "- There is a dataframe named \"df\" is given below\n",
    "- You have to select second row in this dataframe\n",
    "- You can use \"loc\"\n",
    "- There are multiple ways of doing it\n"
   ]
  },
  {
   "cell_type": "code",
   "execution_count": 1,
   "metadata": {
    "colab": {},
    "colab_type": "code",
    "id": "w9OdSIOAF7Mw"
   },
   "outputs": [
    {
     "ename": "NameError",
     "evalue": "name 'pd' is not defined",
     "output_type": "error",
     "traceback": [
      "\u001b[1;31m---------------------------------------------------------------------------\u001b[0m",
      "\u001b[1;31mNameError\u001b[0m                                 Traceback (most recent call last)",
      "\u001b[1;32m<ipython-input-1-fef8b6c481a4>\u001b[0m in \u001b[0;36m<module>\u001b[1;34m\u001b[0m\n\u001b[1;32m----> 1\u001b[1;33m \u001b[0mdf\u001b[0m \u001b[1;33m=\u001b[0m \u001b[0mpd\u001b[0m\u001b[1;33m.\u001b[0m\u001b[0mDataFrame\u001b[0m\u001b[1;33m(\u001b[0m\u001b[0mnp\u001b[0m\u001b[1;33m.\u001b[0m\u001b[0marray\u001b[0m\u001b[1;33m(\u001b[0m\u001b[1;33m[\u001b[0m\u001b[1;33m[\u001b[0m\u001b[1;34m'a'\u001b[0m\u001b[1;33m,\u001b[0m \u001b[1;34m'b'\u001b[0m\u001b[1;33m,\u001b[0m \u001b[1;34m'c'\u001b[0m\u001b[1;33m]\u001b[0m\u001b[1;33m,\u001b[0m \u001b[1;33m[\u001b[0m\u001b[1;34m'd'\u001b[0m\u001b[1;33m,\u001b[0m \u001b[1;34m'e'\u001b[0m\u001b[1;33m,\u001b[0m \u001b[1;34m'f'\u001b[0m\u001b[1;33m]\u001b[0m\u001b[1;33m,\u001b[0m \u001b[1;33m[\u001b[0m\u001b[1;34m'g'\u001b[0m\u001b[1;33m,\u001b[0m \u001b[1;34m'h'\u001b[0m\u001b[1;33m,\u001b[0m \u001b[1;34m'i'\u001b[0m\u001b[1;33m]\u001b[0m\u001b[1;33m]\u001b[0m\u001b[1;33m)\u001b[0m\u001b[1;33m,\u001b[0m \u001b[0mcolumns\u001b[0m\u001b[1;33m=\u001b[0m\u001b[1;33m[\u001b[0m\u001b[1;34m'col1'\u001b[0m\u001b[1;33m,\u001b[0m \u001b[1;34m'col2'\u001b[0m\u001b[1;33m,\u001b[0m \u001b[1;34m'col3'\u001b[0m\u001b[1;33m]\u001b[0m\u001b[1;33m)\u001b[0m\u001b[1;33m\u001b[0m\u001b[1;33m\u001b[0m\u001b[0m\n\u001b[0m",
      "\u001b[1;31mNameError\u001b[0m: name 'pd' is not defined"
     ]
    }
   ],
   "source": [
    "df = pd.DataFrame(np.array([['a', 'b', 'c'], ['d', 'e', 'f'], ['g', 'h', 'i']]), columns=['col1', 'col2', 'col3'])"
   ]
  },
  {
   "cell_type": "code",
   "execution_count": 0,
   "metadata": {
    "colab": {},
    "colab_type": "code",
    "id": "5mpdhaIJCmP5"
   },
   "outputs": [],
   "source": [
    " df.loc[1]"
   ]
  },
  {
   "cell_type": "markdown",
   "metadata": {
    "colab_type": "text",
    "id": "XRH4PyWfIlom"
   },
   "source": [
    "### Select specific row and column value in given dataframe\n",
    "- There is a dataframe named \"df\" is given above\n",
    "- You have to select the value on first row and second column\n",
    "- You have to do it using \"loc\" and \"iloc\" methods\n",
    "- \"loc\" accepts labels for column name\n",
    "- \"iloc\" accepts indexes\n"
   ]
  },
  {
   "cell_type": "code",
   "execution_count": 0,
   "metadata": {
    "colab": {},
    "colab_type": "code",
    "id": "i1aosYUWCmP8"
   },
   "outputs": [],
   "source": [
    "df.loc[0]['col2']"
   ]
  },
  {
   "cell_type": "code",
   "execution_count": 0,
   "metadata": {
    "colab": {},
    "colab_type": "code",
    "id": "P8ZSOW4XJL30"
   },
   "outputs": [],
   "source": [
    "df.iloc[0,1]"
   ]
  },
  {
   "cell_type": "markdown",
   "metadata": {
    "colab_type": "text",
    "id": "B4fkgEl9fCfR"
   },
   "source": [
    "# Question 8"
   ]
  },
  {
   "cell_type": "markdown",
   "metadata": {
    "colab_type": "text",
    "id": "ksdKyqHGCmP9"
   },
   "source": [
    "## Working on dataset using dataframe"
   ]
  },
  {
   "cell_type": "markdown",
   "metadata": {
    "colab_type": "text",
    "id": "vIPO5LtICmP9"
   },
   "source": [
    "### Using the mtcars dataset.\n",
    "\n",
    "For the below set of questions, we will be using the cars data from [Motor Trend Car Road Tests](http://stat.ethz.ch/R-manual/R-devel/library/datasets/html/mtcars.html)\n",
    "\n",
    "The data was extracted from the 1974 Motor Trend US magazine, and comprises fuel consumption and 10 aspects of automobile design and performance for 32 automobiles (1973–74 models). \n",
    "\n",
    "\n",
    "Details :\n",
    "    \n",
    "A data frame with 32 observations on 11 (numeric) variables.\n",
    "\n",
    "1. mpg \tMiles/(US) gallon\n",
    "2. cyl \tNumber of cylinders\n",
    "3. disp \tDisplacement (cu.in.)\n",
    "4. hp \tGross horsepower\n",
    "5. drat \tRear axle ratio\n",
    "6. wt \tWeight (1000 lbs)\n",
    "7. qsec \t1/4 mile time\n",
    "8. vs \tEngine (0 = V-shaped, 1 = straight)\n",
    "9. am \tTransmission (0 = automatic, 1 = manual)\n",
    "10. gear \tNumber of forward gears\n",
    "11. carb \tNumber of carburetors \n"
   ]
  },
  {
   "cell_type": "code",
   "execution_count": 0,
   "metadata": {
    "colab": {},
    "colab_type": "code",
    "id": "z87wizLtCmP-"
   },
   "outputs": [],
   "source": [
    "# Run this cell only if you are using Google colab\n",
    "# Skip this cell if you are using jupyter notebook\n",
    "from google.colab import files\n",
    "files.upload()"
   ]
  },
  {
   "cell_type": "markdown",
   "metadata": {
    "colab_type": "text",
    "id": "D9odNhKIMyQt"
   },
   "source": [
    "Here's how you read a csv file in pandas\n",
    "- Here we are loading mtcars dataset in a dataframe named \"mtcars\""
   ]
  },
  {
   "cell_type": "code",
   "execution_count": 0,
   "metadata": {
    "colab": {},
    "colab_type": "code",
    "id": "5kiJqk9jCmQB"
   },
   "outputs": [],
   "source": [
    "mtcars = pd.read_csv('mtcars.csv')"
   ]
  },
  {
   "cell_type": "markdown",
   "metadata": {
    "colab_type": "text",
    "id": "RHhMKc9ANhU_"
   },
   "source": [
    "### Print first five rows of the dataframe\n",
    "- Print first five rows of \"mtcars\" dataframe\n",
    "- Use head() method"
   ]
  },
  {
   "cell_type": "code",
   "execution_count": 0,
   "metadata": {
    "colab": {},
    "colab_type": "code",
    "id": "MoKlTohYCmQE"
   },
   "outputs": [],
   "source": [
    "mtcars.head()\n"
   ]
  },
  {
   "cell_type": "markdown",
   "metadata": {
    "colab_type": "text",
    "id": "ziWeCGPYNwIG"
   },
   "source": [
    "### Print last five rows of the dataframe\n",
    "- Print last five rows of \"mtcars\" dataframe\n",
    "- Use tail() method"
   ]
  },
  {
   "cell_type": "code",
   "execution_count": 0,
   "metadata": {
    "colab": {},
    "colab_type": "code",
    "id": "mJyjBLgeNwIK"
   },
   "outputs": [],
   "source": [
    "mtcars.tail()"
   ]
  },
  {
   "cell_type": "markdown",
   "metadata": {
    "colab_type": "text",
    "id": "XLQhrGLEOBsQ"
   },
   "source": [
    "### Display all the columns in a given dataframe\n",
    "- Display all the column names of \"mtcars\" dataframe\n",
    "- Use columns method"
   ]
  },
  {
   "cell_type": "code",
   "execution_count": 0,
   "metadata": {
    "colab": {},
    "colab_type": "code",
    "id": "XjlfTiHxCmQH"
   },
   "outputs": [],
   "source": [
    "mtcars.columns"
   ]
  },
  {
   "cell_type": "markdown",
   "metadata": {
    "colab_type": "text",
    "id": "hJxPIw7AfHUm"
   },
   "source": [
    "# Question 9"
   ]
  },
  {
   "cell_type": "markdown",
   "metadata": {
    "colab_type": "text",
    "id": "LoE__RSlP_4n"
   },
   "source": [
    "### Select first few rows and columns in a given dataframe\n",
    "- You have to select first six rows and first three columns from \"mtcars\" dataframe\n",
    "- Use iloc method\n"
   ]
  },
  {
   "cell_type": "code",
   "execution_count": 0,
   "metadata": {
    "colab": {},
    "colab_type": "code",
    "id": "hdgLczvaQRsp"
   },
   "outputs": [],
   "source": [
    "mtcars.iloc[0:6,0:3]"
   ]
  },
  {
   "cell_type": "markdown",
   "metadata": {
    "colab_type": "text",
    "id": "y3ULjfBIViD2"
   },
   "source": [
    "### Select first few rows and specific columns in a given dataframe\n",
    "- You have to select first six rows and three columns from \"mtcars\" dataframe\n",
    "- Name of three columns to be selected are: \"wt\", \"qsec\" and \"gear\"\n",
    "- Use \"loc\" method\n"
   ]
  },
  {
   "cell_type": "code",
   "execution_count": 0,
   "metadata": {
    "colab": {},
    "colab_type": "code",
    "id": "vO_FTWFLViED"
   },
   "outputs": [],
   "source": [
    "mtcars.loc[0:6,['wt','qsec','gear']]"
   ]
  },
  {
   "cell_type": "markdown",
   "metadata": {
    "colab_type": "text",
    "id": "AvPw-E54ZR0S"
   },
   "source": [
    "### Calculate mean of each column in a dataframe\n",
    "- Calculate mean of each column in \"mtcars\" dataframe\n",
    "- Use mean() method"
   ]
  },
  {
   "cell_type": "code",
   "execution_count": 0,
   "metadata": {
    "colab": {},
    "colab_type": "code",
    "id": "EFfxhafgCmQl"
   },
   "outputs": [],
   "source": [
    "mtcars.mean()"
   ]
  },
  {
   "cell_type": "markdown",
   "metadata": {
    "colab_type": "text",
    "id": "CSaqZrOiCmQp"
   },
   "source": [
    "### Plot a specific column in a given dataframe\n",
    "- Plot \"mpg\" column in \"mtcars\" dataframe\n",
    "- Use plot method of matplotlib.pyplot"
   ]
  },
  {
   "cell_type": "code",
   "execution_count": 0,
   "metadata": {
    "colab": {},
    "colab_type": "code",
    "id": "kJv4tdu_CmQp"
   },
   "outputs": [],
   "source": [
    "import matplotlib.pyplot as plt\n",
    "plt.plot(mtcars['mpg'])"
   ]
  },
  {
   "cell_type": "markdown",
   "metadata": {
    "colab_type": "text",
    "id": "OJpjNd4sfQHl"
   },
   "source": [
    "# Question 10"
   ]
  },
  {
   "cell_type": "markdown",
   "metadata": {
    "colab_type": "text",
    "id": "3E5sdUN1CmQt"
   },
   "source": [
    "### Calculate 25th quantile of specific column\n",
    "- Calculate 25th quantile (lower quantile) for `mpg` column in \"mtcars\" dataframe\n",
    "- Use quantile() method"
   ]
  },
  {
   "cell_type": "code",
   "execution_count": 0,
   "metadata": {
    "colab": {},
    "colab_type": "code",
    "id": "8r_xsuWyCmQt"
   },
   "outputs": [],
   "source": [
    "mtcars['mpg'].quantile(0.25)"
   ]
  },
  {
   "cell_type": "markdown",
   "metadata": {
    "colab_type": "text",
    "id": "Lis3JVaScxpK"
   },
   "source": [
    "### Calculate interquartile range (IQR) of an specific column\n",
    "- Calculate interquartile range for `mpg` column in \"mtcars\" dataframe\n",
    "- Use quantile() method\n",
    "- Interquartile range (IQR) is another common measure of spread\n",
    "- IQR is the distance between the 3rd quartile and the 1st quartile\n",
    "- IQR = Q3 - Q1"
   ]
  },
  {
   "cell_type": "code",
   "execution_count": 0,
   "metadata": {
    "colab": {},
    "colab_type": "code",
    "id": "X30umIA1CmQv"
   },
   "outputs": [],
   "source": [
    "q1= mtcars.mpg.quantile(0.25)\n",
    "q3 = mtcars.mpg.quantile(0.75)"
   ]
  },
  {
   "cell_type": "markdown",
   "metadata": {
    "colab_type": "text",
    "id": "B70Wcsazdp2i"
   },
   "source": [
    "### Calculate variance of a specific column in dataframe\n",
    "- Calculate variance of \"mpg\" column in \"mtcars\" dataframe\n",
    "- Use var() method"
   ]
  },
  {
   "cell_type": "code",
   "execution_count": 0,
   "metadata": {
    "colab": {},
    "colab_type": "code",
    "id": "va92yaFVd4GH"
   },
   "outputs": [],
   "source": [
    "mtcars['mpg'].var()"
   ]
  },
  {
   "cell_type": "markdown",
   "metadata": {
    "colab_type": "text",
    "id": "VSgyc7-ueAxb"
   },
   "source": [
    "### Calculate standard deviation of a specific column in dataframe\n",
    "- Calculate standard deviation of \"mpg\" column in \"mtcars\" dataframe\n",
    "- Use std() method"
   ]
  },
  {
   "cell_type": "code",
   "execution_count": 0,
   "metadata": {
    "colab": {},
    "colab_type": "code",
    "id": "LEm61puweAxf"
   },
   "outputs": [],
   "source": [
    "mtcars['mpg'].std()"
   ]
  },
  {
   "cell_type": "markdown",
   "metadata": {
    "colab_type": "text",
    "id": "-6YVdpnLeM7D"
   },
   "source": [
    "### Calculate mean absolute deviation of a specific column in dataframe\n",
    "- Calculate mean absolute deviation of \"mpg\" column in \"mtcars\" dataframe\n",
    "- Use mad() method"
   ]
  },
  {
   "cell_type": "code",
   "execution_count": 0,
   "metadata": {
    "colab": {},
    "colab_type": "code",
    "id": "i-6p9NAReM7H"
   },
   "outputs": [],
   "source": [
    "mtcars['mpg'].mad()"
   ]
  }
 ],
 "metadata": {
  "colab": {
   "name": "Questions - Internal - R1 - AIML Labs.ipynb",
   "provenance": [],
   "version": "0.3.2"
  },
  "kernelspec": {
   "display_name": "Python 3",
   "language": "python",
   "name": "python3"
  },
  "language_info": {
   "codemirror_mode": {
    "name": "ipython",
    "version": 3
   },
   "file_extension": ".py",
   "mimetype": "text/x-python",
   "name": "python",
   "nbconvert_exporter": "python",
   "pygments_lexer": "ipython3",
   "version": "3.7.6"
  }
 },
 "nbformat": 4,
 "nbformat_minor": 1
}
