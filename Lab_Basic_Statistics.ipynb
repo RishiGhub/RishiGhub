{
 "cells": [
  {
   "cell_type": "markdown",
   "metadata": {},
   "source": [
    "#### > Import below libraries and proceed <"
   ]
  },
  {
   "cell_type": "code",
   "execution_count": 69,
   "metadata": {
    "colab": {
     "base_uri": "https://localhost:8080/",
     "height": 71
    },
    "colab_type": "code",
    "id": "ea0ttzRzZwcp",
    "outputId": "7336f693-1fb2-478d-f377-916d245295c8"
   },
   "outputs": [],
   "source": [
    "import numpy       as np\n",
    "import pandas      as pd\n",
    "import scipy.stats as stats\n",
    "from scipy.stats             import ttest_1samp,ttest_ind, wilcoxon\n",
    "from statsmodels.stats.power import ttest_power\n",
    "import matplotlib.pyplot     as     plt"
   ]
  },
  {
   "cell_type": "markdown",
   "metadata": {},
   "source": [
    "| Question No. | Marks | Total |\n",
    "|  -------- | ----- | ---- |\n",
    "| Q1- Q5 | 1 Mark each | 5 Marks |\n",
    "| Q6- Q10 | 2 Mark each | 10 Marks |\n",
    "| Total | --------------> | 15 Marks|\n"
   ]
  },
  {
   "cell_type": "markdown",
   "metadata": {
    "colab_type": "text",
    "id": "QYZr9yOCs4A-"
   },
   "source": [
    "## <font color ='Dark '>Q1- Q3 Description-  The data collected by an Advertisement agency has revealed that out of 2800 visitors, 56 visitors clicked on 1 Advertisement, 30 clicked on 2 advertisements and 14 clicked on 3 advertisements and the remaining did not click on any advertisement.</font>\n",
    "\n",
    "\n"
   ]
  },
  {
   "cell_type": "markdown",
   "metadata": {},
   "source": [
    "## Calculate\n",
    "\n",
    "### Q1 The probability that a visitor to the website will not click on any advertisement. \n",
    "(1 Mark)"
   ]
  },
  {
   "cell_type": "code",
   "execution_count": 70,
   "metadata": {
    "colab": {},
    "colab_type": "code",
    "id": "V7fgNooGyDst"
   },
   "outputs": [
    {
     "name": "stdout",
     "output_type": "stream",
     "text": [
      "The probability of event is  0.9643\n"
     ]
    }
   ],
   "source": [
    "p = round((2800-(56+30+14))/2800,4)\n",
    "print(\"The probability of event is \",p)"
   ]
  },
  {
   "cell_type": "markdown",
   "metadata": {
    "colab_type": "text",
    "id": "dDaMBGPnwLJA"
   },
   "source": [
    "### Q2 The probability that a visitor to the website will click on an advertisement. \n",
    "(1 Mark)"
   ]
  },
  {
   "cell_type": "code",
   "execution_count": 71,
   "metadata": {
    "colab": {},
    "colab_type": "code",
    "id": "jN83WUlYyFFF"
   },
   "outputs": [
    {
     "name": "stdout",
     "output_type": "stream",
     "text": [
      "The probability of event is  0.0357\n"
     ]
    }
   ],
   "source": [
    "total= 56+30+14\n",
    "sample=2800\n",
    "\n",
    "P = round(total/sample,4)\n",
    "print(\"The probability of event is \",P)\n"
   ]
  },
  {
   "cell_type": "markdown",
   "metadata": {
    "colab_type": "text",
    "id": "x1A8GTBbwP-D"
   },
   "source": [
    "### Q3 The probability that a visitor to the website will click on more than one advertisement. \n",
    "(1 Mark)"
   ]
  },
  {
   "cell_type": "code",
   "execution_count": 72,
   "metadata": {
    "colab": {},
    "colab_type": "code",
    "id": "W7uYaOR2yGRx"
   },
   "outputs": [
    {
     "name": "stdout",
     "output_type": "stream",
     "text": [
      "The probability of event is  0.0157\n"
     ]
    }
   ],
   "source": [
    "c1=50\n",
    "c2=30\n",
    "c3=14\n",
    "sample=2800\n",
    "\n",
    "P= round((c2+c3)/sample,4)\n",
    "print(\"The probability of event is \",P)"
   ]
  },
  {
   "cell_type": "markdown",
   "metadata": {
    "colab_type": "text",
    "id": "Bn_1RzXcu-Q5"
   },
   "source": [
    "## <font color ='Dark '> Q4 -5 Description - At a popular company service center, a total of 100 complaints were received. 80 customers complained about late delivery of the items and 60 complained about poor product quality.\n",
    "</font>\n",
    "\n"
   ]
  },
  {
   "cell_type": "markdown",
   "metadata": {},
   "source": [
    "### Q4 Calculate the probability that a customer complaint will be about both product quality and late delivery. \n",
    "(1 Mark)"
   ]
  },
  {
   "cell_type": "code",
   "execution_count": 73,
   "metadata": {
    "colab": {},
    "colab_type": "code",
    "id": "FkIzX0E9yJcO"
   },
   "outputs": [],
   "source": [
    "p_AUB = 100\n",
    "p_A = 80\n",
    "p_B = 60"
   ]
  },
  {
   "cell_type": "code",
   "execution_count": 74,
   "metadata": {},
   "outputs": [
    {
     "ename": "NameError",
     "evalue": "name 'p_a_int_B' is not defined",
     "output_type": "error",
     "traceback": [
      "\u001b[1;31m---------------------------------------------------------------------------\u001b[0m",
      "\u001b[1;31mNameError\u001b[0m                                 Traceback (most recent call last)",
      "\u001b[1;32m<ipython-input-74-287a0c4746b2>\u001b[0m in \u001b[0;36m<module>\u001b[1;34m\u001b[0m\n\u001b[1;32m----> 1\u001b[1;33m \u001b[0mp_AUB\u001b[0m \u001b[1;33m=\u001b[0m \u001b[0mp_A\u001b[0m \u001b[1;33m+\u001b[0m \u001b[0mp_B\u001b[0m \u001b[1;33m-\u001b[0m \u001b[0mp_a_int_B\u001b[0m\u001b[1;33m\u001b[0m\u001b[1;33m\u001b[0m\u001b[0m\n\u001b[0m",
      "\u001b[1;31mNameError\u001b[0m: name 'p_a_int_B' is not defined"
     ]
    }
   ],
   "source": [
    "p_AUB = p_A + p_B - p_a_int_B"
   ]
  },
  {
   "cell_type": "code",
   "execution_count": 75,
   "metadata": {},
   "outputs": [
    {
     "data": {
      "text/plain": [
       "40"
      ]
     },
     "execution_count": 75,
     "metadata": {},
     "output_type": "execute_result"
    }
   ],
   "source": [
    "80 +60- 100"
   ]
  },
  {
   "cell_type": "code",
   "execution_count": 76,
   "metadata": {},
   "outputs": [
    {
     "data": {
      "text/plain": [
       "0.4"
      ]
     },
     "execution_count": 76,
     "metadata": {},
     "output_type": "execute_result"
    }
   ],
   "source": [
    "40/100"
   ]
  },
  {
   "cell_type": "markdown",
   "metadata": {
    "colab_type": "text",
    "id": "O_XYI2Atwbuw"
   },
   "source": [
    "### Q5 - What is the probability that a complaint will be only about late delivery? \n",
    "(1 Mark)"
   ]
  },
  {
   "cell_type": "code",
   "execution_count": 77,
   "metadata": {
    "colab": {},
    "colab_type": "code",
    "id": "qufjDipWyKIJ"
   },
   "outputs": [
    {
     "data": {
      "text/plain": [
       "0.4"
      ]
     },
     "execution_count": 77,
     "metadata": {},
     "output_type": "execute_result"
    }
   ],
   "source": [
    "(80-40)/100"
   ]
  },
  {
   "cell_type": "markdown",
   "metadata": {
    "colab_type": "text",
    "id": "Ufagdi4UpLGN"
   },
   "source": [
    "### Q6 You are given the daily sugar intake of 11 diabetic patients in the following Python code. Is there any evidence to the claim that the average daily sugar intake of the diabetic patients is 7600 mg. \n",
    "(2 Marks)\n",
    "\n",
    "* Hint: Use t test"
   ]
  },
  {
   "cell_type": "code",
   "execution_count": 78,
   "metadata": {},
   "outputs": [],
   "source": [
    "# daily intake of Sugar in milligrams for 11 diabetic patients\n",
    "\n",
    "daily_intake = np.array([5560, 5770, 7640, 5180, 5690, 6435, 6803, 7689, 6876, 8213, 8765])"
   ]
  },
  {
   "cell_type": "code",
   "execution_count": 79,
   "metadata": {
    "colab": {},
    "colab_type": "code",
    "id": "lVazFh46yLVz"
   },
   "outputs": [],
   "source": [
    "t_stat, p_value = ttest_1samp(daily_intake,7600)"
   ]
  },
  {
   "cell_type": "code",
   "execution_count": 80,
   "metadata": {},
   "outputs": [
    {
     "data": {
      "text/plain": [
       "0.04481624562570511"
      ]
     },
     "execution_count": 80,
     "metadata": {},
     "output_type": "execute_result"
    }
   ],
   "source": [
    "p_value"
   ]
  },
  {
   "cell_type": "markdown",
   "metadata": {
    "colab_type": "text",
    "id": "PzNPNv1lZwc7"
   },
   "source": [
    "## <font color ='Dark '>Q7-Q8 Description Write the null and alternative hypothesis from the following hypopthesis description:</font>\n"
   ]
  },
  {
   "cell_type": "markdown",
   "metadata": {},
   "source": [
    "### Q7Average annual salary of Data Scientists is different for those having Ph.D in Statistics and those who do not.\n",
    "(2 Marks)\n",
    "* Let $\\mu_{PhD}$ be the average annual salary of a Data scientist with Ph.D in Statistics.\n",
    "* Let $\\mu_{NoPhD}$ be the average annual salary of a Data scientist without Ph.D in Statistics."
   ]
  },
  {
   "cell_type": "code",
   "execution_count": 81,
   "metadata": {
    "colab_type": "text",
    "id": "qc3FIR-4yQKn"
   },
   "outputs": [
    {
     "ename": "NameError",
     "evalue": "name 'μPhD' is not defined",
     "output_type": "error",
     "traceback": [
      "\u001b[1;31m---------------------------------------------------------------------------\u001b[0m",
      "\u001b[1;31mNameError\u001b[0m                                 Traceback (most recent call last)",
      "\u001b[1;32m<ipython-input-81-908f3b4abd54>\u001b[0m in \u001b[0;36m<module>\u001b[1;34m\u001b[0m\n\u001b[1;32m----> 1\u001b[1;33m \u001b[0mH0\u001b[0m\u001b[1;33m:\u001b[0m  \u001b[0m𝜇𝑃ℎ𝐷\u001b[0m  \u001b[1;33m==\u001b[0m \u001b[0m𝜇𝑁𝑜𝑃ℎ𝐷\u001b[0m\u001b[1;33m\u001b[0m\u001b[1;33m\u001b[0m\u001b[0m\n\u001b[0m\u001b[0;32m      2\u001b[0m \u001b[0mHA\u001b[0m\u001b[1;33m:\u001b[0m  \u001b[0m𝜇𝑃ℎ𝐷\u001b[0m  \u001b[1;33m!=\u001b[0m \u001b[0m𝜇𝑁𝑜𝑃ℎ𝐷\u001b[0m\u001b[1;33m\u001b[0m\u001b[1;33m\u001b[0m\u001b[0m\n",
      "\u001b[1;31mNameError\u001b[0m: name 'μPhD' is not defined"
     ]
    }
   ],
   "source": [
    "H0:  𝜇𝑃ℎ𝐷  == 𝜇𝑁𝑜𝑃ℎ𝐷 \n",
    "HA:  𝜇𝑃ℎ𝐷  != 𝜇𝑁𝑜𝑃ℎ𝐷"
   ]
  },
  {
   "cell_type": "markdown",
   "metadata": {
    "colab_type": "text",
    "id": "OIUIIEBEZwc9"
   },
   "source": [
    "### Q8 Average annual salary of Data Scientists is more for those having Ph.D in Statistics and those who do not. \n",
    "(2 Marks)"
   ]
  },
  {
   "cell_type": "code",
   "execution_count": 82,
   "metadata": {
    "colab_type": "text",
    "id": "016BhZvgyQ8l"
   },
   "outputs": [
    {
     "ename": "NameError",
     "evalue": "name 'μPhD' is not defined",
     "output_type": "error",
     "traceback": [
      "\u001b[1;31m---------------------------------------------------------------------------\u001b[0m",
      "\u001b[1;31mNameError\u001b[0m                                 Traceback (most recent call last)",
      "\u001b[1;32m<ipython-input-82-d7eb30b29213>\u001b[0m in \u001b[0;36m<module>\u001b[1;34m\u001b[0m\n\u001b[1;32m----> 1\u001b[1;33m \u001b[0mH0\u001b[0m \u001b[1;33m=\u001b[0m \u001b[0m𝜇𝑃ℎ𝐷\u001b[0m \u001b[1;33m<=\u001b[0m \u001b[0m𝜇𝑁𝑜𝑃ℎ𝐷\u001b[0m\u001b[1;33m\u001b[0m\u001b[1;33m\u001b[0m\u001b[0m\n\u001b[0m\u001b[0;32m      2\u001b[0m \u001b[0mHa\u001b[0m \u001b[1;33m=\u001b[0m \u001b[0m𝜇𝑃ℎ𝐷\u001b[0m \u001b[1;33m>\u001b[0m \u001b[0m𝜇𝑁𝑜𝑃ℎ𝐷\u001b[0m\u001b[1;33m\u001b[0m\u001b[1;33m\u001b[0m\u001b[0m\n",
      "\u001b[1;31mNameError\u001b[0m: name 'μPhD' is not defined"
     ]
    }
   ],
   "source": [
    "H0 = 𝜇𝑃ℎ𝐷 <= 𝜇𝑁𝑜𝑃ℎ𝐷\n",
    "Ha = 𝜇𝑃ℎ𝐷 > 𝜇𝑁𝑜𝑃ℎ𝐷"
   ]
  },
  {
   "cell_type": "markdown",
   "metadata": {
    "colab_type": "text",
    "id": "buanCghHvjfy"
   },
   "source": [
    "### Q9 - Compare the following two unrelated samples. Data was collected on the weight of women and men enrolled in a weight reduction program. At 𝛼 α = 0.05, test whether the weight of these two samples is different.\n",
    "(2 Marks)"
   ]
  },
  {
   "cell_type": "code",
   "execution_count": 83,
   "metadata": {
    "colab": {},
    "colab_type": "code",
    "id": "aR0aTl3Vvc1B"
   },
   "outputs": [],
   "source": [
    "Weight_Female       =  [ 53.8, 54.4, 51.2, 52.5, 61.0, 50.6, 51.6, 70.0]\n",
    "Weight_Male         =  [ 72.5, 80.3, 71.3, 67.7, 66.2, 73.4, 61.3, 76.8]"
   ]
  },
  {
   "cell_type": "markdown",
   "metadata": {
    "colab_type": "text",
    "id": "ELXhCM2Lvs0F"
   },
   "source": [
    "NULL HYPOTHSIS MALE AND FEMALE WEIGHT IS EQUAL.\n",
    "\n",
    "ALTERNATE HYPOTHESIS MALE AND FEMALE WEIGHT IS DIFFERENT.\n",
    "\n",
    "OUR CONDITION IS TO PROVE THAT WEIGHT OF THE MALE AND FEMALE ARE NOT EQUAL SO,WE REQUIRE ALTERNATE HYPOTHESIS."
   ]
  },
  {
   "cell_type": "code",
   "execution_count": 84,
   "metadata": {
    "colab": {},
    "colab_type": "code",
    "id": "MnhdZepcyTak"
   },
   "outputs": [],
   "source": [
    "t_stat, P_value = stats.ttest_ind(Weight_Female,Weight_Male)"
   ]
  },
  {
   "cell_type": "code",
   "execution_count": 85,
   "metadata": {},
   "outputs": [
    {
     "data": {
      "text/plain": [
       "0.00024034957515992796"
      ]
     },
     "execution_count": 85,
     "metadata": {},
     "output_type": "execute_result"
    }
   ],
   "source": [
    "P_value"
   ]
  },
  {
   "cell_type": "markdown",
   "metadata": {
    "colab_type": "text",
    "id": "CR60_1hJwxKl"
   },
   "source": [
    "### Q10 - A Cable service provider company is interested in checking whether or not the customer churn depends on customer segment. Use 5% as level of significance.\n",
    "(2 Marks)\n",
    "\n"
   ]
  },
  {
   "cell_type": "markdown",
   "metadata": {
    "colab_type": "text",
    "id": "5jTapB-2rFZV"
   },
   "source": [
    "| Customer Segment | Churned | Retained |\n",
    "|  -------- | ----- | ---- |\n",
    "| S1 | 15 | 142 |\n",
    "| S2 | 24 | 400 |\n",
    "| S3 | 30 | 389 |\n"
   ]
  },
  {
   "cell_type": "code",
   "execution_count": 86,
   "metadata": {
    "colab": {},
    "colab_type": "code",
    "id": "Knttaq6zyYoz"
   },
   "outputs": [],
   "source": [
    "churn_array = np.array([[15,142],[24,400],[30,389]])"
   ]
  },
  {
   "cell_type": "code",
   "execution_count": 87,
   "metadata": {},
   "outputs": [],
   "source": [
    "chi_2_stat, p_value, dof, xp_freq = stats.chi2_contingency(churn_array)"
   ]
  },
  {
   "cell_type": "code",
   "execution_count": 88,
   "metadata": {},
   "outputs": [
    {
     "data": {
      "text/plain": [
       "0.24907816314986156"
      ]
     },
     "execution_count": 88,
     "metadata": {},
     "output_type": "execute_result"
    }
   ],
   "source": [
    "p_value"
   ]
  },
  {
   "cell_type": "code",
   "execution_count": null,
   "metadata": {},
   "outputs": [],
   "source": [
    "Therefore accept null"
   ]
  },
  {
   "cell_type": "markdown",
   "metadata": {
    "colab_type": "text",
    "id": "7IsDxBgOZwfX"
   },
   "source": [
    "## -------------------------------------- End of Test --------------------------------------"
   ]
  }
 ],
 "metadata": {
  "colab": {
   "collapsed_sections": [
    "7IsDxBgOZwfX"
   ],
   "name": "R2- Lab-Statistical Learning- Questions.ipynb",
   "provenance": []
  },
  "kernelspec": {
   "display_name": "Python 3",
   "language": "python",
   "name": "python3"
  },
  "language_info": {
   "codemirror_mode": {
    "name": "ipython",
    "version": 3
   },
   "file_extension": ".py",
   "mimetype": "text/x-python",
   "name": "python",
   "nbconvert_exporter": "python",
   "pygments_lexer": "ipython3",
   "version": "3.7.6"
  }
 },
 "nbformat": 4,
 "nbformat_minor": 1
}
