{
 "cells": [
  {
   "cell_type": "code",
   "execution_count": 1,
   "metadata": {},
   "outputs": [],
   "source": [
    "import pandas as pd \n",
    "import numpy as np\n",
    "pd.options.display.max_columns=None\n",
    "\n",
    "from matplotlib import pyplot as plt\n",
    "import seaborn as sns\n",
    "sns.set_style('whitegrid')\n",
    "%matplotlib inline\n",
    "\n",
    "from sklearn.model_selection import train_test_split\n",
    "\n",
    "import warnings\n",
    "warnings.filterwarnings('ignore')"
   ]
  },
  {
   "cell_type": "code",
   "execution_count": 2,
   "metadata": {},
   "outputs": [],
   "source": [
    "file_1 = pd.read_csv(r'C:\\Users\\RKRIS\\Downloads\\recomm project data\\Dataset\\phone_user_review_file_1.csv', encoding= 'ISO-8859-1')\n",
    "file_2 = pd.read_csv(r'C:\\Users\\RKRIS\\Downloads\\recomm project data\\Dataset\\phone_user_review_file_2.csv', encoding= 'ISO-8859-1')\n",
    "file_3 = pd.read_csv(r'C:\\Users\\RKRIS\\Downloads\\recomm project data\\Dataset\\phone_user_review_file_3.csv', encoding= 'ISO-8859-1')\n",
    "file_4 = pd.read_csv(r'C:\\Users\\RKRIS\\Downloads\\recomm project data\\Dataset\\phone_user_review_file_4.csv', encoding= 'ISO-8859-1')\n",
    "file_5 = pd.read_csv(r'C:\\Users\\RKRIS\\Downloads\\recomm project data\\Dataset\\phone_user_review_file_5.csv', encoding= 'ISO-8859-1')\n",
    "file_6 = pd.read_csv(r'C:\\Users\\RKRIS\\Downloads\\recomm project data\\Dataset\\phone_user_review_file_6.csv', encoding= 'ISO-8859-1')\n"
   ]
  },
  {
   "cell_type": "markdown",
   "metadata": {},
   "source": [
    "Concating all the above files along the Column axis."
   ]
  },
  {
   "cell_type": "code",
   "execution_count": 3,
   "metadata": {},
   "outputs": [],
   "source": [
    "df = pd.concat([file_1,file_2,file_3,file_4,file_5,file_6], axis = 0)"
   ]
  },
  {
   "cell_type": "markdown",
   "metadata": {},
   "source": [
    "Lets look at the shape and top 5 rows of the Dataset."
   ]
  },
  {
   "cell_type": "code",
   "execution_count": 4,
   "metadata": {},
   "outputs": [
    {
     "name": "stdout",
     "output_type": "stream",
     "text": [
      "(1415133, 11)\n"
     ]
    },
    {
     "data": {
      "text/html": [
       "<div>\n",
       "<style scoped>\n",
       "    .dataframe tbody tr th:only-of-type {\n",
       "        vertical-align: middle;\n",
       "    }\n",
       "\n",
       "    .dataframe tbody tr th {\n",
       "        vertical-align: top;\n",
       "    }\n",
       "\n",
       "    .dataframe thead th {\n",
       "        text-align: right;\n",
       "    }\n",
       "</style>\n",
       "<table border=\"1\" class=\"dataframe\">\n",
       "  <thead>\n",
       "    <tr style=\"text-align: right;\">\n",
       "      <th></th>\n",
       "      <th>phone_url</th>\n",
       "      <th>date</th>\n",
       "      <th>lang</th>\n",
       "      <th>country</th>\n",
       "      <th>source</th>\n",
       "      <th>domain</th>\n",
       "      <th>score</th>\n",
       "      <th>score_max</th>\n",
       "      <th>extract</th>\n",
       "      <th>author</th>\n",
       "      <th>product</th>\n",
       "    </tr>\n",
       "  </thead>\n",
       "  <tbody>\n",
       "    <tr>\n",
       "      <th>0</th>\n",
       "      <td>/cellphones/samsung-galaxy-s8/</td>\n",
       "      <td>5/2/2017</td>\n",
       "      <td>en</td>\n",
       "      <td>us</td>\n",
       "      <td>Verizon Wireless</td>\n",
       "      <td>verizonwireless.com</td>\n",
       "      <td>10.0</td>\n",
       "      <td>10.0</td>\n",
       "      <td>As a diehard Samsung fan who has had every Sam...</td>\n",
       "      <td>CarolAnn35</td>\n",
       "      <td>Samsung Galaxy S8</td>\n",
       "    </tr>\n",
       "    <tr>\n",
       "      <th>1</th>\n",
       "      <td>/cellphones/samsung-galaxy-s8/</td>\n",
       "      <td>4/28/2017</td>\n",
       "      <td>en</td>\n",
       "      <td>us</td>\n",
       "      <td>Phone Arena</td>\n",
       "      <td>phonearena.com</td>\n",
       "      <td>10.0</td>\n",
       "      <td>10.0</td>\n",
       "      <td>Love the phone. the phone is sleek and smooth ...</td>\n",
       "      <td>james0923</td>\n",
       "      <td>Samsung Galaxy S8</td>\n",
       "    </tr>\n",
       "    <tr>\n",
       "      <th>2</th>\n",
       "      <td>/cellphones/samsung-galaxy-s8/</td>\n",
       "      <td>5/4/2017</td>\n",
       "      <td>en</td>\n",
       "      <td>us</td>\n",
       "      <td>Amazon</td>\n",
       "      <td>amazon.com</td>\n",
       "      <td>6.0</td>\n",
       "      <td>10.0</td>\n",
       "      <td>Adequate feel. Nice heft. Processor's still sl...</td>\n",
       "      <td>R. Craig</td>\n",
       "      <td>Samsung Galaxy S8 (64GB) G950U 5.8\" 4G LTE Unl...</td>\n",
       "    </tr>\n",
       "    <tr>\n",
       "      <th>3</th>\n",
       "      <td>/cellphones/samsung-galaxy-s8/</td>\n",
       "      <td>5/2/2017</td>\n",
       "      <td>en</td>\n",
       "      <td>us</td>\n",
       "      <td>Samsung</td>\n",
       "      <td>samsung.com</td>\n",
       "      <td>9.2</td>\n",
       "      <td>10.0</td>\n",
       "      <td>Never disappointed. One of the reasons I've be...</td>\n",
       "      <td>Buster2020</td>\n",
       "      <td>Samsung Galaxy S8 64GB (AT&amp;T)</td>\n",
       "    </tr>\n",
       "    <tr>\n",
       "      <th>4</th>\n",
       "      <td>/cellphones/samsung-galaxy-s8/</td>\n",
       "      <td>5/11/2017</td>\n",
       "      <td>en</td>\n",
       "      <td>us</td>\n",
       "      <td>Verizon Wireless</td>\n",
       "      <td>verizonwireless.com</td>\n",
       "      <td>4.0</td>\n",
       "      <td>10.0</td>\n",
       "      <td>I've now found that i'm in a group of people t...</td>\n",
       "      <td>S Ate Mine</td>\n",
       "      <td>Samsung Galaxy S8</td>\n",
       "    </tr>\n",
       "  </tbody>\n",
       "</table>\n",
       "</div>"
      ],
      "text/plain": [
       "                        phone_url       date lang country            source  \\\n",
       "0  /cellphones/samsung-galaxy-s8/   5/2/2017   en      us  Verizon Wireless   \n",
       "1  /cellphones/samsung-galaxy-s8/  4/28/2017   en      us       Phone Arena   \n",
       "2  /cellphones/samsung-galaxy-s8/   5/4/2017   en      us            Amazon   \n",
       "3  /cellphones/samsung-galaxy-s8/   5/2/2017   en      us           Samsung   \n",
       "4  /cellphones/samsung-galaxy-s8/  5/11/2017   en      us  Verizon Wireless   \n",
       "\n",
       "                domain  score  score_max  \\\n",
       "0  verizonwireless.com   10.0       10.0   \n",
       "1       phonearena.com   10.0       10.0   \n",
       "2           amazon.com    6.0       10.0   \n",
       "3          samsung.com    9.2       10.0   \n",
       "4  verizonwireless.com    4.0       10.0   \n",
       "\n",
       "                                             extract       author  \\\n",
       "0  As a diehard Samsung fan who has had every Sam...   CarolAnn35   \n",
       "1  Love the phone. the phone is sleek and smooth ...    james0923   \n",
       "2  Adequate feel. Nice heft. Processor's still sl...     R. Craig   \n",
       "3  Never disappointed. One of the reasons I've be...  Buster2020    \n",
       "4  I've now found that i'm in a group of people t...   S Ate Mine   \n",
       "\n",
       "                                             product  \n",
       "0                                  Samsung Galaxy S8  \n",
       "1                                  Samsung Galaxy S8  \n",
       "2  Samsung Galaxy S8 (64GB) G950U 5.8\" 4G LTE Unl...  \n",
       "3                      Samsung Galaxy S8 64GB (AT&T)  \n",
       "4                                  Samsung Galaxy S8  "
      ]
     },
     "execution_count": 4,
     "metadata": {},
     "output_type": "execute_result"
    }
   ],
   "source": [
    "print(df.shape)\n",
    "df.head()"
   ]
  },
  {
   "cell_type": "markdown",
   "metadata": {},
   "source": [
    "Lets Check if there are any Missing values."
   ]
  },
  {
   "cell_type": "code",
   "execution_count": 5,
   "metadata": {},
   "outputs": [
    {
     "data": {
      "text/plain": [
       "phone_url    0.000000\n",
       "date         0.000000\n",
       "lang         0.000000\n",
       "country      0.000000\n",
       "source       0.000000\n",
       "domain       0.000000\n",
       "score        0.448643\n",
       "score_max    0.448643\n",
       "extract      0.136814\n",
       "author       0.446615\n",
       "product      0.000007\n",
       "dtype: float64"
      ]
     },
     "execution_count": 5,
     "metadata": {},
     "output_type": "execute_result"
    }
   ],
   "source": [
    "df.isna().mean()*10"
   ]
  },
  {
   "cell_type": "markdown",
   "metadata": {},
   "source": [
    "We can see columns are having missing values more than 40% its a better option to drop them."
   ]
  },
  {
   "cell_type": "markdown",
   "metadata": {},
   "source": [
    "Lets start with the Preprocessing of the Dataset."
   ]
  },
  {
   "cell_type": "code",
   "execution_count": 6,
   "metadata": {},
   "outputs": [],
   "source": [
    "def preprocess_inputs(df):\n",
    "    \n",
    "    df=df.copy()\n",
    "    \n",
    "    # Dropping the nan Values\n",
    "    df=df.dropna().reset_index(drop=True)\n",
    "    \n",
    "    # Rounding off the Score Feature.\n",
    "    df['score']=np.round(df['score']).astype('int')\n",
    "    \n",
    "    # Dropping the Unnecessary columns.\n",
    "    df.drop(['date','phone_url','lang','country','source','score_max','domain','extract'], axis=1, inplace=True)\n",
    "    \n",
    "    # Taking a Sample off 1000000. \n",
    "    df = df.iloc[:1000000,0:]\n",
    "    \n",
    "    # Drop the Duplicated values if there are any\n",
    "    df = df.drop_duplicates(keep ='first')\n",
    "     \n",
    "    return df\n",
    "    "
   ]
  },
  {
   "cell_type": "code",
   "execution_count": 7,
   "metadata": {},
   "outputs": [],
   "source": [
    "df = preprocess_inputs(df)"
   ]
  },
  {
   "cell_type": "markdown",
   "metadata": {},
   "source": [
    "Lets have a Look on Processed Data."
   ]
  },
  {
   "cell_type": "code",
   "execution_count": 8,
   "metadata": {},
   "outputs": [
    {
     "data": {
      "text/html": [
       "<div>\n",
       "<style scoped>\n",
       "    .dataframe tbody tr th:only-of-type {\n",
       "        vertical-align: middle;\n",
       "    }\n",
       "\n",
       "    .dataframe tbody tr th {\n",
       "        vertical-align: top;\n",
       "    }\n",
       "\n",
       "    .dataframe thead th {\n",
       "        text-align: right;\n",
       "    }\n",
       "</style>\n",
       "<table border=\"1\" class=\"dataframe\">\n",
       "  <thead>\n",
       "    <tr style=\"text-align: right;\">\n",
       "      <th></th>\n",
       "      <th>score</th>\n",
       "      <th>author</th>\n",
       "      <th>product</th>\n",
       "    </tr>\n",
       "  </thead>\n",
       "  <tbody>\n",
       "    <tr>\n",
       "      <th>0</th>\n",
       "      <td>10</td>\n",
       "      <td>CarolAnn35</td>\n",
       "      <td>Samsung Galaxy S8</td>\n",
       "    </tr>\n",
       "    <tr>\n",
       "      <th>1</th>\n",
       "      <td>10</td>\n",
       "      <td>james0923</td>\n",
       "      <td>Samsung Galaxy S8</td>\n",
       "    </tr>\n",
       "    <tr>\n",
       "      <th>2</th>\n",
       "      <td>6</td>\n",
       "      <td>R. Craig</td>\n",
       "      <td>Samsung Galaxy S8 (64GB) G950U 5.8\" 4G LTE Unl...</td>\n",
       "    </tr>\n",
       "    <tr>\n",
       "      <th>3</th>\n",
       "      <td>9</td>\n",
       "      <td>Buster2020</td>\n",
       "      <td>Samsung Galaxy S8 64GB (AT&amp;T)</td>\n",
       "    </tr>\n",
       "    <tr>\n",
       "      <th>4</th>\n",
       "      <td>4</td>\n",
       "      <td>S Ate Mine</td>\n",
       "      <td>Samsung Galaxy S8</td>\n",
       "    </tr>\n",
       "    <tr>\n",
       "      <th>...</th>\n",
       "      <td>...</td>\n",
       "      <td>...</td>\n",
       "      <td>...</td>\n",
       "    </tr>\n",
       "    <tr>\n",
       "      <th>999995</th>\n",
       "      <td>10</td>\n",
       "      <td>ALLANSOUZASP</td>\n",
       "      <td>Nokia E63</td>\n",
       "    </tr>\n",
       "    <tr>\n",
       "      <th>999996</th>\n",
       "      <td>6</td>\n",
       "      <td>Jose Luis</td>\n",
       "      <td>Nokia E63</td>\n",
       "    </tr>\n",
       "    <tr>\n",
       "      <th>999997</th>\n",
       "      <td>6</td>\n",
       "      <td>Alberto</td>\n",
       "      <td>Nokia E63</td>\n",
       "    </tr>\n",
       "    <tr>\n",
       "      <th>999998</th>\n",
       "      <td>10</td>\n",
       "      <td>ESHOPVIRTUALELETRONICOSEVENDAS</td>\n",
       "      <td>Nokia E63</td>\n",
       "    </tr>\n",
       "    <tr>\n",
       "      <th>999999</th>\n",
       "      <td>10</td>\n",
       "      <td>files-t-sait</td>\n",
       "      <td>Nokia E63</td>\n",
       "    </tr>\n",
       "  </tbody>\n",
       "</table>\n",
       "<p>877928 rows × 3 columns</p>\n",
       "</div>"
      ],
      "text/plain": [
       "        score                          author  \\\n",
       "0          10                      CarolAnn35   \n",
       "1          10                       james0923   \n",
       "2           6                        R. Craig   \n",
       "3           9                     Buster2020    \n",
       "4           4                      S Ate Mine   \n",
       "...       ...                             ...   \n",
       "999995     10                    ALLANSOUZASP   \n",
       "999996      6                       Jose Luis   \n",
       "999997      6                         Alberto   \n",
       "999998     10  ESHOPVIRTUALELETRONICOSEVENDAS   \n",
       "999999     10                    files-t-sait   \n",
       "\n",
       "                                                  product  \n",
       "0                                       Samsung Galaxy S8  \n",
       "1                                       Samsung Galaxy S8  \n",
       "2       Samsung Galaxy S8 (64GB) G950U 5.8\" 4G LTE Unl...  \n",
       "3                           Samsung Galaxy S8 64GB (AT&T)  \n",
       "4                                       Samsung Galaxy S8  \n",
       "...                                                   ...  \n",
       "999995                                          Nokia E63  \n",
       "999996                                          Nokia E63  \n",
       "999997                                          Nokia E63  \n",
       "999998                                          Nokia E63  \n",
       "999999                                          Nokia E63  \n",
       "\n",
       "[877928 rows x 3 columns]"
      ]
     },
     "execution_count": 8,
     "metadata": {},
     "output_type": "execute_result"
    }
   ],
   "source": [
    "df"
   ]
  },
  {
   "cell_type": "markdown",
   "metadata": {},
   "source": [
    "Lets See the 'Score' Distribution in our dataset."
   ]
  },
  {
   "cell_type": "code",
   "execution_count": 9,
   "metadata": {},
   "outputs": [
    {
     "data": {
      "image/png": "[encoded data removed]",
      "text/plain": [
       "<Figure size 1080x518.4 with 2 Axes>"
      ]
     },
     "metadata": {
      "needs_background": "light"
     },
     "output_type": "display_data"
    }
   ],
   "source": [
    "fig = plt.figure(figsize = (15, 7.2))\n",
    "ax = fig.add_subplot(121)\n",
    "g = sns.distplot(df['score'], ax = ax).set_title('Distribution of score')\n",
    "ax = fig.add_subplot(122)\n",
    "g = sns.countplot(df['score']).set_title('Count of score')"
   ]
  },
  {
   "cell_type": "markdown",
   "metadata": {},
   "source": [
    "Lets see the Frequent users to give ratings."
   ]
  },
  {
   "cell_type": "code",
   "execution_count": 10,
   "metadata": {},
   "outputs": [
    {
     "data": {
      "text/plain": [
       "<matplotlib.axes._subplots.AxesSubplot at 0x1c7607752c8>"
      ]
     },
     "execution_count": 10,
     "metadata": {},
     "output_type": "execute_result"
    },
    {
     "data": {
      "image/png": "[encoded data removed]",
      "text/plain": [
       "<Figure size 1152x720 with 1 Axes>"
      ]
     },
     "metadata": {
      "needs_background": "light"
     },
     "output_type": "display_data"
    }
   ],
   "source": [
    "df['author'].value_counts().head(50).plot(kind='bar', figsize=(16,10))"
   ]
  },
  {
   "cell_type": "markdown",
   "metadata": {},
   "source": [
    "#  Products having more than 50 ratings and users who have given more than 50 ratings."
   ]
  },
  {
   "cell_type": "code",
   "execution_count": 11,
   "metadata": {},
   "outputs": [],
   "source": [
    "popular_products =df['product'].value_counts()[df['product'].value_counts() > 50]\n",
    "popular_products.index\n",
    "df=df.query('product in @popular_products.index')"
   ]
  },
  {
   "cell_type": "code",
   "execution_count": 12,
   "metadata": {},
   "outputs": [
    {
     "data": {
      "text/plain": [
       "OnePlus 3 (Graphite, 64 GB)                                                                                                                                            2219\n",
       "Lenovo Vibe K4 Note (White,16GB)                                                                                                                                       2124\n",
       "Lenovo Vibe K4 Note (Black, 16GB)                                                                                                                                      1836\n",
       "Samsung Galaxy J3 (8GB)                                                                                                                                                1801\n",
       "OnePlus 3 (Soft Gold, 64 GB)                                                                                                                                           1793\n",
       "                                                                                                                                                                       ... \n",
       "HTC Explorer A310e Unlocked GSM Phone with Android 2.3 OS, 3.2MP Camera, GPS and                                                                                         51\n",
       "Huawei Honor 8 âAndroid-puhelin 32 Gt Dual-SIM, musta                                                                                                                  51\n",
       "BlackBerry Z10, Black 16GB (AT&T)                                                                                                                                        51\n",
       "Motorola Google Nexus 6, Midnight Blue 32GB (AT&T)                                                                                                                       51\n",
       "Doogee X5 Max Pro - 4G Smartphone Libre Android 6.0 (Pantalla 5.0'' IPS, MT6737M Quad Core 1.3GHz, 2G Ram, 16G Rom, Dual Sim, Dual ID, Smart Wake, Huella Dactilar)      51\n",
       "Name: product, Length: 4288, dtype: int64"
      ]
     },
     "execution_count": 12,
     "metadata": {},
     "output_type": "execute_result"
    }
   ],
   "source": [
    "df['product'].value_counts()"
   ]
  },
  {
   "cell_type": "code",
   "execution_count": 13,
   "metadata": {},
   "outputs": [],
   "source": [
    "popular_users=df['author'].value_counts()[df['author'].value_counts() > 50]\n",
    "popular_users.index\n",
    "df=df.query('author in @popular_users.index')\n"
   ]
  },
  {
   "cell_type": "code",
   "execution_count": 14,
   "metadata": {},
   "outputs": [
    {
     "data": {
      "text/plain": [
       "Amazon Customer                6306\n",
       "Cliente Amazon                 1634\n",
       "Amazon Kunde                    986\n",
       "Client d'Amazon                 682\n",
       "David                           429\n",
       "                               ... \n",
       "Toni                             51\n",
       "???????????? ??????????????      51\n",
       "ÐÐ¾Ð½ÑÑÐ°Ð½ÑÐ¸Ð½             51\n",
       "Christopher                      51\n",
       "K                                51\n",
       "Name: author, Length: 330, dtype: int64"
      ]
     },
     "execution_count": 14,
     "metadata": {},
     "output_type": "execute_result"
    }
   ],
   "source": [
    "df['author'].value_counts()"
   ]
  },
  {
   "cell_type": "code",
   "execution_count": 15,
   "metadata": {},
   "outputs": [
    {
     "name": "stdout",
     "output_type": "stream",
     "text": [
      "(43267, 3)\n"
     ]
    },
    {
     "data": {
      "text/html": [
       "<div>\n",
       "<style scoped>\n",
       "    .dataframe tbody tr th:only-of-type {\n",
       "        vertical-align: middle;\n",
       "    }\n",
       "\n",
       "    .dataframe tbody tr th {\n",
       "        vertical-align: top;\n",
       "    }\n",
       "\n",
       "    .dataframe thead th {\n",
       "        text-align: right;\n",
       "    }\n",
       "</style>\n",
       "<table border=\"1\" class=\"dataframe\">\n",
       "  <thead>\n",
       "    <tr style=\"text-align: right;\">\n",
       "      <th></th>\n",
       "      <th>score</th>\n",
       "      <th>author</th>\n",
       "      <th>product</th>\n",
       "    </tr>\n",
       "  </thead>\n",
       "  <tbody>\n",
       "    <tr>\n",
       "      <th>270</th>\n",
       "      <td>10</td>\n",
       "      <td>ÐÐ³Ð¾Ñ</td>\n",
       "      <td>Samsung Galaxy S8</td>\n",
       "    </tr>\n",
       "    <tr>\n",
       "      <th>271</th>\n",
       "      <td>10</td>\n",
       "      <td>ÐÐ»Ð°Ð´Ð¸Ð¼Ð¸Ñ</td>\n",
       "      <td>Samsung Galaxy S8</td>\n",
       "    </tr>\n",
       "    <tr>\n",
       "      <th>272</th>\n",
       "      <td>10</td>\n",
       "      <td>ÐÐ»ÐµÐºÑÐ°Ð½Ð´Ñ</td>\n",
       "      <td>Samsung Galaxy S8</td>\n",
       "    </tr>\n",
       "    <tr>\n",
       "      <th>274</th>\n",
       "      <td>8</td>\n",
       "      <td>Ð¡ÐµÑÐ³ÐµÐ¹</td>\n",
       "      <td>Samsung Galaxy S8</td>\n",
       "    </tr>\n",
       "    <tr>\n",
       "      <th>276</th>\n",
       "      <td>8</td>\n",
       "      <td>Michael</td>\n",
       "      <td>Samsung Galaxy S8 Zwart</td>\n",
       "    </tr>\n",
       "  </tbody>\n",
       "</table>\n",
       "</div>"
      ],
      "text/plain": [
       "     score              author                  product\n",
       "270     10            ÐÐ³Ð¾Ñ        Samsung Galaxy S8\n",
       "271     10    ÐÐ»Ð°Ð´Ð¸Ð¼Ð¸Ñ        Samsung Galaxy S8\n",
       "272     10  ÐÐ»ÐµÐºÑÐ°Ð½Ð´Ñ        Samsung Galaxy S8\n",
       "274      8        Ð¡ÐµÑÐ³ÐµÐ¹        Samsung Galaxy S8\n",
       "276      8             Michael  Samsung Galaxy S8 Zwart"
      ]
     },
     "execution_count": 15,
     "metadata": {},
     "output_type": "execute_result"
    }
   ],
   "source": [
    "print(df.shape)\n",
    "df.head()"
   ]
  },
  {
   "cell_type": "markdown",
   "metadata": {},
   "source": [
    "Lets See Top 10 and  Bottom 10 users bassed on ratings."
   ]
  },
  {
   "cell_type": "code",
   "execution_count": 16,
   "metadata": {},
   "outputs": [
    {
     "name": "stdout",
     "output_type": "stream",
     "text": [
      "Top 10 users based on # of ratings given\n",
      "--------------------------------------------------------------------------------\n"
     ]
    },
    {
     "data": {
      "text/plain": [
       "author\n",
       "Amazon Customer    6306\n",
       "Cliente Amazon     1634\n",
       "Amazon Kunde        986\n",
       "Client d'Amazon     682\n",
       "David               429\n",
       "Alex                419\n",
       "Marco               371\n",
       "Andrea              367\n",
       "Daniel              353\n",
       "Chris               303\n",
       "dtype: int64"
      ]
     },
     "metadata": {},
     "output_type": "display_data"
    },
    {
     "name": "stdout",
     "output_type": "stream",
     "text": [
      "\n",
      "Bottom 10 users based on # of ratings given\n",
      "--------------------------------------------------------------------------------\n"
     ]
    },
    {
     "data": {
      "text/plain": [
       "author\n",
       "???????????? ??????????????    51\n",
       "Christopher                    51\n",
       "K                              51\n",
       "Eva                            51\n",
       "Robin                          51\n",
       "ÐÐ¾Ð½ÑÑÐ°Ð½ÑÐ¸Ð½           51\n",
       "Toni                           51\n",
       "Andre                          52\n",
       "Sven                           52\n",
       "Franco                         52\n",
       "dtype: int64"
      ]
     },
     "metadata": {},
     "output_type": "display_data"
    }
   ],
   "source": [
    "# Top and bottom 10 users based on # of ratings given\n",
    "print('Top 10 users based on # of ratings given'); print('--'*40)\n",
    "most_rated = df.groupby('author').size().sort_values(ascending = False)[:10]\n",
    "display(most_rated)\n",
    "\n",
    "print('\\nBottom 10 users based on # of ratings given'); print('--'*40)\n",
    "least_rated = df.groupby('author').size().sort_values(ascending = True)[:10]\n",
    "display(least_rated)"
   ]
  },
  {
   "cell_type": "markdown",
   "metadata": {},
   "source": [
    "#  Grouping the dataset and ranking them accordingly."
   ]
  },
  {
   "cell_type": "code",
   "execution_count": 17,
   "metadata": {},
   "outputs": [
    {
     "data": {
      "text/html": [
       "<div>\n",
       "<style scoped>\n",
       "    .dataframe tbody tr th:only-of-type {\n",
       "        vertical-align: middle;\n",
       "    }\n",
       "\n",
       "    .dataframe tbody tr th {\n",
       "        vertical-align: top;\n",
       "    }\n",
       "\n",
       "    .dataframe thead th {\n",
       "        text-align: right;\n",
       "    }\n",
       "</style>\n",
       "<table border=\"1\" class=\"dataframe\">\n",
       "  <thead>\n",
       "    <tr style=\"text-align: right;\">\n",
       "      <th></th>\n",
       "      <th>product</th>\n",
       "      <th>score</th>\n",
       "    </tr>\n",
       "  </thead>\n",
       "  <tbody>\n",
       "    <tr>\n",
       "      <th>0</th>\n",
       "      <td>3 FILMS PROTECTION ECRAN SAMSUNG Galaxy Ace S5...</td>\n",
       "      <td>1</td>\n",
       "    </tr>\n",
       "    <tr>\n",
       "      <th>1</th>\n",
       "      <td>5-Zoll- Android 4.2 Cubot P9 3G Smart Phone MT...</td>\n",
       "      <td>2</td>\n",
       "    </tr>\n",
       "    <tr>\n",
       "      <th>2</th>\n",
       "      <td>5.5-Inch Unlocked Lenovo A850 3G Smartphone-(9...</td>\n",
       "      <td>5</td>\n",
       "    </tr>\n",
       "    <tr>\n",
       "      <th>3</th>\n",
       "      <td>AICEK Coque ASUS ZenFone 3 Max ZC520TL, AICEK ...</td>\n",
       "      <td>4</td>\n",
       "    </tr>\n",
       "    <tr>\n",
       "      <th>4</th>\n",
       "      <td>AICEK Coque ASUS ZenFone 3 ZE520KL, AICEK Etui...</td>\n",
       "      <td>6</td>\n",
       "    </tr>\n",
       "  </tbody>\n",
       "</table>\n",
       "</div>"
      ],
      "text/plain": [
       "                                             product  score\n",
       "0  3 FILMS PROTECTION ECRAN SAMSUNG Galaxy Ace S5...      1\n",
       "1  5-Zoll- Android 4.2 Cubot P9 3G Smart Phone MT...      2\n",
       "2  5.5-Inch Unlocked Lenovo A850 3G Smartphone-(9...      5\n",
       "3  AICEK Coque ASUS ZenFone 3 Max ZC520TL, AICEK ...      4\n",
       "4  AICEK Coque ASUS ZenFone 3 ZE520KL, AICEK Etui...      6"
      ]
     },
     "execution_count": 17,
     "metadata": {},
     "output_type": "execute_result"
    }
   ],
   "source": [
    "df_grouped = df.groupby('product').agg({'author': 'count'}).reset_index()\n",
    "df_grouped.rename(columns = {'author': 'score'},inplace=True)\n",
    "df_grouped.head()"
   ]
  },
  {
   "cell_type": "code",
   "execution_count": 18,
   "metadata": {},
   "outputs": [
    {
     "data": {
      "text/html": [
       "<div>\n",
       "<style scoped>\n",
       "    .dataframe tbody tr th:only-of-type {\n",
       "        vertical-align: middle;\n",
       "    }\n",
       "\n",
       "    .dataframe tbody tr th {\n",
       "        vertical-align: top;\n",
       "    }\n",
       "\n",
       "    .dataframe thead th {\n",
       "        text-align: right;\n",
       "    }\n",
       "</style>\n",
       "<table border=\"1\" class=\"dataframe\">\n",
       "  <thead>\n",
       "    <tr style=\"text-align: right;\">\n",
       "      <th></th>\n",
       "      <th>product</th>\n",
       "      <th>score</th>\n",
       "      <th>Rank</th>\n",
       "    </tr>\n",
       "  </thead>\n",
       "  <tbody>\n",
       "    <tr>\n",
       "      <th>1159</th>\n",
       "      <td>Huawei P8 Lite Smartphone, Display 5\" IPS, Pro...</td>\n",
       "      <td>165</td>\n",
       "      <td>1.0</td>\n",
       "    </tr>\n",
       "    <tr>\n",
       "      <th>1181</th>\n",
       "      <td>Huawei P9 Lite Smartphone, LTE, Display 5.2'' ...</td>\n",
       "      <td>154</td>\n",
       "      <td>2.0</td>\n",
       "    </tr>\n",
       "    <tr>\n",
       "      <th>1634</th>\n",
       "      <td>Lenovo Motorola Moto G 4G (2 Generazione) Smar...</td>\n",
       "      <td>151</td>\n",
       "      <td>3.0</td>\n",
       "    </tr>\n",
       "    <tr>\n",
       "      <th>1173</th>\n",
       "      <td>Huawei P8 lite Smartphone, Display 5.0\" IPS, D...</td>\n",
       "      <td>147</td>\n",
       "      <td>4.0</td>\n",
       "    </tr>\n",
       "    <tr>\n",
       "      <th>1641</th>\n",
       "      <td>Lenovo Motorola Moto G Smartphone, 4,5 pollici...</td>\n",
       "      <td>147</td>\n",
       "      <td>5.0</td>\n",
       "    </tr>\n",
       "  </tbody>\n",
       "</table>\n",
       "</div>"
      ],
      "text/plain": [
       "                                                product  score  Rank\n",
       "1159  Huawei P8 Lite Smartphone, Display 5\" IPS, Pro...    165   1.0\n",
       "1181  Huawei P9 Lite Smartphone, LTE, Display 5.2'' ...    154   2.0\n",
       "1634  Lenovo Motorola Moto G 4G (2 Generazione) Smar...    151   3.0\n",
       "1173  Huawei P8 lite Smartphone, Display 5.0\" IPS, D...    147   4.0\n",
       "1641  Lenovo Motorola Moto G Smartphone, 4,5 pollici...    147   5.0"
      ]
     },
     "execution_count": 18,
     "metadata": {},
     "output_type": "execute_result"
    }
   ],
   "source": [
    "#Sort the products on recommendation score \n",
    "df_sort = df_grouped.sort_values(['score', 'product'], ascending = [0,1]) \n",
    "      \n",
    "#Generate a recommendation rank based upon score \n",
    "df_sort['Rank'] = df_sort['score'].rank(ascending=0, method='first') \n",
    "          \n",
    "#Get the top 5 recommendations \n",
    "popularity_recommendations = df_sort.head(5) \n",
    "popularity_recommendations"
   ]
  },
  {
   "cell_type": "markdown",
   "metadata": {},
   "source": [
    "# Popularity Based Recommender model."
   ]
  },
  {
   "cell_type": "code",
   "execution_count": 19,
   "metadata": {},
   "outputs": [],
   "source": [
    "def recommend(author):     \n",
    "    user_recommendations = popularity_recommendations \n",
    "          \n",
    "    #Add user_id column for which the recommendations are being generated \n",
    "    user_recommendations['author'] = author \n",
    "      \n",
    "    #Bring user_id column to the front \n",
    "    cols = user_recommendations.columns.tolist() \n",
    "    cols = cols[-1:] + cols[:-1] \n",
    "    user_recommendations = user_recommendations[cols] \n",
    "          \n",
    "    return user_recommendations"
   ]
  },
  {
   "cell_type": "code",
   "execution_count": 20,
   "metadata": {},
   "outputs": [
    {
     "name": "stdout",
     "output_type": "stream",
     "text": [
      "Here is the recommendation for the author index: 324468\n",
      "\n",
      "      author                                            product  score  Rank\n",
      "1159  324468  Huawei P8 Lite Smartphone, Display 5\" IPS, Pro...    165   1.0\n",
      "1181  324468  Huawei P9 Lite Smartphone, LTE, Display 5.2'' ...    154   2.0\n",
      "1634  324468  Lenovo Motorola Moto G 4G (2 Generazione) Smar...    151   3.0\n",
      "1173  324468  Huawei P8 lite Smartphone, Display 5.0\" IPS, D...    147   4.0\n",
      "1641  324468  Lenovo Motorola Moto G Smartphone, 4,5 pollici...    147   5.0\n",
      "\n",
      "\n",
      "Here is the recommendation for the author index: 30148\n",
      "\n",
      "      author                                            product  score  Rank\n",
      "1159   30148  Huawei P8 Lite Smartphone, Display 5\" IPS, Pro...    165   1.0\n",
      "1181   30148  Huawei P9 Lite Smartphone, LTE, Display 5.2'' ...    154   2.0\n",
      "1634   30148  Lenovo Motorola Moto G 4G (2 Generazione) Smar...    151   3.0\n",
      "1173   30148  Huawei P8 lite Smartphone, Display 5.0\" IPS, D...    147   4.0\n",
      "1641   30148  Lenovo Motorola Moto G Smartphone, 4,5 pollici...    147   5.0\n",
      "\n",
      "\n",
      "Here is the recommendation for the author index: 404105\n",
      "\n",
      "      author                                            product  score  Rank\n",
      "1159  404105  Huawei P8 Lite Smartphone, Display 5\" IPS, Pro...    165   1.0\n",
      "1181  404105  Huawei P9 Lite Smartphone, LTE, Display 5.2'' ...    154   2.0\n",
      "1634  404105  Lenovo Motorola Moto G 4G (2 Generazione) Smar...    151   3.0\n",
      "1173  404105  Huawei P8 lite Smartphone, Display 5.0\" IPS, D...    147   4.0\n",
      "1641  404105  Lenovo Motorola Moto G Smartphone, 4,5 pollici...    147   5.0\n",
      "\n",
      "\n"
     ]
    }
   ],
   "source": [
    "find_recom = [324468,30148,404105]   # This list is user choice.\n",
    "for i in find_recom:\n",
    "    print(\"Here is the recommendation for the author index: %d\\n\" %(i))\n",
    "    print(recommend(i))    \n",
    "    print(\"\\n\") "
   ]
  },
  {
   "cell_type": "markdown",
   "metadata": {},
   "source": [
    "Since this is a popularity-based recommender model, recommendations remain the same for all users\n",
    "\n",
    "We predict the products based on the popularity. "
   ]
  },
  {
   "cell_type": "markdown",
   "metadata": {},
   "source": [
    "# Build a User-Based Collaborative Filtering model."
   ]
  },
  {
   "cell_type": "code",
   "execution_count": 21,
   "metadata": {},
   "outputs": [
    {
     "data": {
      "text/plain": [
       "<matplotlib.axes._subplots.AxesSubplot at 0x1c76067ba08>"
      ]
     },
     "execution_count": 21,
     "metadata": {},
     "output_type": "execute_result"
    },
    {
     "data": {
      "image/png": "[encoded data removed]",
      "text/plain": [
       "<Figure size 432x288 with 1 Axes>"
      ]
     },
     "metadata": {
      "needs_background": "light"
     },
     "output_type": "display_data"
    }
   ],
   "source": [
    "import seaborn as sns\n",
    "sns.countplot(data=df,x='score')"
   ]
  },
  {
   "cell_type": "code",
   "execution_count": 22,
   "metadata": {},
   "outputs": [],
   "source": [
    "#2 Transform data to surprise format\n",
    "from surprise import Dataset,Reader\n",
    "from surprise.model_selection import cross_validate\n",
    "from surprise import NormalPredictor\n",
    "\n",
    "reader = Reader(rating_scale=(1, 10))"
   ]
  },
  {
   "cell_type": "code",
   "execution_count": 23,
   "metadata": {},
   "outputs": [],
   "source": [
    "data = Dataset.load_from_df(df[['author','product','score']], reader)"
   ]
  },
  {
   "cell_type": "code",
   "execution_count": 24,
   "metadata": {},
   "outputs": [
    {
     "data": {
      "text/html": [
       "<div>\n",
       "<style scoped>\n",
       "    .dataframe tbody tr th:only-of-type {\n",
       "        vertical-align: middle;\n",
       "    }\n",
       "\n",
       "    .dataframe tbody tr th {\n",
       "        vertical-align: top;\n",
       "    }\n",
       "\n",
       "    .dataframe thead th {\n",
       "        text-align: right;\n",
       "    }\n",
       "</style>\n",
       "<table border=\"1\" class=\"dataframe\">\n",
       "  <thead>\n",
       "    <tr style=\"text-align: right;\">\n",
       "      <th></th>\n",
       "      <th>author</th>\n",
       "      <th>product</th>\n",
       "      <th>score</th>\n",
       "    </tr>\n",
       "  </thead>\n",
       "  <tbody>\n",
       "    <tr>\n",
       "      <th>270</th>\n",
       "      <td>ÐÐ³Ð¾Ñ</td>\n",
       "      <td>Samsung Galaxy S8</td>\n",
       "      <td>10</td>\n",
       "    </tr>\n",
       "    <tr>\n",
       "      <th>271</th>\n",
       "      <td>ÐÐ»Ð°Ð´Ð¸Ð¼Ð¸Ñ</td>\n",
       "      <td>Samsung Galaxy S8</td>\n",
       "      <td>10</td>\n",
       "    </tr>\n",
       "    <tr>\n",
       "      <th>272</th>\n",
       "      <td>ÐÐ»ÐµÐºÑÐ°Ð½Ð´Ñ</td>\n",
       "      <td>Samsung Galaxy S8</td>\n",
       "      <td>10</td>\n",
       "    </tr>\n",
       "    <tr>\n",
       "      <th>274</th>\n",
       "      <td>Ð¡ÐµÑÐ³ÐµÐ¹</td>\n",
       "      <td>Samsung Galaxy S8</td>\n",
       "      <td>8</td>\n",
       "    </tr>\n",
       "    <tr>\n",
       "      <th>276</th>\n",
       "      <td>Michael</td>\n",
       "      <td>Samsung Galaxy S8 Zwart</td>\n",
       "      <td>8</td>\n",
       "    </tr>\n",
       "  </tbody>\n",
       "</table>\n",
       "</div>"
      ],
      "text/plain": [
       "                 author                  product  score\n",
       "270            ÐÐ³Ð¾Ñ        Samsung Galaxy S8     10\n",
       "271    ÐÐ»Ð°Ð´Ð¸Ð¼Ð¸Ñ        Samsung Galaxy S8     10\n",
       "272  ÐÐ»ÐµÐºÑÐ°Ð½Ð´Ñ        Samsung Galaxy S8     10\n",
       "274        Ð¡ÐµÑÐ³ÐµÐ¹        Samsung Galaxy S8      8\n",
       "276             Michael  Samsung Galaxy S8 Zwart      8"
      ]
     },
     "execution_count": 24,
     "metadata": {},
     "output_type": "execute_result"
    }
   ],
   "source": [
    "data.df.head()"
   ]
  },
  {
   "cell_type": "markdown",
   "metadata": {},
   "source": [
    "# Splitting the Dataset"
   ]
  },
  {
   "cell_type": "code",
   "execution_count": 25,
   "metadata": {},
   "outputs": [],
   "source": [
    "from surprise.model_selection import train_test_split\n",
    "trainset, testset = train_test_split(data, test_size=0.25, random_state = 612)"
   ]
  },
  {
   "cell_type": "code",
   "execution_count": 26,
   "metadata": {},
   "outputs": [
    {
     "data": {
      "text/plain": [
       "<surprise.prediction_algorithms.matrix_factorization.SVD at 0x1c764af7c08>"
      ]
     },
     "execution_count": 26,
     "metadata": {},
     "output_type": "execute_result"
    }
   ],
   "source": [
    "from surprise import SVD\n",
    "from surprise import accuracy\n",
    "\n",
    "SVD_model = SVD(n_factors=50,biased = False)\n",
    "SVD_model.fit(trainset)"
   ]
  },
  {
   "cell_type": "code",
   "execution_count": 27,
   "metadata": {},
   "outputs": [],
   "source": [
    "test_pred = SVD_model.test(testset)"
   ]
  },
  {
   "cell_type": "markdown",
   "metadata": {},
   "source": [
    "RMSE for SVD model"
   ]
  },
  {
   "cell_type": "code",
   "execution_count": 28,
   "metadata": {},
   "outputs": [
    {
     "name": "stdout",
     "output_type": "stream",
     "text": [
      "RMSE: 3.0678\n"
     ]
    },
    {
     "data": {
      "text/plain": [
       "3.0677877592426364"
      ]
     },
     "execution_count": 28,
     "metadata": {},
     "output_type": "execute_result"
    }
   ],
   "source": [
    "accuracy.rmse(test_pred)"
   ]
  },
  {
   "cell_type": "code",
   "execution_count": 29,
   "metadata": {},
   "outputs": [],
   "source": [
    "test_pred = pd.DataFrame(test_pred)"
   ]
  },
  {
   "cell_type": "code",
   "execution_count": 30,
   "metadata": {},
   "outputs": [],
   "source": [
    "test_pred.columns = [\"User\",\"product\", \"score\", \"est\", \"details\"]"
   ]
  },
  {
   "cell_type": "code",
   "execution_count": 31,
   "metadata": {},
   "outputs": [],
   "source": [
    "test_pred=test_pred.reset_index()"
   ]
  },
  {
   "cell_type": "code",
   "execution_count": 32,
   "metadata": {},
   "outputs": [
    {
     "data": {
      "text/html": [
       "<div>\n",
       "<style scoped>\n",
       "    .dataframe tbody tr th:only-of-type {\n",
       "        vertical-align: middle;\n",
       "    }\n",
       "\n",
       "    .dataframe tbody tr th {\n",
       "        vertical-align: top;\n",
       "    }\n",
       "\n",
       "    .dataframe thead th {\n",
       "        text-align: right;\n",
       "    }\n",
       "</style>\n",
       "<table border=\"1\" class=\"dataframe\">\n",
       "  <thead>\n",
       "    <tr style=\"text-align: right;\">\n",
       "      <th></th>\n",
       "      <th>index</th>\n",
       "      <th>User</th>\n",
       "      <th>product</th>\n",
       "      <th>score</th>\n",
       "      <th>est</th>\n",
       "      <th>details</th>\n",
       "    </tr>\n",
       "  </thead>\n",
       "  <tbody>\n",
       "    <tr>\n",
       "      <th>0</th>\n",
       "      <td>0</td>\n",
       "      <td>?????????????? ????????????</td>\n",
       "      <td>Nokia 301 Dual Sim</td>\n",
       "      <td>8.0</td>\n",
       "      <td>6.171016</td>\n",
       "      <td>{'was_impossible': False}</td>\n",
       "    </tr>\n",
       "    <tr>\n",
       "      <th>1</th>\n",
       "      <td>1</td>\n",
       "      <td>ÐÐ½ÑÐ¾Ð½</td>\n",
       "      <td>Samsung Galaxy S7 edge</td>\n",
       "      <td>10.0</td>\n",
       "      <td>10.000000</td>\n",
       "      <td>{'was_impossible': False}</td>\n",
       "    </tr>\n",
       "    <tr>\n",
       "      <th>2</th>\n",
       "      <td>2</td>\n",
       "      <td>ÐÐ³Ð¾ÑÑ</td>\n",
       "      <td>Sony Xperia L (ÐºÑÐ°ÑÐ½ÑÐ¹)</td>\n",
       "      <td>10.0</td>\n",
       "      <td>9.087625</td>\n",
       "      <td>{'was_impossible': False}</td>\n",
       "    </tr>\n",
       "    <tr>\n",
       "      <th>3</th>\n",
       "      <td>3</td>\n",
       "      <td>Christopher</td>\n",
       "      <td>LG Octane VN530 Verizon CDMA Slider Cell Phone...</td>\n",
       "      <td>10.0</td>\n",
       "      <td>5.566633</td>\n",
       "      <td>{'was_impossible': False}</td>\n",
       "    </tr>\n",
       "    <tr>\n",
       "      <th>4</th>\n",
       "      <td>4</td>\n",
       "      <td>Amazon Customer</td>\n",
       "      <td>HTC Desire HD Smartphone (10,9 cm (4.3 Zoll) T...</td>\n",
       "      <td>2.0</td>\n",
       "      <td>5.681829</td>\n",
       "      <td>{'was_impossible': False}</td>\n",
       "    </tr>\n",
       "    <tr>\n",
       "      <th>...</th>\n",
       "      <td>...</td>\n",
       "      <td>...</td>\n",
       "      <td>...</td>\n",
       "      <td>...</td>\n",
       "      <td>...</td>\n",
       "      <td>...</td>\n",
       "    </tr>\n",
       "    <tr>\n",
       "      <th>10812</th>\n",
       "      <td>10812</td>\n",
       "      <td>giuseppe</td>\n",
       "      <td>Samsung I9301 Galaxy S III Neo Smartphone, 16 ...</td>\n",
       "      <td>10.0</td>\n",
       "      <td>8.206199</td>\n",
       "      <td>{'was_impossible': False}</td>\n",
       "    </tr>\n",
       "    <tr>\n",
       "      <th>10813</th>\n",
       "      <td>10813</td>\n",
       "      <td>Fabrizio</td>\n",
       "      <td>Microsoft Lumia 640 XL Smartphone, 8 GB, Bianc...</td>\n",
       "      <td>8.0</td>\n",
       "      <td>9.656266</td>\n",
       "      <td>{'was_impossible': False}</td>\n",
       "    </tr>\n",
       "    <tr>\n",
       "      <th>10814</th>\n",
       "      <td>10814</td>\n",
       "      <td>Amazon Customer</td>\n",
       "      <td>Samsung Galaxy S5 Unlocked Gsm Android Phone 4...</td>\n",
       "      <td>10.0</td>\n",
       "      <td>4.212970</td>\n",
       "      <td>{'was_impossible': False}</td>\n",
       "    </tr>\n",
       "    <tr>\n",
       "      <th>10815</th>\n",
       "      <td>10815</td>\n",
       "      <td>marco</td>\n",
       "      <td>Samsung Galaxy J5 Smartphone, Oro [Italia]</td>\n",
       "      <td>4.0</td>\n",
       "      <td>6.975123</td>\n",
       "      <td>{'was_impossible': False}</td>\n",
       "    </tr>\n",
       "    <tr>\n",
       "      <th>10816</th>\n",
       "      <td>10816</td>\n",
       "      <td>Vanessa</td>\n",
       "      <td>HTC Sensation XE Smartphone mit Beats Audio (1...</td>\n",
       "      <td>10.0</td>\n",
       "      <td>8.035198</td>\n",
       "      <td>{'was_impossible': False}</td>\n",
       "    </tr>\n",
       "  </tbody>\n",
       "</table>\n",
       "<p>10817 rows × 6 columns</p>\n",
       "</div>"
      ],
      "text/plain": [
       "       index                         User  \\\n",
       "0          0  ?????????????? ????????????   \n",
       "1          1                   ÐÐ½ÑÐ¾Ð½   \n",
       "2          2                   ÐÐ³Ð¾ÑÑ   \n",
       "3          3                  Christopher   \n",
       "4          4              Amazon Customer   \n",
       "...      ...                          ...   \n",
       "10812  10812                     giuseppe   \n",
       "10813  10813                     Fabrizio   \n",
       "10814  10814              Amazon Customer   \n",
       "10815  10815                        marco   \n",
       "10816  10816                      Vanessa   \n",
       "\n",
       "                                                 product  score        est  \\\n",
       "0                                     Nokia 301 Dual Sim    8.0   6.171016   \n",
       "1                                 Samsung Galaxy S7 edge   10.0  10.000000   \n",
       "2                         Sony Xperia L (ÐºÑÐ°ÑÐ½ÑÐ¹)   10.0   9.087625   \n",
       "3      LG Octane VN530 Verizon CDMA Slider Cell Phone...   10.0   5.566633   \n",
       "4      HTC Desire HD Smartphone (10,9 cm (4.3 Zoll) T...    2.0   5.681829   \n",
       "...                                                  ...    ...        ...   \n",
       "10812  Samsung I9301 Galaxy S III Neo Smartphone, 16 ...   10.0   8.206199   \n",
       "10813  Microsoft Lumia 640 XL Smartphone, 8 GB, Bianc...    8.0   9.656266   \n",
       "10814  Samsung Galaxy S5 Unlocked Gsm Android Phone 4...   10.0   4.212970   \n",
       "10815         Samsung Galaxy J5 Smartphone, Oro [Italia]    4.0   6.975123   \n",
       "10816  HTC Sensation XE Smartphone mit Beats Audio (1...   10.0   8.035198   \n",
       "\n",
       "                         details  \n",
       "0      {'was_impossible': False}  \n",
       "1      {'was_impossible': False}  \n",
       "2      {'was_impossible': False}  \n",
       "3      {'was_impossible': False}  \n",
       "4      {'was_impossible': False}  \n",
       "...                          ...  \n",
       "10812  {'was_impossible': False}  \n",
       "10813  {'was_impossible': False}  \n",
       "10814  {'was_impossible': False}  \n",
       "10815  {'was_impossible': False}  \n",
       "10816  {'was_impossible': False}  \n",
       "\n",
       "[10817 rows x 6 columns]"
      ]
     },
     "execution_count": 32,
     "metadata": {},
     "output_type": "execute_result"
    }
   ],
   "source": [
    "test_pred"
   ]
  },
  {
   "cell_type": "markdown",
   "metadata": {},
   "source": [
    "Check top 5 Recommendations for particular user"
   ]
  },
  {
   "cell_type": "code",
   "execution_count": 33,
   "metadata": {},
   "outputs": [],
   "source": [
    "def get_recommendations(userid,num):\n",
    "    user_rec = test_pred[test_pred['User'] == 'Amazon Customer'][['User','product','score','est']].sort_values(by = 'est', ascending =False).head(num)\n",
    "    return user_rec"
   ]
  },
  {
   "cell_type": "code",
   "execution_count": 34,
   "metadata": {},
   "outputs": [
    {
     "data": {
      "text/html": [
       "<div>\n",
       "<style scoped>\n",
       "    .dataframe tbody tr th:only-of-type {\n",
       "        vertical-align: middle;\n",
       "    }\n",
       "\n",
       "    .dataframe tbody tr th {\n",
       "        vertical-align: top;\n",
       "    }\n",
       "\n",
       "    .dataframe thead th {\n",
       "        text-align: right;\n",
       "    }\n",
       "</style>\n",
       "<table border=\"1\" class=\"dataframe\">\n",
       "  <thead>\n",
       "    <tr style=\"text-align: right;\">\n",
       "      <th></th>\n",
       "      <th>User</th>\n",
       "      <th>product</th>\n",
       "      <th>score</th>\n",
       "      <th>est</th>\n",
       "    </tr>\n",
       "  </thead>\n",
       "  <tbody>\n",
       "    <tr>\n",
       "      <th>4701</th>\n",
       "      <td>Amazon Customer</td>\n",
       "      <td>HTC Desire C Sim Free Smartphone - White</td>\n",
       "      <td>2.0</td>\n",
       "      <td>10.000000</td>\n",
       "    </tr>\n",
       "    <tr>\n",
       "      <th>6850</th>\n",
       "      <td>Amazon Customer</td>\n",
       "      <td>Samsung Giorgio Armani Galaxy S I9010 Smartpho...</td>\n",
       "      <td>8.0</td>\n",
       "      <td>10.000000</td>\n",
       "    </tr>\n",
       "    <tr>\n",
       "      <th>2524</th>\n",
       "      <td>Amazon Customer</td>\n",
       "      <td>Nokia Asha 220 2.4 inch Sim Free Mobile Phone ...</td>\n",
       "      <td>2.0</td>\n",
       "      <td>10.000000</td>\n",
       "    </tr>\n",
       "    <tr>\n",
       "      <th>10716</th>\n",
       "      <td>Amazon Customer</td>\n",
       "      <td>BLU Studio 6.0 HD Smartphone - GSM Unlocked - ...</td>\n",
       "      <td>2.0</td>\n",
       "      <td>9.994923</td>\n",
       "    </tr>\n",
       "    <tr>\n",
       "      <th>3992</th>\n",
       "      <td>Amazon Customer</td>\n",
       "      <td>Motorola Moto X 32GB Developer Editon - Verizo...</td>\n",
       "      <td>8.0</td>\n",
       "      <td>9.982397</td>\n",
       "    </tr>\n",
       "  </tbody>\n",
       "</table>\n",
       "</div>"
      ],
      "text/plain": [
       "                  User                                            product  \\\n",
       "4701   Amazon Customer           HTC Desire C Sim Free Smartphone - White   \n",
       "6850   Amazon Customer  Samsung Giorgio Armani Galaxy S I9010 Smartpho...   \n",
       "2524   Amazon Customer  Nokia Asha 220 2.4 inch Sim Free Mobile Phone ...   \n",
       "10716  Amazon Customer  BLU Studio 6.0 HD Smartphone - GSM Unlocked - ...   \n",
       "3992   Amazon Customer  Motorola Moto X 32GB Developer Editon - Verizo...   \n",
       "\n",
       "       score        est  \n",
       "4701     2.0  10.000000  \n",
       "6850     8.0  10.000000  \n",
       "2524     2.0  10.000000  \n",
       "10716    2.0   9.994923  \n",
       "3992     8.0   9.982397  "
      ]
     },
     "execution_count": 34,
     "metadata": {},
     "output_type": "execute_result"
    }
   ],
   "source": [
    "get_recommendations('Amazon Customer',5)"
   ]
  },
  {
   "cell_type": "code",
   "execution_count": 35,
   "metadata": {},
   "outputs": [],
   "source": [
    "def get_recommendations(userid,num):\n",
    "    user_rec = test_pred[test_pred['User'] == 'Cliente Amazon'][['User','product','score','est']].sort_values(by = 'est', ascending =False).head(num)\n",
    "    return user_rec"
   ]
  },
  {
   "cell_type": "code",
   "execution_count": 36,
   "metadata": {},
   "outputs": [
    {
     "data": {
      "text/html": [
       "<div>\n",
       "<style scoped>\n",
       "    .dataframe tbody tr th:only-of-type {\n",
       "        vertical-align: middle;\n",
       "    }\n",
       "\n",
       "    .dataframe tbody tr th {\n",
       "        vertical-align: top;\n",
       "    }\n",
       "\n",
       "    .dataframe thead th {\n",
       "        text-align: right;\n",
       "    }\n",
       "</style>\n",
       "<table border=\"1\" class=\"dataframe\">\n",
       "  <thead>\n",
       "    <tr style=\"text-align: right;\">\n",
       "      <th></th>\n",
       "      <th>User</th>\n",
       "      <th>product</th>\n",
       "      <th>score</th>\n",
       "      <th>est</th>\n",
       "    </tr>\n",
       "  </thead>\n",
       "  <tbody>\n",
       "    <tr>\n",
       "      <th>8282</th>\n",
       "      <td>Cliente Amazon</td>\n",
       "      <td>Samsung Galaxy S III Smartphone, Bianco [Italia]</td>\n",
       "      <td>8.0</td>\n",
       "      <td>9.087881</td>\n",
       "    </tr>\n",
       "    <tr>\n",
       "      <th>7834</th>\n",
       "      <td>Cliente Amazon</td>\n",
       "      <td>Xiaomi RedMi Note 4 G - Smartphone libre Andro...</td>\n",
       "      <td>2.0</td>\n",
       "      <td>9.052351</td>\n",
       "    </tr>\n",
       "    <tr>\n",
       "      <th>3805</th>\n",
       "      <td>Cliente Amazon</td>\n",
       "      <td>Xiaomi RedMi Note 4 G - Smartphone libre Andro...</td>\n",
       "      <td>8.0</td>\n",
       "      <td>9.052351</td>\n",
       "    </tr>\n",
       "    <tr>\n",
       "      <th>182</th>\n",
       "      <td>Cliente Amazon</td>\n",
       "      <td>Xiaomi RedMi Note 4 G - Smartphone libre Andro...</td>\n",
       "      <td>4.0</td>\n",
       "      <td>9.052351</td>\n",
       "    </tr>\n",
       "    <tr>\n",
       "      <th>10247</th>\n",
       "      <td>Cliente Amazon</td>\n",
       "      <td>Samsung Galaxy S5 - Smartphone libre Android (...</td>\n",
       "      <td>2.0</td>\n",
       "      <td>8.881406</td>\n",
       "    </tr>\n",
       "  </tbody>\n",
       "</table>\n",
       "</div>"
      ],
      "text/plain": [
       "                 User                                            product  \\\n",
       "8282   Cliente Amazon   Samsung Galaxy S III Smartphone, Bianco [Italia]   \n",
       "7834   Cliente Amazon  Xiaomi RedMi Note 4 G - Smartphone libre Andro...   \n",
       "3805   Cliente Amazon  Xiaomi RedMi Note 4 G - Smartphone libre Andro...   \n",
       "182    Cliente Amazon  Xiaomi RedMi Note 4 G - Smartphone libre Andro...   \n",
       "10247  Cliente Amazon  Samsung Galaxy S5 - Smartphone libre Android (...   \n",
       "\n",
       "       score       est  \n",
       "8282     8.0  9.087881  \n",
       "7834     2.0  9.052351  \n",
       "3805     8.0  9.052351  \n",
       "182      4.0  9.052351  \n",
       "10247    2.0  8.881406  "
      ]
     },
     "execution_count": 36,
     "metadata": {},
     "output_type": "execute_result"
    }
   ],
   "source": [
    "get_recommendations('Cliente Amazon',5) "
   ]
  },
  {
   "cell_type": "code",
   "execution_count": 37,
   "metadata": {},
   "outputs": [],
   "source": [
    "def get_recommendations(userid,num):\n",
    "    user_rec = test_pred[test_pred['User'] == 'Gaurav'][['User','product','score','est']].sort_values(by = 'est', ascending =False).head(num)\n",
    "    return user_rec"
   ]
  },
  {
   "cell_type": "code",
   "execution_count": 38,
   "metadata": {},
   "outputs": [
    {
     "data": {
      "text/html": [
       "<div>\n",
       "<style scoped>\n",
       "    .dataframe tbody tr th:only-of-type {\n",
       "        vertical-align: middle;\n",
       "    }\n",
       "\n",
       "    .dataframe tbody tr th {\n",
       "        vertical-align: top;\n",
       "    }\n",
       "\n",
       "    .dataframe thead th {\n",
       "        text-align: right;\n",
       "    }\n",
       "</style>\n",
       "<table border=\"1\" class=\"dataframe\">\n",
       "  <thead>\n",
       "    <tr style=\"text-align: right;\">\n",
       "      <th></th>\n",
       "      <th>User</th>\n",
       "      <th>product</th>\n",
       "      <th>score</th>\n",
       "      <th>est</th>\n",
       "    </tr>\n",
       "  </thead>\n",
       "  <tbody>\n",
       "    <tr>\n",
       "      <th>5310</th>\n",
       "      <td>Gaurav</td>\n",
       "      <td>Nokia Lumia 520 (White)</td>\n",
       "      <td>10.0</td>\n",
       "      <td>9.589163</td>\n",
       "    </tr>\n",
       "    <tr>\n",
       "      <th>9218</th>\n",
       "      <td>Gaurav</td>\n",
       "      <td>Mi 4i (White, 16GB)</td>\n",
       "      <td>8.0</td>\n",
       "      <td>9.126924</td>\n",
       "    </tr>\n",
       "    <tr>\n",
       "      <th>1673</th>\n",
       "      <td>Gaurav</td>\n",
       "      <td>Samsung Galaxy J7 SM-J700F (Black, 16GB)</td>\n",
       "      <td>10.0</td>\n",
       "      <td>8.943269</td>\n",
       "    </tr>\n",
       "    <tr>\n",
       "      <th>1384</th>\n",
       "      <td>Gaurav</td>\n",
       "      <td>OnePlus 3 (Graphite, 64 GB)</td>\n",
       "      <td>10.0</td>\n",
       "      <td>8.166844</td>\n",
       "    </tr>\n",
       "    <tr>\n",
       "      <th>3458</th>\n",
       "      <td>Gaurav</td>\n",
       "      <td>OnePlus 3T (Soft Gold, 6GB RAM + 64GB memory)</td>\n",
       "      <td>10.0</td>\n",
       "      <td>7.680302</td>\n",
       "    </tr>\n",
       "  </tbody>\n",
       "</table>\n",
       "</div>"
      ],
      "text/plain": [
       "        User                                        product  score       est\n",
       "5310  Gaurav                        Nokia Lumia 520 (White)   10.0  9.589163\n",
       "9218  Gaurav                            Mi 4i (White, 16GB)    8.0  9.126924\n",
       "1673  Gaurav       Samsung Galaxy J7 SM-J700F (Black, 16GB)   10.0  8.943269\n",
       "1384  Gaurav                    OnePlus 3 (Graphite, 64 GB)   10.0  8.166844\n",
       "3458  Gaurav  OnePlus 3T (Soft Gold, 6GB RAM + 64GB memory)   10.0  7.680302"
      ]
     },
     "execution_count": 38,
     "metadata": {},
     "output_type": "execute_result"
    }
   ],
   "source": [
    "get_recommendations('Gaurav',5)"
   ]
  },
  {
   "cell_type": "markdown",
   "metadata": {},
   "source": [
    "# Lets fit the Knn model and check RMSE"
   ]
  },
  {
   "cell_type": "code",
   "execution_count": 39,
   "metadata": {},
   "outputs": [],
   "source": [
    "from surprise import KNNWithMeans\n",
    "from surprise import accuracy"
   ]
  },
  {
   "cell_type": "code",
   "execution_count": 40,
   "metadata": {},
   "outputs": [
    {
     "name": "stdout",
     "output_type": "stream",
     "text": [
      "Estimating biases using als...\n",
      "Computing the pearson_baseline similarity matrix...\n",
      "Done computing similarity matrix.\n"
     ]
    },
    {
     "data": {
      "text/plain": [
       "<surprise.prediction_algorithms.knns.KNNWithMeans at 0x1c7607388c8>"
      ]
     },
     "execution_count": 40,
     "metadata": {},
     "output_type": "execute_result"
    }
   ],
   "source": [
    "KNNalgo = KNNWithMeans(k=50, sim_options={'name': 'pearson_baseline', 'user_based': True})\n",
    "KNNalgo.fit(trainset)"
   ]
  },
  {
   "cell_type": "markdown",
   "metadata": {},
   "source": [
    "Check Train Set Accuracy"
   ]
  },
  {
   "cell_type": "code",
   "execution_count": 41,
   "metadata": {},
   "outputs": [
    {
     "name": "stdout",
     "output_type": "stream",
     "text": [
      "Item-based Model : Training Set\n",
      "RMSE: 1.4368\n"
     ]
    },
    {
     "data": {
      "text/plain": [
       "1.4368123171923413"
      ]
     },
     "execution_count": 41,
     "metadata": {},
     "output_type": "execute_result"
    }
   ],
   "source": [
    "print(\"Item-based Model : Training Set\")\n",
    "KNNtrain_pred = KNNalgo.test(trainset.build_testset())\n",
    "accuracy.rmse(KNNtrain_pred)"
   ]
  },
  {
   "cell_type": "code",
   "execution_count": 42,
   "metadata": {},
   "outputs": [],
   "source": [
    "KNNtest_pred = KNNalgo.test(testset)"
   ]
  },
  {
   "cell_type": "markdown",
   "metadata": {},
   "source": [
    "Check Test Set Accuracy"
   ]
  },
  {
   "cell_type": "code",
   "execution_count": 44,
   "metadata": {},
   "outputs": [
    {
     "name": "stdout",
     "output_type": "stream",
     "text": [
      "Item-based Model : Test Set\n",
      "RMSE: 3.2022\n"
     ]
    },
    {
     "data": {
      "text/plain": [
       "3.202192327500517"
      ]
     },
     "execution_count": 44,
     "metadata": {},
     "output_type": "execute_result"
    }
   ],
   "source": [
    "print(\"Item-based Model : Test Set\")\n",
    "accuracy.rmse(KNNtest_pred, verbose=True)"
   ]
  },
  {
   "cell_type": "markdown",
   "metadata": {},
   "source": [
    "# When to use Popularity based Recommendation system"
   ]
  },
  {
   "cell_type": "markdown",
   "metadata": {},
   "source": [
    "Easiest way to build a recommendation system is popularity based, simply over all the products that are popular, So how to identify popular products, which could be identified by which are all the products that are bought most,\n",
    "\n",
    "Example, In shopping store we can suggest popular dresses by purchase count."
   ]
  },
  {
   "cell_type": "markdown",
   "metadata": {},
   "source": [
    "1. When we have new coustomers and dont have enough info about them.\n",
    "2. when a user is always focused on popular items."
   ]
  },
  {
   "cell_type": "markdown",
   "metadata": {},
   "source": [
    "# When to use Collaborative filtering Recommendation system"
   ]
  },
  {
   "cell_type": "markdown",
   "metadata": {},
   "source": [
    "User-based:\n",
    "\n",
    "Find the users who have similar taste of products as the current user , similarity is based on purchasing behavior of the user, so based on the neighbor purchasing behavior we can recommend items to the current user."
   ]
  },
  {
   "cell_type": "markdown",
   "metadata": {},
   "source": [
    "Item-based:\n",
    "\n",
    "Recommend Items that are similar to the item user bought,similarity is based on co-occurrences of purchases"
   ]
  },
  {
   "cell_type": "markdown",
   "metadata": {},
   "source": [
    "# What other possible methods can you think of which can further improve the recommendation for different users?"
   ]
  },
  {
   "cell_type": "markdown",
   "metadata": {},
   "source": [
    "1. To recommend the produtucts on same price range track, the spending of a user on particular product compare it with the min and max range of price of that product and with the help of collaborative filtering recommend the product of user price range."
   ]
  },
  {
   "cell_type": "code",
   "execution_count": null,
   "metadata": {},
   "outputs": [],
   "source": []
  }
 ],
 "metadata": {
  "kernelspec": {
   "display_name": "Python 3",
   "language": "python",
   "name": "python3"
  },
  "language_info": {
   "codemirror_mode": {
    "name": "ipython",
    "version": 3
   },
   "file_extension": ".py",
   "mimetype": "text/x-python",
   "name": "python",
   "nbconvert_exporter": "python",
   "pygments_lexer": "ipython3",
   "version": "3.7.6"
  }
 },
 "nbformat": 4,
 "nbformat_minor": 4
}
